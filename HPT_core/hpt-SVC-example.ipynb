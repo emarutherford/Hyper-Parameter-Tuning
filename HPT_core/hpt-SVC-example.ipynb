{
 "cells": [
  {
   "cell_type": "markdown",
   "metadata": {
    "collapsed": true
   },
   "source": [
    "# Hyperparameter Tuning Methods Comparison\n",
    "Cross validation approach based on the following [repo](https://github.com/roamanalytics/roamresearch/tree/master/BlogPosts/Hyperparameter_tuning_comparison)"
   ]
  },
  {
   "cell_type": "code",
   "execution_count": 23,
   "metadata": {
    "scrolled": true
   },
   "outputs": [],
   "source": [
    "%matplotlib inline"
   ]
  },
  {
   "cell_type": "code",
   "execution_count": 24,
   "metadata": {
    "collapsed": true
   },
   "outputs": [],
   "source": [
    "from hpt_cmp import *"
   ]
  },
  {
   "cell_type": "code",
   "execution_count": 25,
   "metadata": {},
   "outputs": [
    {
     "name": "stdout",
     "output_type": "stream",
     "text": [
      "The autoreload extension is already loaded. To reload it, use:\n",
      "  %reload_ext autoreload\n"
     ]
    }
   ],
   "source": [
    "%load_ext autoreload\n",
    "%aimport hpt_cmp\n",
    "%autoreload 1"
   ]
  },
  {
   "cell_type": "code",
   "execution_count": null,
   "metadata": {
    "collapsed": true
   },
   "outputs": [],
   "source": []
  },
  {
   "cell_type": "code",
   "execution_count": 34,
   "metadata": {
    "collapsed": true
   },
   "outputs": [],
   "source": [
    "from __future__ import print_function\n",
    "from sklearn.metrics import accuracy_score\n",
    "from sklearn.svm import SVC"
   ]
  },
  {
   "cell_type": "code",
   "execution_count": 35,
   "metadata": {
    "collapsed": true
   },
   "outputs": [],
   "source": [
    "# Loading the Digits dataset\n",
    "digits = datasets.load_digits()\n",
    "\n",
    "# To apply an classifier on this data, we need to flatten the image, to\n",
    "# turn the data in a (samples, feature) matrix:\n"
   ]
  },
  {
   "cell_type": "code",
   "execution_count": 36,
   "metadata": {},
   "outputs": [],
   "source": [
    "param_grid = {\n",
    "    'C': [1, 10, 100, 1000],  \n",
    "    'gamma': [0.001, 0.0001],\n",
    "    'kernel': ['linear', 'rbf']\n",
    "}\n",
    "\n",
    "hyperopt_grid = {\n",
    "    'C': hp.choice('C', [1, 10, 100, 1000]),\n",
    "    'gamma': hp.choice('gamma', [0.001,0.001]),\n",
    "    'kernel': hp.choice('kernel', ['linear', 'rbf'])\n",
    "}"
   ]
  },
  {
   "cell_type": "code",
   "execution_count": 37,
   "metadata": {},
   "outputs": [
    {
     "data": {
      "text/plain": [
       "[DotMap(name='Tree of Parzen Estimator', cv=<function tpe_search at 0x7f03f4e3f9d8>, param_grid=DotMap(C=<hyperopt.pyll.base.Apply object at 0x7f03f4ddea58>, gamma=<hyperopt.pyll.base.Apply object at 0x7f03f4ddeda0>, kernel=<hyperopt.pyll.base.Apply object at 0x7f03f4ddef28>), args=DotMap()),\n",
       " DotMap(name='RandomSearch', cv=<function random_search at 0x7f03f4e3f950>, param_grid=DotMap(C=[1, 10, 100, 1000], gamma=[0.001, 0.0001], kernel=['linear', 'rbf']), args=DotMap()),\n",
       " DotMap(name='GridSearch', cv=<function grid_search at 0x7f03f4e3f8c8>, param_grid=DotMap(C=[1, 10, 100, 1000], gamma=[0.001, 0.0001], kernel=['linear', 'rbf']), args=DotMap()),\n",
       " DotMap(name='Baseline', cv=<function run_baseline at 0x7f03f4e3fa60>, param_grid=DotMap(C=1, gamma=0.01, kernel='rbf'), args=DotMap())]"
      ]
     },
     "execution_count": 37,
     "metadata": {},
     "output_type": "execute_result"
    }
   ],
   "source": [
    "hpt_objs = [\n",
    "    # add more objs once more search functions implemented\n",
    "    \n",
    "    {\n",
    "        'name': 'Tree of Parzen Estimator',\n",
    "        'cv' : tpe_search,\n",
    "        'param_grid': hyperopt_grid,\n",
    "        'args': {}\n",
    "    },\n",
    "    {\n",
    "        'name': 'RandomSearch',\n",
    "        'cv' : random_search,\n",
    "        'param_grid': param_grid,\n",
    "        'args': {}\n",
    "    },\n",
    "    {\n",
    "        'name': 'GridSearch',\n",
    "        'cv': grid_search,\n",
    "        'param_grid': param_grid,\n",
    "        'args' : {}\n",
    "    },\n",
    "    {\n",
    "        'name': 'Baseline',\n",
    "        'cv': run_baseline,\n",
    "        'param_grid' : {'C': 1, 'gamma': 0.001, 'kernel': 'rbf'},\n",
    "        # {}, # use default config\n",
    "        'args': {}\n",
    "    }\n",
    "]\n",
    "\n",
    "hpt_objs = [DotMap(obj, _dynamic=False) for obj in hpt_objs ]\n",
    "hpt_objs"
   ]
  },
  {
   "cell_type": "markdown",
   "metadata": {},
   "source": [
    "#### cmp_hpt_methods\n",
    "Parameter description\n",
    "> `htp_objs`: list of hyperparam-tuning object <br>\n",
    "> `model`: sklearn model to optimize (needs to have fit/predict function)<br>\n",
    "> `dataset`: tuple of (X,y) e.g (Data, Target) <br>\n",
    "> `loss`: sklearn loss function to user <br>\n",
    "> `metric`: sklearn metric to optimize for <br>\n",
    "> `datset_split`: random_state for datasetsplit <br>\n",
    "> `name`: currently not user *optional* <br>"
   ]
  },
  {
   "cell_type": "code",
   "execution_count": 43,
   "metadata": {
    "scrolled": false
   },
   "outputs": [
    {
     "name": "stdout",
     "output_type": "stream",
     "text": [
      "Start\n",
      "HTP using Tree of Parzen Estimator\n"
     ]
    },
    {
     "data": {
      "application/vnd.jupyter.widget-view+json": {
       "model_id": "1c38bd4b24194b00861ef561a2705202",
       "version_major": 2,
       "version_minor": 0
      },
      "text/plain": [
       "HBox(children=(IntProgress(value=0, max=2), HTML(value='')))"
      ]
     },
     "metadata": {},
     "output_type": "display_data"
    },
    {
     "name": "stdout",
     "output_type": "stream",
     "text": [
      "Tree of Parzen Estimator\n",
      "{'C': 1, 'gamma': 0.001, 'kernel': 'rbf'}\n",
      "Tree of Parzen Estimator\n",
      "{'C': 100, 'gamma': 0.001, 'kernel': 'rbf'}\n",
      "\n",
      "[0.9567147613762487, 0.9665178571428571]\n",
      "[7.604509592056274, 7.9029436111450195]\n",
      "[100, 100]\n",
      "HTP using RandomSearch\n"
     ]
    },
    {
     "data": {
      "application/vnd.jupyter.widget-view+json": {
       "model_id": "cf2430bf14c245abaab716ccd1a5b80c",
       "version_major": 2,
       "version_minor": 0
      },
      "text/plain": [
       "HBox(children=(IntProgress(value=0, max=2), HTML(value='')))"
      ]
     },
     "metadata": {},
     "output_type": "display_data"
    },
    {
     "name": "stdout",
     "output_type": "stream",
     "text": [
      "RandomSearch\n",
      "{'kernel': 'rbf', 'gamma': 0.001, 'C': 1000}\n",
      "RandomSearch\n",
      "{'kernel': 'rbf', 'gamma': 0.001, 'C': 10}\n",
      "\n",
      "[0.9589345172031076, 0.9665178571428571]\n",
      "[0.9106543064117432, 0.7189202308654785]\n",
      "[10, 10]\n",
      "HTP using GridSearch\n"
     ]
    },
    {
     "data": {
      "application/vnd.jupyter.widget-view+json": {
       "model_id": "ea1d5a694d9b4c2daab494c2ff48a95b",
       "version_major": 2,
       "version_minor": 0
      },
      "text/plain": [
       "HBox(children=(IntProgress(value=0, max=2), HTML(value='')))"
      ]
     },
     "metadata": {},
     "output_type": "display_data"
    },
    {
     "name": "stdout",
     "output_type": "stream",
     "text": [
      "GridSearch\n",
      "{'C': 10, 'gamma': 0.001, 'kernel': 'rbf'}\n",
      "GridSearch\n",
      "{'C': 10, 'gamma': 0.001, 'kernel': 'rbf'}\n",
      "\n",
      "[0.9589345172031076, 0.9665178571428571]\n",
      "[1.2330317497253418, 1.2664835453033447]\n",
      "[16, 16]\n",
      "HTP using Baseline\n"
     ]
    },
    {
     "data": {
      "application/vnd.jupyter.widget-view+json": {
       "model_id": "42c1acf968fd42ca92c0d1009f08622a",
       "version_major": 2,
       "version_minor": 0
      },
      "text/plain": [
       "HBox(children=(IntProgress(value=0, max=2), HTML(value='')))"
      ]
     },
     "metadata": {},
     "output_type": "display_data"
    },
    {
     "name": "stdout",
     "output_type": "stream",
     "text": [
      "Baseline\n",
      "{'C': 1, 'gamma': 0.01, 'kernel': 'rbf'}\n",
      "Baseline\n",
      "{'C': 1, 'gamma': 0.01, 'kernel': 'rbf'}\n",
      "\n",
      "[0.586015538290788, 0.6785714285714286]\n",
      "[0.154191255569458, 0.14970946311950684]\n",
      "[1, 1]\n"
     ]
    },
    {
     "data": {
      "text/plain": [
       "[{'Model': 'SVC',\n",
       "  'Hyper optimization method': 'Tree of Parzen Estimator',\n",
       "  'Test accuracy': [0.9567147613762487, 0.9665178571428571],\n",
       "  'Best Parameters': [{'C': 1, 'gamma': 0.001, 'kernel': 'rbf'},\n",
       "   {'C': 100, 'gamma': 0.001, 'kernel': 'rbf'}],\n",
       "  'Parameters sampled': [100, 100],\n",
       "  'Cross validation time (in s)': [7.604509592056274, 7.9029436111450195],\n",
       "  'Mean Test accuracy': 0.9616163092595529,\n",
       "  'Mean Cross validation time (in s)': 7.753726601600647,\n",
       "  'Mean Parameters sampled': 100.0},\n",
       " {'Model': 'SVC',\n",
       "  'Hyper optimization method': 'RandomSearch',\n",
       "  'Test accuracy': [0.9589345172031076, 0.9665178571428571],\n",
       "  'Best Parameters': [{'kernel': 'rbf', 'gamma': 0.001, 'C': 1000},\n",
       "   {'kernel': 'rbf', 'gamma': 0.001, 'C': 10}],\n",
       "  'Parameters sampled': [10, 10],\n",
       "  'Cross validation time (in s)': [0.9106543064117432, 0.7189202308654785],\n",
       "  'Mean Test accuracy': 0.9627261871729824,\n",
       "  'Mean Cross validation time (in s)': 0.8147872686386108,\n",
       "  'Mean Parameters sampled': 10.0},\n",
       " {'Model': 'SVC',\n",
       "  'Hyper optimization method': 'GridSearch',\n",
       "  'Test accuracy': [0.9589345172031076, 0.9665178571428571],\n",
       "  'Best Parameters': [{'C': 10, 'gamma': 0.001, 'kernel': 'rbf'},\n",
       "   {'C': 10, 'gamma': 0.001, 'kernel': 'rbf'}],\n",
       "  'Parameters sampled': [16, 16],\n",
       "  'Cross validation time (in s)': [1.2330317497253418, 1.2664835453033447],\n",
       "  'Mean Test accuracy': 0.9627261871729824,\n",
       "  'Mean Cross validation time (in s)': 1.2497576475143433,\n",
       "  'Mean Parameters sampled': 16.0},\n",
       " {'Model': 'SVC',\n",
       "  'Hyper optimization method': 'Baseline',\n",
       "  'Test accuracy': [0.586015538290788, 0.6785714285714286],\n",
       "  'Best Parameters': [{'C': 1, 'gamma': 0.01, 'kernel': 'rbf'},\n",
       "   {'C': 1, 'gamma': 0.01, 'kernel': 'rbf'}],\n",
       "  'Parameters sampled': [1, 1],\n",
       "  'Cross validation time (in s)': [0.154191255569458, 0.14970946311950684],\n",
       "  'Mean Test accuracy': 0.6322934834311082,\n",
       "  'Mean Cross validation time (in s)': 0.15195035934448242,\n",
       "  'Mean Parameters sampled': 1.0}]"
      ]
     },
     "execution_count": 43,
     "metadata": {},
     "output_type": "execute_result"
    }
   ],
   "source": [
    "# Run search & print result\n",
    "results = cmp_hpt_methods(\n",
    "    hpt_objs,\n",
    "    SVC,\n",
    "    (digits.data, digits.target),\n",
    "    'log_loss',\n",
    "    accuracy_score)\n",
    "results"
   ]
  },
  {
   "cell_type": "code",
   "execution_count": null,
   "metadata": {
    "scrolled": true
   },
   "outputs": [],
   "source": []
  },
  {
   "cell_type": "code",
   "execution_count": null,
   "metadata": {
    "collapsed": true
   },
   "outputs": [],
   "source": []
  },
  {
   "cell_type": "code",
   "execution_count": null,
   "metadata": {
    "collapsed": true
   },
   "outputs": [],
   "source": []
  },
  {
   "cell_type": "code",
   "execution_count": null,
   "metadata": {
    "collapsed": true
   },
   "outputs": [],
   "source": []
  },
  {
   "cell_type": "code",
   "execution_count": null,
   "metadata": {
    "collapsed": true
   },
   "outputs": [],
   "source": []
  },
  {
   "cell_type": "code",
   "execution_count": null,
   "metadata": {
    "collapsed": true
   },
   "outputs": [],
   "source": []
  }
 ],
 "metadata": {
  "kernelspec": {
   "display_name": "Python 3",
   "language": "python",
   "name": "python3"
  },
  "language_info": {
   "codemirror_mode": {
    "name": "ipython",
    "version": 3
   },
   "file_extension": ".py",
   "mimetype": "text/x-python",
   "name": "python",
   "nbconvert_exporter": "python",
   "pygments_lexer": "ipython3",
   "version": "3.6.6"
  }
 },
 "nbformat": 4,
 "nbformat_minor": 2
}
