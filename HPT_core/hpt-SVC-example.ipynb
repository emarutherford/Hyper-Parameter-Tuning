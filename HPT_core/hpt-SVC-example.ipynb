{
 "cells": [
  {
   "cell_type": "markdown",
   "metadata": {
    "collapsed": true
   },
   "source": [
    "# Hyperparameter Tuning Methods Comparison\n",
    "Cross validation approach based on the following [repo](https://github.com/roamanalytics/roamresearch/tree/master/BlogPosts/Hyperparameter_tuning_comparison)"
   ]
  },
  {
   "cell_type": "code",
   "execution_count": 196,
   "metadata": {
    "scrolled": true
   },
   "outputs": [],
   "source": [
    "%matplotlib inline"
   ]
  },
  {
   "cell_type": "code",
   "execution_count": 215,
   "metadata": {},
   "outputs": [],
   "source": [
    "import dataset_loader as datasets\n",
    "from hpt_cmp import *"
   ]
  },
  {
   "cell_type": "code",
   "execution_count": 216,
   "metadata": {},
   "outputs": [
    {
     "name": "stdout",
     "output_type": "stream",
     "text": [
      "The autoreload extension is already loaded. To reload it, use:\n",
      "  %reload_ext autoreload\n"
     ]
    }
   ],
   "source": [
    "%load_ext autoreload\n",
    "%aimport hpt_cmp\n",
    "%aimport dataset_loader\n",
    "%autoreload 2"
   ]
  },
  {
   "cell_type": "code",
   "execution_count": null,
   "metadata": {
    "collapsed": true
   },
   "outputs": [],
   "source": []
  },
  {
   "cell_type": "code",
   "execution_count": 217,
   "metadata": {
    "collapsed": true
   },
   "outputs": [],
   "source": [
    "from __future__ import print_function\n",
    "from sklearn.metrics import accuracy_score\n",
    "from sklearn.svm import SVC"
   ]
  },
  {
   "cell_type": "code",
   "execution_count": 218,
   "metadata": {},
   "outputs": [],
   "source": [
    "# Loading the Digits dataset\n",
    "mth = 'load_'+'digits'\n",
    "digits = datasets.load_digits()\n",
    "iris = datasets.load_iris()\n",
    "wine = datasets.load_wine()\n",
    "bc = datasets.load_breast_cancer()\n",
    "cs = datasets.load_census_50k()\n",
    "\n",
    "all_datasets = [cs]\n",
    "# To apply an classifier on this data, we need to flatten the image, to\n",
    "# turn the data in a (samples, feature) matrix:"
   ]
  },
  {
   "cell_type": "code",
   "execution_count": 219,
   "metadata": {},
   "outputs": [],
   "source": [
    "param_grid = {\n",
    "    'C': [0.1, 1, 10, 100, 1000],  \n",
    "    'gamma': [0.0001, 0.001, 0.01, 0.1, 1.0],\n",
    "    'kernel': ['linear', 'rbf']\n",
    "}\n",
    "\n",
    "bayes_grid ={\n",
    "     'C': (0.1, 100, 'log-uniform'),\n",
    "    'gamma': (0.0001, 1, 'log-uniform'),\n",
    "        'kernel': ['linear', 'rbf']\n",
    "}\n",
    "\n",
    "hyperopt_grid = {\n",
    "    'C': hp.choice('C', [0.1, 1, 10, 100, 1000]),\n",
    "    'gamma': hp.choice('gamma',[0.0001, 0.001, 0.01, 0.1, 1.0]),\n",
    "    'kernel': hp.choice('kernel', ['linear', 'rbf'])\n",
    "}"
   ]
  },
  {
   "cell_type": "code",
   "execution_count": 220,
   "metadata": {},
   "outputs": [
    {
     "data": {
      "text/plain": [
       "[DotMap(name='Baseline', cv=<function run_baseline at 0x7fc7cfd59400>, param_grid=DotMap(C=1, gamma=0.0001, kernel='rbf'), args=DotMap()),\n",
       " DotMap(name='BaysianSearch', cv=<function baysian_search at 0x7fc7c5ab6598>, param_grid=DotMap(C=(0.1, 100, 'log-uniform'), gamma=(0.0001, 1, 'log-uniform'), kernel=['linear', 'rbf']), args=DotMap(n_iter=10)),\n",
       " DotMap(name='Tree of Parzen Estimator', cv=<function tpe_search at 0x7fc7c5ab6378>, param_grid=DotMap(C=<hyperopt.pyll.base.Apply object at 0x7fc7c589d908>, gamma=<hyperopt.pyll.base.Apply object at 0x7fc7c589d9b0>, kernel=<hyperopt.pyll.base.Apply object at 0x7fc7c589d358>), args=DotMap()),\n",
       " DotMap(name='RandomSearch', cv=<function random_search at 0x7fc7c5ab68c8>, param_grid=DotMap(C=[0.1, 1, 10, 100, 1000], gamma=[0.0001, 0.001, 0.01, 0.1, 1.0], kernel=['linear', 'rbf']), args=DotMap(n_iter=10)),\n",
       " DotMap(name='GridSearch', cv=<function grid_search at 0x7fc7c5ab6730>, param_grid=DotMap(C=[0.1, 1, 10, 100, 1000], gamma=[0.0001, 0.001, 0.01, 0.1, 1.0], kernel=['linear', 'rbf']), args=DotMap())]"
      ]
     },
     "execution_count": 220,
     "metadata": {},
     "output_type": "execute_result"
    }
   ],
   "source": [
    "hpt_objs = [\n",
    "    # add more objs once more search functions implemented\n",
    "        {\n",
    "        'name': 'Baseline',\n",
    "        'cv': run_baseline,\n",
    "        'param_grid' : {'C': 1, 'gamma': 0.0001, 'kernel': 'rbf'},\n",
    "        # {}, # use default config\n",
    "        'args': {}\n",
    "    },\n",
    "    {\n",
    "        'name': 'BaysianSearch',\n",
    "        'cv' : baysian_search,\n",
    "        'param_grid': bayes_grid,\n",
    "        'args': {'n_iter':10}\n",
    "    },\n",
    "    {\n",
    "        'name': 'Tree of Parzen Estimator',\n",
    "        'cv' : tpe_search,\n",
    "        'param_grid': hyperopt_grid,\n",
    "        'args': {}\n",
    "    },\n",
    "    {\n",
    "        'name': 'RandomSearch',\n",
    "        'cv' : random_search,\n",
    "        'param_grid': param_grid,\n",
    "        'args': {'n_iter':10}\n",
    "    },\n",
    "    {\n",
    "        'name': 'GridSearch',\n",
    "        'cv': grid_search,\n",
    "        'param_grid': param_grid,\n",
    "        'args' : {}\n",
    "    }\n",
    "]\n",
    "\n",
    "hpt_objs = [DotMap(obj, _dynamic=False) for obj in hpt_objs ]\n",
    "hpt_objs"
   ]
  },
  {
   "cell_type": "markdown",
   "metadata": {},
   "source": [
    "#### cmp_hpt_methods\n",
    "Parameter description\n",
    "> `htp_objs`: list of hyperparam-tuning object <br>\n",
    "> `model`: sklearn model to optimize (needs to have fit/predict function)<br>\n",
    "> `dataset`: tuple of (X,y) e.g (Data, Target) <br>\n",
    "> `loss`: sklearn loss function to user <br>\n",
    "> `metric`: sklearn metric to optimize for <br>\n",
    "> `datset_split`: random_state for datasetsplit <br>\n",
    "> `name`: currently not user *optional* <br>"
   ]
  },
  {
   "cell_type": "code",
   "execution_count": null,
   "metadata": {
    "scrolled": false
   },
   "outputs": [
    {
     "name": "stdout",
     "output_type": "stream",
     "text": [
      "HTP using Baseline\n"
     ]
    },
    {
     "data": {
      "application/vnd.jupyter.widget-view+json": {
       "model_id": "0e500a621334422cb11b25d6690c61aa",
       "version_major": 2,
       "version_minor": 0
      },
      "text/plain": [
       "HBox(children=(IntProgress(value=0, max=2), HTML(value='')))"
      ]
     },
     "metadata": {},
     "output_type": "display_data"
    },
    {
     "name": "stdout",
     "output_type": "stream",
     "text": [
      "\n",
      "HTP using BaysianSearch\n"
     ]
    },
    {
     "data": {
      "application/vnd.jupyter.widget-view+json": {
       "model_id": "e0ef33dbd5564ce1928545ab01b93026",
       "version_major": 2,
       "version_minor": 0
      },
      "text/plain": [
       "HBox(children=(IntProgress(value=0, max=2), HTML(value='')))"
      ]
     },
     "metadata": {},
     "output_type": "display_data"
    }
   ],
   "source": [
    "all_results = []\n",
    "\n",
    "for ds in all_datasets:\n",
    "# Run search & print result\n",
    "    results = cmp_hpt_methods(\n",
    "        hpt_objs,\n",
    "        SVC,\n",
    "        (ds.data, ds.target),\n",
    "        'accuracy', #http://scikit-learn.org/stable/modules/model_evaluation.html#scoring-parameter\n",
    "        accuracy_score)\n",
    "    all_results.append(results)"
   ]
  },
  {
   "cell_type": "code",
   "execution_count": null,
   "metadata": {
    "scrolled": true
   },
   "outputs": [],
   "source": []
  },
  {
   "cell_type": "code",
   "execution_count": null,
   "metadata": {},
   "outputs": [],
   "source": [
    "# ds_names = ['digits', 'iris', 'wine', 'breast ']\n",
    "ds_names=['census']"
   ]
  },
  {
   "cell_type": "code",
   "execution_count": null,
   "metadata": {
    "scrolled": true
   },
   "outputs": [],
   "source": [
    "# Plot cross validation -e.g. tuning time\n",
    "plot_by_ds(MEAN+CV_TIME, all_results, ds_names)\n",
    "# Plot Test Accuracy\n",
    "plot_by_ds(MEAN+TEST_ACC, all_results, ds_names)"
   ]
  },
  {
   "cell_type": "code",
   "execution_count": null,
   "metadata": {
    "collapsed": true
   },
   "outputs": [],
   "source": []
  },
  {
   "cell_type": "code",
   "execution_count": null,
   "metadata": {
    "collapsed": true
   },
   "outputs": [],
   "source": []
  }
 ],
 "metadata": {
  "kernelspec": {
   "display_name": "Python 3",
   "language": "python",
   "name": "python3"
  },
  "language_info": {
   "codemirror_mode": {
    "name": "ipython",
    "version": 3
   },
   "file_extension": ".py",
   "mimetype": "text/x-python",
   "name": "python",
   "nbconvert_exporter": "python",
   "pygments_lexer": "ipython3",
   "version": "3.6.6"
  }
 },
 "nbformat": 4,
 "nbformat_minor": 2
}
