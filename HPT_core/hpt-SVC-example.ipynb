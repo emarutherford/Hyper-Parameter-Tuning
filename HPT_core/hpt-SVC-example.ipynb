{
 "cells": [
  {
   "cell_type": "markdown",
   "metadata": {
    "collapsed": true
   },
   "source": [
    "# Hyperparameter Tuning Methods Comparison\n",
    "Cross validation approach based on the following [repo](https://github.com/roamanalytics/roamresearch/tree/master/BlogPosts/Hyperparameter_tuning_comparison)"
   ]
  },
  {
   "cell_type": "code",
   "execution_count": 1,
   "metadata": {
    "scrolled": true
   },
   "outputs": [],
   "source": [
    "%matplotlib inline"
   ]
  },
  {
   "cell_type": "code",
   "execution_count": 2,
   "metadata": {},
   "outputs": [],
   "source": [
    "from hpt_cmp import *"
   ]
  },
  {
   "cell_type": "code",
   "execution_count": 3,
   "metadata": {},
   "outputs": [],
   "source": [
    "%load_ext autoreload\n",
    "%aimport hpt_cmp\n",
    "%autoreload 1"
   ]
  },
  {
   "cell_type": "code",
   "execution_count": null,
   "metadata": {
    "collapsed": true
   },
   "outputs": [],
   "source": []
  },
  {
   "cell_type": "code",
   "execution_count": 4,
   "metadata": {
    "collapsed": true
   },
   "outputs": [],
   "source": [
    "from __future__ import print_function\n",
    "from sklearn.metrics import accuracy_score\n",
    "from sklearn.svm import SVC"
   ]
  },
  {
   "cell_type": "code",
   "execution_count": 5,
   "metadata": {
    "collapsed": true
   },
   "outputs": [],
   "source": [
    "# Loading the Digits dataset\n",
    "digits = datasets.load_digits()\n",
    "\n",
    "# To apply an classifier on this data, we need to flatten the image, to\n",
    "# turn the data in a (samples, feature) matrix:\n"
   ]
  },
  {
   "cell_type": "code",
   "execution_count": 6,
   "metadata": {},
   "outputs": [],
   "source": [
    "param_grid = {\n",
    "    'C': [1, 10, 100, 1000],  \n",
    "    'gamma': [0.0001, 0.001],\n",
    "    'kernel': ['linear', 'rbf']\n",
    "}\n",
    "\n",
    "hyperopt_grid = {\n",
    "    'C': hp.choice('C', [1, 10, 100, 1000]),\n",
    "    'gamma': hp.choice('gamma', [0.001,0.0001]),\n",
    "    'kernel': hp.choice('kernel', ['linear', 'rbf'])\n",
    "}"
   ]
  },
  {
   "cell_type": "code",
   "execution_count": 13,
   "metadata": {},
   "outputs": [
    {
     "data": {
      "text/plain": [
       "[DotMap(name='BaysianSearch', cv=<function baysian_search at 0x7f9597139840>, param_grid=DotMap(C=[1, 10, 100, 1000], gamma=[0.0001, 0.001], kernel=['linear', 'rbf']), args=DotMap()),\n",
       " DotMap(name='Tree of Parzen Estimator', cv=<function tpe_search at 0x7f95971398c8>, param_grid=DotMap(C=<hyperopt.pyll.base.Apply object at 0x7f9596e13fd0>, gamma=<hyperopt.pyll.base.Apply object at 0x7f95970e1208>, kernel=<hyperopt.pyll.base.Apply object at 0x7f95970e1390>), args=DotMap()),\n",
       " DotMap(name='RandomSearch', cv=<function random_search at 0x7f95971397b8>, param_grid=DotMap(C=[1, 10, 100, 1000], gamma=[0.0001, 0.001], kernel=['linear', 'rbf']), args=DotMap()),\n",
       " DotMap(name='Baseline', cv=<function run_baseline at 0x7f9597139620>, param_grid=DotMap(C=1, gamma=0.0001, kernel='rbf'), args=DotMap())]"
      ]
     },
     "execution_count": 13,
     "metadata": {},
     "output_type": "execute_result"
    }
   ],
   "source": [
    "hpt_objs = [\n",
    "    # add more objs once more search functions implemented\n",
    "    {\n",
    "        'name': 'BaysianSearch',\n",
    "        'cv' : baysian_search,\n",
    "        'param_grid': param_grid,\n",
    "        'args': {}\n",
    "    },\n",
    "    {\n",
    "        'name': 'Tree of Parzen Estimator',\n",
    "        'cv' : tpe_search,\n",
    "        'param_grid': hyperopt_grid,\n",
    "        'args': {}\n",
    "    },\n",
    "    {\n",
    "        'name': 'RandomSearch',\n",
    "        'cv' : random_search,\n",
    "        'param_grid': param_grid,\n",
    "        'args': {}\n",
    "    },\n",
    "#     {\n",
    "#         'name': 'GridSearch',\n",
    "#         'cv': grid_search,\n",
    "#         'param_grid': param_grid,\n",
    "#         'args' : {}\n",
    "#     },\n",
    "    {\n",
    "        'name': 'Baseline',\n",
    "        'cv': run_baseline,\n",
    "        'param_grid' : {'C': 1, 'gamma': 0.0001, 'kernel': 'rbf'},\n",
    "        # {}, # use default config\n",
    "        'args': {}\n",
    "    }\n",
    "]\n",
    "\n",
    "hpt_objs = [DotMap(obj, _dynamic=False) for obj in hpt_objs ]\n",
    "hpt_objs"
   ]
  },
  {
   "cell_type": "markdown",
   "metadata": {},
   "source": [
    "#### cmp_hpt_methods\n",
    "Parameter description\n",
    "> `htp_objs`: list of hyperparam-tuning object <br>\n",
    "> `model`: sklearn model to optimize (needs to have fit/predict function)<br>\n",
    "> `dataset`: tuple of (X,y) e.g (Data, Target) <br>\n",
    "> `loss`: sklearn loss function to user <br>\n",
    "> `metric`: sklearn metric to optimize for <br>\n",
    "> `datset_split`: random_state for datasetsplit <br>\n",
    "> `name`: currently not user *optional* <br>"
   ]
  },
  {
   "cell_type": "code",
   "execution_count": 14,
   "metadata": {
    "scrolled": false
   },
   "outputs": [
    {
     "name": "stdout",
     "output_type": "stream",
     "text": [
      "Start\n",
      "HTP using BaysianSearch\n"
     ]
    },
    {
     "data": {
      "application/vnd.jupyter.widget-view+json": {
       "model_id": "0ca13782836b49dca5bdf8bd52fd31c4",
       "version_major": 2,
       "version_minor": 0
      },
      "text/plain": [
       "HBox(children=(IntProgress(value=0, max=2), HTML(value='')))"
      ]
     },
     "metadata": {},
     "output_type": "display_data"
    },
    {
     "name": "stdout",
     "output_type": "stream",
     "text": [
      "BaysianSearch\n",
      "[{'loss': 0.9207589285714286, 'params': {'C': 100, 'gamma': 0.000555754404321924, 'kernel': 'linear'}}, {'loss': 0.9207589285714286, 'params': {'C': 100, 'gamma': 0.00038157301069910714, 'kernel': 'linear'}}, {'loss': 0.9363839285714286, 'params': {'C': 100, 'gamma': 0.00047137331629548647, 'kernel': 'rbf'}}, {'loss': 0.9263392857142857, 'params': {'C': 10, 'gamma': 0.00012082241725340934, 'kernel': 'rbf'}}, {'loss': 0.9263392857142857, 'params': {'C': 10, 'gamma': 0.00010625589856594347, 'kernel': 'rbf'}}, {'loss': 0.9207589285714286, 'params': {'C': 100, 'gamma': 0.0001829316361884109, 'kernel': 'linear'}}, {'loss': 0.9386160714285714, 'params': {'C': 100, 'gamma': 0.0008998018771257247, 'kernel': 'rbf'}}, {'loss': 0.9207589285714286, 'params': {'C': 1, 'gamma': 0.0003279186814924124, 'kernel': 'linear'}}, {'loss': 0.9319196428571429, 'params': {'C': 100, 'gamma': 0.0003328456787724938, 'kernel': 'rbf'}}, {'loss': 0.9375, 'params': {'C': 100, 'gamma': 0.0005166849808795966, 'kernel': 'rbf'}}]\n",
      "{'C': 100, 'gamma': 0.000555754404321924, 'kernel': 'linear'}\n",
      "BaysianSearch\n",
      "[{'loss': 0.902330743618202, 'params': {'C': 1, 'gamma': 0.0009926809854252654, 'kernel': 'linear'}}, {'loss': 0.902330743618202, 'params': {'C': 1, 'gamma': 0.0009046502474166842, 'kernel': 'linear'}}, {'loss': 0.902330743618202, 'params': {'C': 100, 'gamma': 0.0008867511029810047, 'kernel': 'linear'}}, {'loss': 0.902330743618202, 'params': {'C': 1000, 'gamma': 0.0003002061464673408, 'kernel': 'linear'}}, {'loss': 0.902330743618202, 'params': {'C': 10, 'gamma': 0.000912067709272791, 'kernel': 'linear'}}, {'loss': 0.9112097669256382, 'params': {'C': 1000, 'gamma': 0.00014121357631697576, 'kernel': 'rbf'}}, {'loss': 0.902330743618202, 'params': {'C': 10, 'gamma': 0.00048161510374495665, 'kernel': 'linear'}}, {'loss': 0.902330743618202, 'params': {'C': 1000, 'gamma': 0.0008946364828181858, 'kernel': 'linear'}}, {'loss': 0.902330743618202, 'params': {'C': 100, 'gamma': 0.0009982066946079813, 'kernel': 'linear'}}, {'loss': 0.902330743618202, 'params': {'C': 1000, 'gamma': 0.0008696795922076568, 'kernel': 'linear'}}]\n",
      "{'C': 1, 'gamma': 0.0009926809854252654, 'kernel': 'linear'}\n",
      "\n",
      "[0.9322974472807991, 0.9464285714285714]\n",
      "[1.3805298805236816, 0.8359415531158447]\n",
      "[10, 10]\n",
      "HTP using Tree of Parzen Estimator\n"
     ]
    },
    {
     "data": {
      "application/vnd.jupyter.widget-view+json": {
       "model_id": "9031995481dc44809736fa5c16e4d45d",
       "version_major": 2,
       "version_minor": 0
      },
      "text/plain": [
       "HBox(children=(IntProgress(value=0, max=2), HTML(value='')))"
      ]
     },
     "metadata": {},
     "output_type": "display_data"
    },
    {
     "name": "stdout",
     "output_type": "stream",
     "text": [
      "Tree of Parzen Estimator\n",
      "[{'loss': 0.9401330376940134, 'params': {'C': 10, 'gamma': 0.0001, 'kernel': 'rbf'}, 'status': 'ok'}, {'loss': 0.926829268292683, 'params': {'C': 1000, 'gamma': 0.0001, 'kernel': 'linear'}, 'status': 'ok'}, {'loss': 0.9423503325942351, 'params': {'C': 10, 'gamma': 0.001, 'kernel': 'rbf'}, 'status': 'ok'}, {'loss': 0.9401330376940134, 'params': {'C': 10, 'gamma': 0.0001, 'kernel': 'rbf'}, 'status': 'ok'}, {'loss': 0.926829268292683, 'params': {'C': 100, 'gamma': 0.001, 'kernel': 'linear'}, 'status': 'ok'}, {'loss': 0.9423503325942351, 'params': {'C': 1, 'gamma': 0.001, 'kernel': 'rbf'}, 'status': 'ok'}, {'loss': 0.926829268292683, 'params': {'C': 100, 'gamma': 0.0001, 'kernel': 'linear'}, 'status': 'ok'}, {'loss': 0.9423503325942351, 'params': {'C': 1000, 'gamma': 0.001, 'kernel': 'rbf'}, 'status': 'ok'}, {'loss': 0.926829268292683, 'params': {'C': 1000, 'gamma': 0.0001, 'kernel': 'linear'}, 'status': 'ok'}, {'loss': 0.926829268292683, 'params': {'C': 1, 'gamma': 0.001, 'kernel': 'linear'}, 'status': 'ok'}, {'loss': 0.926829268292683, 'params': {'C': 1, 'gamma': 0.001, 'kernel': 'linear'}, 'status': 'ok'}, {'loss': 0.9401330376940134, 'params': {'C': 10, 'gamma': 0.0001, 'kernel': 'rbf'}, 'status': 'ok'}, {'loss': 0.926829268292683, 'params': {'C': 100, 'gamma': 0.0001, 'kernel': 'linear'}, 'status': 'ok'}, {'loss': 0.926829268292683, 'params': {'C': 1000, 'gamma': 0.0001, 'kernel': 'linear'}, 'status': 'ok'}, {'loss': 0.926829268292683, 'params': {'C': 10, 'gamma': 0.0001, 'kernel': 'linear'}, 'status': 'ok'}, {'loss': 0.9401330376940134, 'params': {'C': 10, 'gamma': 0.0001, 'kernel': 'rbf'}, 'status': 'ok'}, {'loss': 0.926829268292683, 'params': {'C': 1, 'gamma': 0.0001, 'kernel': 'linear'}, 'status': 'ok'}, {'loss': 0.926829268292683, 'params': {'C': 1, 'gamma': 0.001, 'kernel': 'linear'}, 'status': 'ok'}, {'loss': 0.926829268292683, 'params': {'C': 1000, 'gamma': 0.001, 'kernel': 'linear'}, 'status': 'ok'}, {'loss': 0.9423503325942351, 'params': {'C': 1000, 'gamma': 0.001, 'kernel': 'rbf'}, 'status': 'ok'}, {'loss': 0.926829268292683, 'params': {'C': 1, 'gamma': 0.001, 'kernel': 'linear'}, 'status': 'ok'}, {'loss': 0.926829268292683, 'params': {'C': 1, 'gamma': 0.001, 'kernel': 'linear'}, 'status': 'ok'}, {'loss': 0.926829268292683, 'params': {'C': 1000, 'gamma': 0.001, 'kernel': 'linear'}, 'status': 'ok'}, {'loss': 0.926829268292683, 'params': {'C': 1000, 'gamma': 0.0001, 'kernel': 'linear'}, 'status': 'ok'}, {'loss': 0.926829268292683, 'params': {'C': 1000, 'gamma': 0.0001, 'kernel': 'linear'}, 'status': 'ok'}, {'loss': 0.926829268292683, 'params': {'C': 100, 'gamma': 0.001, 'kernel': 'linear'}, 'status': 'ok'}, {'loss': 0.926829268292683, 'params': {'C': 100, 'gamma': 0.0001, 'kernel': 'linear'}, 'status': 'ok'}, {'loss': 0.926829268292683, 'params': {'C': 1000, 'gamma': 0.0001, 'kernel': 'linear'}, 'status': 'ok'}, {'loss': 0.926829268292683, 'params': {'C': 100, 'gamma': 0.001, 'kernel': 'linear'}, 'status': 'ok'}, {'loss': 0.926829268292683, 'params': {'C': 10, 'gamma': 0.0001, 'kernel': 'linear'}, 'status': 'ok'}, {'loss': 0.926829268292683, 'params': {'C': 10, 'gamma': 0.0001, 'kernel': 'linear'}, 'status': 'ok'}, {'loss': 0.926829268292683, 'params': {'C': 10, 'gamma': 0.001, 'kernel': 'linear'}, 'status': 'ok'}, {'loss': 0.9423503325942351, 'params': {'C': 1, 'gamma': 0.001, 'kernel': 'rbf'}, 'status': 'ok'}, {'loss': 0.926829268292683, 'params': {'C': 1, 'gamma': 0.0001, 'kernel': 'linear'}, 'status': 'ok'}, {'loss': 0.926829268292683, 'params': {'C': 10, 'gamma': 0.001, 'kernel': 'linear'}, 'status': 'ok'}, {'loss': 0.9423503325942351, 'params': {'C': 10, 'gamma': 0.001, 'kernel': 'rbf'}, 'status': 'ok'}, {'loss': 0.926829268292683, 'params': {'C': 1, 'gamma': 0.0001, 'kernel': 'linear'}, 'status': 'ok'}, {'loss': 0.9423503325942351, 'params': {'C': 10, 'gamma': 0.001, 'kernel': 'rbf'}, 'status': 'ok'}, {'loss': 0.926829268292683, 'params': {'C': 1000, 'gamma': 0.0001, 'kernel': 'linear'}, 'status': 'ok'}, {'loss': 0.926829268292683, 'params': {'C': 100, 'gamma': 0.001, 'kernel': 'linear'}, 'status': 'ok'}, {'loss': 0.926829268292683, 'params': {'C': 100, 'gamma': 0.0001, 'kernel': 'linear'}, 'status': 'ok'}, {'loss': 0.9423503325942351, 'params': {'C': 1, 'gamma': 0.001, 'kernel': 'rbf'}, 'status': 'ok'}, {'loss': 0.926829268292683, 'params': {'C': 1000, 'gamma': 0.0001, 'kernel': 'linear'}, 'status': 'ok'}, {'loss': 0.926829268292683, 'params': {'C': 1, 'gamma': 0.001, 'kernel': 'linear'}, 'status': 'ok'}, {'loss': 0.9423503325942351, 'params': {'C': 1000, 'gamma': 0.001, 'kernel': 'rbf'}, 'status': 'ok'}, {'loss': 0.926829268292683, 'params': {'C': 10, 'gamma': 0.0001, 'kernel': 'linear'}, 'status': 'ok'}, {'loss': 0.926829268292683, 'params': {'C': 1000, 'gamma': 0.0001, 'kernel': 'linear'}, 'status': 'ok'}, {'loss': 0.926829268292683, 'params': {'C': 10, 'gamma': 0.0001, 'kernel': 'linear'}, 'status': 'ok'}, {'loss': 0.9312638580931264, 'params': {'C': 1000, 'gamma': 0.0001, 'kernel': 'rbf'}, 'status': 'ok'}, {'loss': 0.926829268292683, 'params': {'C': 1000, 'gamma': 0.0001, 'kernel': 'linear'}, 'status': 'ok'}, {'loss': 0.926829268292683, 'params': {'C': 100, 'gamma': 0.001, 'kernel': 'linear'}, 'status': 'ok'}, {'loss': 0.9423503325942351, 'params': {'C': 100, 'gamma': 0.001, 'kernel': 'rbf'}, 'status': 'ok'}, {'loss': 0.926829268292683, 'params': {'C': 100, 'gamma': 0.001, 'kernel': 'linear'}, 'status': 'ok'}, {'loss': 0.926829268292683, 'params': {'C': 100, 'gamma': 0.0001, 'kernel': 'linear'}, 'status': 'ok'}, {'loss': 0.926829268292683, 'params': {'C': 100, 'gamma': 0.001, 'kernel': 'linear'}, 'status': 'ok'}, {'loss': 0.926829268292683, 'params': {'C': 100, 'gamma': 0.0001, 'kernel': 'linear'}, 'status': 'ok'}, {'loss': 0.9312638580931264, 'params': {'C': 100, 'gamma': 0.0001, 'kernel': 'rbf'}, 'status': 'ok'}, {'loss': 0.926829268292683, 'params': {'C': 1000, 'gamma': 0.001, 'kernel': 'linear'}, 'status': 'ok'}, {'loss': 0.926829268292683, 'params': {'C': 100, 'gamma': 0.001, 'kernel': 'linear'}, 'status': 'ok'}, {'loss': 0.926829268292683, 'params': {'C': 10, 'gamma': 0.0001, 'kernel': 'linear'}, 'status': 'ok'}, {'loss': 0.926829268292683, 'params': {'C': 10, 'gamma': 0.001, 'kernel': 'linear'}, 'status': 'ok'}, {'loss': 0.9401330376940134, 'params': {'C': 10, 'gamma': 0.0001, 'kernel': 'rbf'}, 'status': 'ok'}, {'loss': 0.926829268292683, 'params': {'C': 10, 'gamma': 0.001, 'kernel': 'linear'}, 'status': 'ok'}, {'loss': 0.926829268292683, 'params': {'C': 10, 'gamma': 0.0001, 'kernel': 'linear'}, 'status': 'ok'}, {'loss': 0.926829268292683, 'params': {'C': 10, 'gamma': 0.001, 'kernel': 'linear'}, 'status': 'ok'}, {'loss': 0.926829268292683, 'params': {'C': 1000, 'gamma': 0.001, 'kernel': 'linear'}, 'status': 'ok'}, {'loss': 0.926829268292683, 'params': {'C': 1000, 'gamma': 0.001, 'kernel': 'linear'}, 'status': 'ok'}, {'loss': 0.926829268292683, 'params': {'C': 1, 'gamma': 0.001, 'kernel': 'linear'}, 'status': 'ok'}, {'loss': 0.926829268292683, 'params': {'C': 1, 'gamma': 0.001, 'kernel': 'linear'}, 'status': 'ok'}, {'loss': 0.926829268292683, 'params': {'C': 1, 'gamma': 0.001, 'kernel': 'linear'}, 'status': 'ok'}, {'loss': 0.926829268292683, 'params': {'C': 1, 'gamma': 0.001, 'kernel': 'linear'}, 'status': 'ok'}, {'loss': 0.926829268292683, 'params': {'C': 10, 'gamma': 0.0001, 'kernel': 'linear'}, 'status': 'ok'}, {'loss': 0.926829268292683, 'params': {'C': 10, 'gamma': 0.0001, 'kernel': 'linear'}, 'status': 'ok'}, {'loss': 0.926829268292683, 'params': {'C': 1, 'gamma': 0.0001, 'kernel': 'linear'}, 'status': 'ok'}, {'loss': 0.926829268292683, 'params': {'C': 1, 'gamma': 0.0001, 'kernel': 'linear'}, 'status': 'ok'}, {'loss': 0.926829268292683, 'params': {'C': 1, 'gamma': 0.001, 'kernel': 'linear'}, 'status': 'ok'}, {'loss': 0.926829268292683, 'params': {'C': 1000, 'gamma': 0.001, 'kernel': 'linear'}, 'status': 'ok'}, {'loss': 0.9423503325942351, 'params': {'C': 100, 'gamma': 0.001, 'kernel': 'rbf'}, 'status': 'ok'}, {'loss': 0.926829268292683, 'params': {'C': 1, 'gamma': 0.0001, 'kernel': 'linear'}, 'status': 'ok'}, {'loss': 0.926829268292683, 'params': {'C': 100, 'gamma': 0.0001, 'kernel': 'linear'}, 'status': 'ok'}, {'loss': 0.926829268292683, 'params': {'C': 100, 'gamma': 0.001, 'kernel': 'linear'}, 'status': 'ok'}, {'loss': 0.9312638580931264, 'params': {'C': 100, 'gamma': 0.0001, 'kernel': 'rbf'}, 'status': 'ok'}, {'loss': 0.926829268292683, 'params': {'C': 1, 'gamma': 0.0001, 'kernel': 'linear'}, 'status': 'ok'}, {'loss': 0.926829268292683, 'params': {'C': 10, 'gamma': 0.0001, 'kernel': 'linear'}, 'status': 'ok'}, {'loss': 0.926829268292683, 'params': {'C': 10, 'gamma': 0.0001, 'kernel': 'linear'}, 'status': 'ok'}, {'loss': 0.926829268292683, 'params': {'C': 1000, 'gamma': 0.0001, 'kernel': 'linear'}, 'status': 'ok'}, {'loss': 0.9401330376940134, 'params': {'C': 10, 'gamma': 0.0001, 'kernel': 'rbf'}, 'status': 'ok'}, {'loss': 0.926829268292683, 'params': {'C': 1, 'gamma': 0.0001, 'kernel': 'linear'}, 'status': 'ok'}, {'loss': 0.926829268292683, 'params': {'C': 10, 'gamma': 0.001, 'kernel': 'linear'}, 'status': 'ok'}, {'loss': 0.926829268292683, 'params': {'C': 100, 'gamma': 0.001, 'kernel': 'linear'}, 'status': 'ok'}, {'loss': 0.926829268292683, 'params': {'C': 100, 'gamma': 0.001, 'kernel': 'linear'}, 'status': 'ok'}, {'loss': 0.9401330376940134, 'params': {'C': 10, 'gamma': 0.0001, 'kernel': 'rbf'}, 'status': 'ok'}, {'loss': 0.926829268292683, 'params': {'C': 1000, 'gamma': 0.001, 'kernel': 'linear'}, 'status': 'ok'}, {'loss': 0.926829268292683, 'params': {'C': 1000, 'gamma': 0.001, 'kernel': 'linear'}, 'status': 'ok'}, {'loss': 0.926829268292683, 'params': {'C': 1000, 'gamma': 0.001, 'kernel': 'linear'}, 'status': 'ok'}, {'loss': 0.9423503325942351, 'params': {'C': 1000, 'gamma': 0.001, 'kernel': 'rbf'}, 'status': 'ok'}, {'loss': 0.926829268292683, 'params': {'C': 100, 'gamma': 0.0001, 'kernel': 'linear'}, 'status': 'ok'}, {'loss': 0.926829268292683, 'params': {'C': 100, 'gamma': 0.0001, 'kernel': 'linear'}, 'status': 'ok'}, {'loss': 0.926829268292683, 'params': {'C': 100, 'gamma': 0.0001, 'kernel': 'linear'}, 'status': 'ok'}, {'loss': 0.926829268292683, 'params': {'C': 1, 'gamma': 0.001, 'kernel': 'linear'}, 'status': 'ok'}]\n",
      "{'C': 1000, 'gamma': 0.0001, 'kernel': 'linear'}\n"
     ]
    },
    {
     "name": "stdout",
     "output_type": "stream",
     "text": [
      "Tree of Parzen Estimator\n",
      "[{'loss': 0.8898678414096917, 'params': {'C': 100, 'gamma': 0.0001, 'kernel': 'linear'}, 'status': 'ok'}, {'loss': 0.8898678414096917, 'params': {'C': 10, 'gamma': 0.0001, 'kernel': 'linear'}, 'status': 'ok'}, {'loss': 0.8986784140969163, 'params': {'C': 100, 'gamma': 0.0001, 'kernel': 'rbf'}, 'status': 'ok'}, {'loss': 0.8898678414096917, 'params': {'C': 1000, 'gamma': 0.0001, 'kernel': 'linear'}, 'status': 'ok'}, {'loss': 0.8986784140969163, 'params': {'C': 1, 'gamma': 0.001, 'kernel': 'rbf'}, 'status': 'ok'}, {'loss': 0.8898678414096917, 'params': {'C': 1000, 'gamma': 0.001, 'kernel': 'linear'}, 'status': 'ok'}, {'loss': 0.8898678414096917, 'params': {'C': 1000, 'gamma': 0.0001, 'kernel': 'linear'}, 'status': 'ok'}, {'loss': 0.8986784140969163, 'params': {'C': 100, 'gamma': 0.0001, 'kernel': 'rbf'}, 'status': 'ok'}, {'loss': 0.9008810572687225, 'params': {'C': 100, 'gamma': 0.001, 'kernel': 'rbf'}, 'status': 'ok'}, {'loss': 0.9008810572687225, 'params': {'C': 1000, 'gamma': 0.001, 'kernel': 'rbf'}, 'status': 'ok'}, {'loss': 0.8986784140969163, 'params': {'C': 10, 'gamma': 0.0001, 'kernel': 'rbf'}, 'status': 'ok'}, {'loss': 0.8898678414096917, 'params': {'C': 100, 'gamma': 0.001, 'kernel': 'linear'}, 'status': 'ok'}, {'loss': 0.8986784140969163, 'params': {'C': 1000, 'gamma': 0.0001, 'kernel': 'rbf'}, 'status': 'ok'}, {'loss': 0.8986784140969163, 'params': {'C': 10, 'gamma': 0.0001, 'kernel': 'rbf'}, 'status': 'ok'}, {'loss': 0.9008810572687225, 'params': {'C': 1000, 'gamma': 0.001, 'kernel': 'rbf'}, 'status': 'ok'}, {'loss': 0.8898678414096917, 'params': {'C': 100, 'gamma': 0.0001, 'kernel': 'linear'}, 'status': 'ok'}, {'loss': 0.9008810572687225, 'params': {'C': 10, 'gamma': 0.001, 'kernel': 'rbf'}, 'status': 'ok'}, {'loss': 0.8898678414096917, 'params': {'C': 100, 'gamma': 0.0001, 'kernel': 'linear'}, 'status': 'ok'}, {'loss': 0.8898678414096917, 'params': {'C': 10, 'gamma': 0.0001, 'kernel': 'linear'}, 'status': 'ok'}, {'loss': 0.9008810572687225, 'params': {'C': 100, 'gamma': 0.001, 'kernel': 'rbf'}, 'status': 'ok'}, {'loss': 0.8898678414096917, 'params': {'C': 1, 'gamma': 0.0001, 'kernel': 'linear'}, 'status': 'ok'}, {'loss': 0.8898678414096917, 'params': {'C': 10, 'gamma': 0.0001, 'kernel': 'linear'}, 'status': 'ok'}, {'loss': 0.8898678414096917, 'params': {'C': 10, 'gamma': 0.0001, 'kernel': 'linear'}, 'status': 'ok'}, {'loss': 0.8898678414096917, 'params': {'C': 1, 'gamma': 0.0001, 'kernel': 'linear'}, 'status': 'ok'}, {'loss': 0.8898678414096917, 'params': {'C': 10, 'gamma': 0.0001, 'kernel': 'linear'}, 'status': 'ok'}, {'loss': 0.8898678414096917, 'params': {'C': 1, 'gamma': 0.0001, 'kernel': 'linear'}, 'status': 'ok'}, {'loss': 0.8898678414096917, 'params': {'C': 1, 'gamma': 0.0001, 'kernel': 'linear'}, 'status': 'ok'}, {'loss': 0.8898678414096917, 'params': {'C': 100, 'gamma': 0.0001, 'kernel': 'linear'}, 'status': 'ok'}, {'loss': 0.8898678414096917, 'params': {'C': 1, 'gamma': 0.0001, 'kernel': 'linear'}, 'status': 'ok'}, {'loss': 0.8898678414096917, 'params': {'C': 1, 'gamma': 0.0001, 'kernel': 'linear'}, 'status': 'ok'}, {'loss': 0.8898678414096917, 'params': {'C': 100, 'gamma': 0.0001, 'kernel': 'linear'}, 'status': 'ok'}, {'loss': 0.8898678414096917, 'params': {'C': 1, 'gamma': 0.0001, 'kernel': 'linear'}, 'status': 'ok'}, {'loss': 0.8898678414096917, 'params': {'C': 1, 'gamma': 0.0001, 'kernel': 'linear'}, 'status': 'ok'}, {'loss': 0.8898678414096917, 'params': {'C': 100, 'gamma': 0.0001, 'kernel': 'linear'}, 'status': 'ok'}, {'loss': 0.8898678414096917, 'params': {'C': 1, 'gamma': 0.0001, 'kernel': 'linear'}, 'status': 'ok'}, {'loss': 0.8898678414096917, 'params': {'C': 1, 'gamma': 0.0001, 'kernel': 'linear'}, 'status': 'ok'}, {'loss': 0.8898678414096917, 'params': {'C': 100, 'gamma': 0.001, 'kernel': 'linear'}, 'status': 'ok'}, {'loss': 0.8898678414096917, 'params': {'C': 10, 'gamma': 0.0001, 'kernel': 'linear'}, 'status': 'ok'}, {'loss': 0.8898678414096917, 'params': {'C': 10, 'gamma': 0.0001, 'kernel': 'linear'}, 'status': 'ok'}, {'loss': 0.8898678414096917, 'params': {'C': 10, 'gamma': 0.001, 'kernel': 'linear'}, 'status': 'ok'}, {'loss': 0.8898678414096917, 'params': {'C': 1000, 'gamma': 0.0001, 'kernel': 'linear'}, 'status': 'ok'}, {'loss': 0.9008810572687225, 'params': {'C': 10, 'gamma': 0.001, 'kernel': 'rbf'}, 'status': 'ok'}, {'loss': 0.8898678414096917, 'params': {'C': 100, 'gamma': 0.0001, 'kernel': 'linear'}, 'status': 'ok'}, {'loss': 0.8986784140969163, 'params': {'C': 1000, 'gamma': 0.0001, 'kernel': 'rbf'}, 'status': 'ok'}, {'loss': 0.8898678414096917, 'params': {'C': 1, 'gamma': 0.001, 'kernel': 'linear'}, 'status': 'ok'}, {'loss': 0.8898678414096917, 'params': {'C': 10, 'gamma': 0.0001, 'kernel': 'linear'}, 'status': 'ok'}, {'loss': 0.8986784140969163, 'params': {'C': 100, 'gamma': 0.0001, 'kernel': 'rbf'}, 'status': 'ok'}, {'loss': 0.8898678414096917, 'params': {'C': 1000, 'gamma': 0.001, 'kernel': 'linear'}, 'status': 'ok'}, {'loss': 0.8986784140969163, 'params': {'C': 100, 'gamma': 0.0001, 'kernel': 'rbf'}, 'status': 'ok'}, {'loss': 0.8898678414096917, 'params': {'C': 1, 'gamma': 0.0001, 'kernel': 'linear'}, 'status': 'ok'}, {'loss': 0.8898678414096917, 'params': {'C': 100, 'gamma': 0.001, 'kernel': 'linear'}, 'status': 'ok'}, {'loss': 0.8986784140969163, 'params': {'C': 1000, 'gamma': 0.0001, 'kernel': 'rbf'}, 'status': 'ok'}, {'loss': 0.8898678414096917, 'params': {'C': 1, 'gamma': 0.0001, 'kernel': 'linear'}, 'status': 'ok'}, {'loss': 0.8898678414096917, 'params': {'C': 100, 'gamma': 0.0001, 'kernel': 'linear'}, 'status': 'ok'}, {'loss': 0.8986784140969163, 'params': {'C': 1, 'gamma': 0.001, 'kernel': 'rbf'}, 'status': 'ok'}, {'loss': 0.8898678414096917, 'params': {'C': 100, 'gamma': 0.0001, 'kernel': 'linear'}, 'status': 'ok'}, {'loss': 0.8898678414096917, 'params': {'C': 1, 'gamma': 0.0001, 'kernel': 'linear'}, 'status': 'ok'}, {'loss': 0.8898678414096917, 'params': {'C': 100, 'gamma': 0.0001, 'kernel': 'linear'}, 'status': 'ok'}, {'loss': 0.8986784140969163, 'params': {'C': 1000, 'gamma': 0.0001, 'kernel': 'rbf'}, 'status': 'ok'}, {'loss': 0.8898678414096917, 'params': {'C': 1, 'gamma': 0.001, 'kernel': 'linear'}, 'status': 'ok'}, {'loss': 0.8898678414096917, 'params': {'C': 100, 'gamma': 0.0001, 'kernel': 'linear'}, 'status': 'ok'}, {'loss': 0.8898678414096917, 'params': {'C': 1, 'gamma': 0.0001, 'kernel': 'linear'}, 'status': 'ok'}, {'loss': 0.8986784140969163, 'params': {'C': 1000, 'gamma': 0.0001, 'kernel': 'rbf'}, 'status': 'ok'}, {'loss': 0.8898678414096917, 'params': {'C': 100, 'gamma': 0.001, 'kernel': 'linear'}, 'status': 'ok'}, {'loss': 0.8898678414096917, 'params': {'C': 100, 'gamma': 0.0001, 'kernel': 'linear'}, 'status': 'ok'}, {'loss': 0.8898678414096917, 'params': {'C': 100, 'gamma': 0.0001, 'kernel': 'linear'}, 'status': 'ok'}, {'loss': 0.8898678414096917, 'params': {'C': 100, 'gamma': 0.0001, 'kernel': 'linear'}, 'status': 'ok'}, {'loss': 0.8898678414096917, 'params': {'C': 1, 'gamma': 0.0001, 'kernel': 'linear'}, 'status': 'ok'}, {'loss': 0.8898678414096917, 'params': {'C': 100, 'gamma': 0.0001, 'kernel': 'linear'}, 'status': 'ok'}, {'loss': 0.8898678414096917, 'params': {'C': 100, 'gamma': 0.0001, 'kernel': 'linear'}, 'status': 'ok'}, {'loss': 0.8898678414096917, 'params': {'C': 100, 'gamma': 0.0001, 'kernel': 'linear'}, 'status': 'ok'}, {'loss': 0.8898678414096917, 'params': {'C': 100, 'gamma': 0.0001, 'kernel': 'linear'}, 'status': 'ok'}, {'loss': 0.8898678414096917, 'params': {'C': 100, 'gamma': 0.0001, 'kernel': 'linear'}, 'status': 'ok'}, {'loss': 0.8898678414096917, 'params': {'C': 1, 'gamma': 0.0001, 'kernel': 'linear'}, 'status': 'ok'}, {'loss': 0.8898678414096917, 'params': {'C': 100, 'gamma': 0.0001, 'kernel': 'linear'}, 'status': 'ok'}, {'loss': 0.8898678414096917, 'params': {'C': 100, 'gamma': 0.001, 'kernel': 'linear'}, 'status': 'ok'}, {'loss': 0.8898678414096917, 'params': {'C': 100, 'gamma': 0.001, 'kernel': 'linear'}, 'status': 'ok'}, {'loss': 0.8898678414096917, 'params': {'C': 10, 'gamma': 0.001, 'kernel': 'linear'}, 'status': 'ok'}, {'loss': 0.8898678414096917, 'params': {'C': 10, 'gamma': 0.001, 'kernel': 'linear'}, 'status': 'ok'}, {'loss': 0.8898678414096917, 'params': {'C': 1, 'gamma': 0.0001, 'kernel': 'linear'}, 'status': 'ok'}, {'loss': 0.8986784140969163, 'params': {'C': 1000, 'gamma': 0.0001, 'kernel': 'rbf'}, 'status': 'ok'}, {'loss': 0.8898678414096917, 'params': {'C': 1, 'gamma': 0.0001, 'kernel': 'linear'}, 'status': 'ok'}, {'loss': 0.8898678414096917, 'params': {'C': 100, 'gamma': 0.001, 'kernel': 'linear'}, 'status': 'ok'}, {'loss': 0.8898678414096917, 'params': {'C': 1, 'gamma': 0.001, 'kernel': 'linear'}, 'status': 'ok'}, {'loss': 0.9008810572687225, 'params': {'C': 100, 'gamma': 0.001, 'kernel': 'rbf'}, 'status': 'ok'}, {'loss': 0.8898678414096917, 'params': {'C': 1000, 'gamma': 0.0001, 'kernel': 'linear'}, 'status': 'ok'}, {'loss': 0.8898678414096917, 'params': {'C': 1, 'gamma': 0.001, 'kernel': 'linear'}, 'status': 'ok'}, {'loss': 0.8898678414096917, 'params': {'C': 100, 'gamma': 0.0001, 'kernel': 'linear'}, 'status': 'ok'}, {'loss': 0.8898678414096917, 'params': {'C': 10, 'gamma': 0.001, 'kernel': 'linear'}, 'status': 'ok'}, {'loss': 0.9008810572687225, 'params': {'C': 100, 'gamma': 0.001, 'kernel': 'rbf'}, 'status': 'ok'}, {'loss': 0.8898678414096917, 'params': {'C': 100, 'gamma': 0.0001, 'kernel': 'linear'}, 'status': 'ok'}, {'loss': 0.8898678414096917, 'params': {'C': 100, 'gamma': 0.0001, 'kernel': 'linear'}, 'status': 'ok'}, {'loss': 0.8898678414096917, 'params': {'C': 100, 'gamma': 0.0001, 'kernel': 'linear'}, 'status': 'ok'}, {'loss': 0.8986784140969163, 'params': {'C': 100, 'gamma': 0.0001, 'kernel': 'rbf'}, 'status': 'ok'}, {'loss': 0.8898678414096917, 'params': {'C': 100, 'gamma': 0.001, 'kernel': 'linear'}, 'status': 'ok'}, {'loss': 0.8898678414096917, 'params': {'C': 1, 'gamma': 0.0001, 'kernel': 'linear'}, 'status': 'ok'}, {'loss': 0.8898678414096917, 'params': {'C': 1000, 'gamma': 0.0001, 'kernel': 'linear'}, 'status': 'ok'}, {'loss': 0.8898678414096917, 'params': {'C': 1, 'gamma': 0.0001, 'kernel': 'linear'}, 'status': 'ok'}, {'loss': 0.8986784140969163, 'params': {'C': 10, 'gamma': 0.0001, 'kernel': 'rbf'}, 'status': 'ok'}, {'loss': 0.8898678414096917, 'params': {'C': 100, 'gamma': 0.0001, 'kernel': 'linear'}, 'status': 'ok'}]\n",
      "{'C': 100, 'gamma': 0.0001, 'kernel': 'linear'}\n",
      "\n",
      "[0.9322974472807991, 0.9464285714285714]\n",
      "[4.153706312179565, 4.482623815536499]\n",
      "[100, 100]\n",
      "HTP using RandomSearch\n"
     ]
    },
    {
     "data": {
      "application/vnd.jupyter.widget-view+json": {
       "model_id": "e51efc34980b4c90a6dd8b532cda3b3c",
       "version_major": 2,
       "version_minor": 0
      },
      "text/plain": [
       "HBox(children=(IntProgress(value=0, max=2), HTML(value='')))"
      ]
     },
     "metadata": {},
     "output_type": "display_data"
    },
    {
     "name": "stdout",
     "output_type": "stream",
     "text": [
      "RandomSearch\n",
      "[{'loss': 0.9207589285714286, 'params': {'kernel': 'linear', 'gamma': 0.001, 'C': 1}}, {'loss': 0.9207589285714286, 'params': {'kernel': 'linear', 'gamma': 0.001, 'C': 100}}, {'loss': 0.9207589285714286, 'params': {'kernel': 'linear', 'gamma': 0.001, 'C': 1000}}, {'loss': 0.9207589285714286, 'params': {'kernel': 'linear', 'gamma': 0.0001, 'C': 1000}}, {'loss': 0.9375, 'params': {'kernel': 'rbf', 'gamma': 0.001, 'C': 100}}, {'loss': 0.9241071428571429, 'params': {'kernel': 'rbf', 'gamma': 0.0001, 'C': 1}}, {'loss': 0.9375, 'params': {'kernel': 'rbf', 'gamma': 0.001, 'C': 10}}, {'loss': 0.9229910714285714, 'params': {'kernel': 'rbf', 'gamma': 0.0001, 'C': 1000}}, {'loss': 0.9319196428571429, 'params': {'kernel': 'rbf', 'gamma': 0.001, 'C': 1}}, {'loss': 0.9375, 'params': {'kernel': 'rbf', 'gamma': 0.001, 'C': 1000}}]\n",
      "{'kernel': 'linear', 'gamma': 0.001, 'C': 1}\n",
      "RandomSearch\n",
      "[{'loss': 0.902330743618202, 'params': {'kernel': 'linear', 'gamma': 0.0001, 'C': 1000}}, {'loss': 0.902330743618202, 'params': {'kernel': 'linear', 'gamma': 0.001, 'C': 1}}, {'loss': 0.9223085460599334, 'params': {'kernel': 'rbf', 'gamma': 0.001, 'C': 10}}, {'loss': 0.9134295227524972, 'params': {'kernel': 'rbf', 'gamma': 0.0001, 'C': 100}}, {'loss': 0.902330743618202, 'params': {'kernel': 'linear', 'gamma': 0.0001, 'C': 100}}, {'loss': 0.902330743618202, 'params': {'kernel': 'linear', 'gamma': 0.001, 'C': 10}}, {'loss': 0.902330743618202, 'params': {'kernel': 'linear', 'gamma': 0.0001, 'C': 10}}, {'loss': 0.902330743618202, 'params': {'kernel': 'linear', 'gamma': 0.0001, 'C': 1}}, {'loss': 0.9134295227524972, 'params': {'kernel': 'rbf', 'gamma': 0.0001, 'C': 1000}}, {'loss': 0.9223085460599334, 'params': {'kernel': 'rbf', 'gamma': 0.001, 'C': 1000}}]\n",
      "{'kernel': 'linear', 'gamma': 0.0001, 'C': 1000}\n",
      "\n",
      "[0.9322974472807991, 0.9464285714285714]\n",
      "[0.917090654373169, 0.7486076354980469]\n",
      "[10, 10]\n",
      "HTP using Baseline\n"
     ]
    },
    {
     "data": {
      "application/vnd.jupyter.widget-view+json": {
       "model_id": "efdfce19811548a5843f551d0782a4e0",
       "version_major": 2,
       "version_minor": 0
      },
      "text/plain": [
       "HBox(children=(IntProgress(value=0, max=2), HTML(value='')))"
      ]
     },
     "metadata": {},
     "output_type": "display_data"
    },
    {
     "name": "stdout",
     "output_type": "stream",
     "text": [
      "Baseline\n",
      "[{'loss': 0.9467849223946785, 'params': {'C': 1, 'gamma': 0.0001, 'kernel': 'rbf'}, 'status': 'ok'}]\n",
      "{'C': 1, 'gamma': 0.0001, 'kernel': 'rbf'}\n",
      "Baseline\n",
      "[{'loss': 0.8722466960352423, 'params': {'C': 1, 'gamma': 0.0001, 'kernel': 'rbf'}, 'status': 'ok'}]\n",
      "{'C': 1, 'gamma': 0.0001, 'kernel': 'rbf'}\n",
      "\n",
      "[0.9334073251942286, 0.9386160714285714]\n",
      "[0.10172510147094727, 0.08437204360961914]\n",
      "[1, 1]\n"
     ]
    },
    {
     "data": {
      "text/plain": [
       "[{'Model': 'SVC',\n",
       "  'HPT method': 'BaysianSearch',\n",
       "  'Test accuracy': [0.9322974472807991, 0.9464285714285714],\n",
       "  'Best Parameters': [{'C': 100,\n",
       "    'gamma': 0.000555754404321924,\n",
       "    'kernel': 'linear'},\n",
       "   {'C': 1, 'gamma': 0.0009926809854252654, 'kernel': 'linear'}],\n",
       "  'Parameters sampled': [10, 10],\n",
       "  'Cross-val. time (in s)': [1.3805298805236816, 0.8359415531158447],\n",
       "  'Mean Test accuracy': 0.9393630093546852,\n",
       "  'Mean Cross-val. time (in s)': 1.1082357168197632,\n",
       "  'Mean Parameters sampled': 10.0},\n",
       " {'Model': 'SVC',\n",
       "  'HPT method': 'Tree of Parzen Estimator',\n",
       "  'Test accuracy': [0.9322974472807991, 0.9464285714285714],\n",
       "  'Best Parameters': [{'C': 1000, 'gamma': 0.0001, 'kernel': 'linear'},\n",
       "   {'C': 100, 'gamma': 0.0001, 'kernel': 'linear'}],\n",
       "  'Parameters sampled': [100, 100],\n",
       "  'Cross-val. time (in s)': [4.153706312179565, 4.482623815536499],\n",
       "  'Mean Test accuracy': 0.9393630093546852,\n",
       "  'Mean Cross-val. time (in s)': 4.318165063858032,\n",
       "  'Mean Parameters sampled': 100.0},\n",
       " {'Model': 'SVC',\n",
       "  'HPT method': 'RandomSearch',\n",
       "  'Test accuracy': [0.9322974472807991, 0.9464285714285714],\n",
       "  'Best Parameters': [{'kernel': 'linear', 'gamma': 0.001, 'C': 1},\n",
       "   {'kernel': 'linear', 'gamma': 0.0001, 'C': 1000}],\n",
       "  'Parameters sampled': [10, 10],\n",
       "  'Cross-val. time (in s)': [0.917090654373169, 0.7486076354980469],\n",
       "  'Mean Test accuracy': 0.9393630093546852,\n",
       "  'Mean Cross-val. time (in s)': 0.8328491449356079,\n",
       "  'Mean Parameters sampled': 10.0},\n",
       " {'Model': 'SVC',\n",
       "  'HPT method': 'Baseline',\n",
       "  'Test accuracy': [0.9334073251942286, 0.9386160714285714],\n",
       "  'Best Parameters': [{'C': 1, 'gamma': 0.0001, 'kernel': 'rbf'},\n",
       "   {'C': 1, 'gamma': 0.0001, 'kernel': 'rbf'}],\n",
       "  'Parameters sampled': [1, 1],\n",
       "  'Cross-val. time (in s)': [0.10172510147094727, 0.08437204360961914],\n",
       "  'Mean Test accuracy': 0.9360116983114,\n",
       "  'Mean Cross-val. time (in s)': 0.0930485725402832,\n",
       "  'Mean Parameters sampled': 1.0}]"
      ]
     },
     "execution_count": 14,
     "metadata": {},
     "output_type": "execute_result"
    }
   ],
   "source": [
    "# Run search & print result\n",
    "results = cmp_hpt_methods(\n",
    "    hpt_objs,\n",
    "    SVC,\n",
    "    (digits.data, digits.target),\n",
    "    'log_loss',\n",
    "    accuracy_score)\n",
    "results"
   ]
  },
  {
   "cell_type": "code",
   "execution_count": null,
   "metadata": {
    "scrolled": true
   },
   "outputs": [],
   "source": []
  },
  {
   "cell_type": "code",
   "execution_count": 15,
   "metadata": {},
   "outputs": [
    {
     "data": {
      "text/html": [
       "<div>\n",
       "<style scoped>\n",
       "    .dataframe tbody tr th:only-of-type {\n",
       "        vertical-align: middle;\n",
       "    }\n",
       "\n",
       "    .dataframe tbody tr th {\n",
       "        vertical-align: top;\n",
       "    }\n",
       "\n",
       "    .dataframe thead th {\n",
       "        text-align: right;\n",
       "    }\n",
       "</style>\n",
       "<table border=\"1\" class=\"dataframe\">\n",
       "  <thead>\n",
       "    <tr style=\"text-align: right;\">\n",
       "      <th></th>\n",
       "      <th>HPT method</th>\n",
       "      <th>Mean Test accuracy</th>\n",
       "      <th>Mean Cross-val. time (in s)</th>\n",
       "      <th>Mean Parameters sampled</th>\n",
       "    </tr>\n",
       "  </thead>\n",
       "  <tbody>\n",
       "    <tr>\n",
       "      <th>0</th>\n",
       "      <td>BaysianSearch</td>\n",
       "      <td>0.939363</td>\n",
       "      <td>1.108236</td>\n",
       "      <td>10.0</td>\n",
       "    </tr>\n",
       "    <tr>\n",
       "      <th>1</th>\n",
       "      <td>Tree of Parzen Estimator</td>\n",
       "      <td>0.939363</td>\n",
       "      <td>4.318165</td>\n",
       "      <td>100.0</td>\n",
       "    </tr>\n",
       "    <tr>\n",
       "      <th>2</th>\n",
       "      <td>RandomSearch</td>\n",
       "      <td>0.939363</td>\n",
       "      <td>0.832849</td>\n",
       "      <td>10.0</td>\n",
       "    </tr>\n",
       "    <tr>\n",
       "      <th>3</th>\n",
       "      <td>Baseline</td>\n",
       "      <td>0.936012</td>\n",
       "      <td>0.093049</td>\n",
       "      <td>1.0</td>\n",
       "    </tr>\n",
       "  </tbody>\n",
       "</table>\n",
       "</div>"
      ],
      "text/plain": [
       "                 HPT method  Mean Test accuracy  Mean Cross-val. time (in s)  \\\n",
       "0             BaysianSearch            0.939363                     1.108236   \n",
       "1  Tree of Parzen Estimator            0.939363                     4.318165   \n",
       "2              RandomSearch            0.939363                     0.832849   \n",
       "3                  Baseline            0.936012                     0.093049   \n",
       "\n",
       "   Mean Parameters sampled  \n",
       "0                     10.0  \n",
       "1                    100.0  \n",
       "2                     10.0  \n",
       "3                      1.0  "
      ]
     },
     "execution_count": 15,
     "metadata": {},
     "output_type": "execute_result"
    }
   ],
   "source": [
    "table(results)"
   ]
  },
  {
   "cell_type": "code",
   "execution_count": null,
   "metadata": {
    "collapsed": true
   },
   "outputs": [],
   "source": [
    "    "
   ]
  },
  {
   "cell_type": "code",
   "execution_count": null,
   "metadata": {
    "collapsed": true
   },
   "outputs": [],
   "source": []
  },
  {
   "cell_type": "code",
   "execution_count": null,
   "metadata": {
    "collapsed": true
   },
   "outputs": [],
   "source": []
  },
  {
   "cell_type": "code",
   "execution_count": null,
   "metadata": {
    "collapsed": true
   },
   "outputs": [],
   "source": []
  }
 ],
 "metadata": {
  "kernelspec": {
   "display_name": "Python 3",
   "language": "python",
   "name": "python3"
  },
  "language_info": {
   "codemirror_mode": {
    "name": "ipython",
    "version": 3
   },
   "file_extension": ".py",
   "mimetype": "text/x-python",
   "name": "python",
   "nbconvert_exporter": "python",
   "pygments_lexer": "ipython3",
   "version": "3.6.6"
  }
 },
 "nbformat": 4,
 "nbformat_minor": 2
}
