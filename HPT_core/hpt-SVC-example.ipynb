{
 "cells": [
  {
   "cell_type": "markdown",
   "metadata": {
    "collapsed": true
   },
   "source": [
    "# Hyperparameter Tuning Methods Comparison\n",
    "Cross validation approach based on the following [repo](https://github.com/roamanalytics/roamresearch/tree/master/BlogPosts/Hyperparameter_tuning_comparison)"
   ]
  },
  {
   "cell_type": "code",
   "execution_count": 1,
   "metadata": {
    "scrolled": true
   },
   "outputs": [],
   "source": [
    "%matplotlib inline"
   ]
  },
  {
   "cell_type": "code",
   "execution_count": 2,
   "metadata": {
    "collapsed": true
   },
   "outputs": [],
   "source": [
    "from hpt_cmp import *"
   ]
  },
  {
   "cell_type": "code",
   "execution_count": 3,
   "metadata": {},
   "outputs": [],
   "source": [
    "%load_ext autoreload\n",
    "%aimport hpt_cmp\n",
    "%autoreload 1"
   ]
  },
  {
   "cell_type": "code",
   "execution_count": null,
   "metadata": {
    "collapsed": true
   },
   "outputs": [],
   "source": []
  },
  {
   "cell_type": "code",
   "execution_count": 4,
   "metadata": {
    "collapsed": true
   },
   "outputs": [],
   "source": [
    "from __future__ import print_function\n",
    "from sklearn.metrics import accuracy_score\n",
    "from sklearn.svm import SVC"
   ]
  },
  {
   "cell_type": "code",
   "execution_count": 5,
   "metadata": {
    "collapsed": true
   },
   "outputs": [],
   "source": [
    "# Loading the Digits dataset\n",
    "digits = datasets.load_digits()\n",
    "\n",
    "# To apply an classifier on this data, we need to flatten the image, to\n",
    "# turn the data in a (samples, feature) matrix:\n"
   ]
  },
  {
   "cell_type": "code",
   "execution_count": 6,
   "metadata": {},
   "outputs": [],
   "source": [
    "param_grid = {\n",
    "    'C': [1, 10, 100, 1000],  \n",
    "    'gamma': [0.0001, 0.001],\n",
    "    'kernel': ['linear', 'rbf']\n",
    "}\n",
    "\n",
    "hyperopt_grid = {\n",
    "    'C': hp.choice('C', [1, 10, 100, 1000]),\n",
    "    'gamma': hp.choice('gamma', [0.001,0.0001]),\n",
    "    'kernel': hp.choice('kernel', ['linear', 'rbf'])\n",
    "}"
   ]
  },
  {
   "cell_type": "code",
   "execution_count": 7,
   "metadata": {},
   "outputs": [
    {
     "data": {
      "text/plain": [
       "[DotMap(name='BaysianSearch', cv=<function baysian_search at 0x7f7065982048>, param_grid=DotMap(C=[1, 10, 100, 1000], gamma=[0.0001, 0.001], kernel=['linear', 'rbf']), args=DotMap())]"
      ]
     },
     "execution_count": 7,
     "metadata": {},
     "output_type": "execute_result"
    }
   ],
   "source": [
    "hpt_objs = [\n",
    "    # add more objs once more search functions implemented\n",
    "    {\n",
    "        'name': 'BaysianSearch',\n",
    "        'cv' : baysian_search,\n",
    "        'param_grid': param_grid,\n",
    "        'args': {}\n",
    "    }\n",
    "#     {\n",
    "#         'name': 'Tree of Parzen Estimator',\n",
    "#         'cv' : tpe_search,\n",
    "#         'param_grid': hyperopt_grid,\n",
    "#         'args': {}\n",
    "#     },\n",
    "#     {\n",
    "#         'name': 'RandomSearch',\n",
    "#         'cv' : random_search,\n",
    "#         'param_grid': param_grid,\n",
    "#         'args': {}\n",
    "#     },\n",
    "#     {\n",
    "#         'name': 'GridSearch',\n",
    "#         'cv': grid_search,\n",
    "#         'param_grid': param_grid,\n",
    "#         'args' : {}\n",
    "#     },\n",
    "#     {\n",
    "#         'name': 'Baseline',\n",
    "#         'cv': run_baseline,\n",
    "#         'param_grid' : {'C': 1, 'gamma': 0.001, 'kernel': 'rbf'},\n",
    "#         # {}, # use default config\n",
    "#         'args': {}\n",
    "#     }\n",
    "]\n",
    "\n",
    "hpt_objs = [DotMap(obj, _dynamic=False) for obj in hpt_objs ]\n",
    "hpt_objs"
   ]
  },
  {
   "cell_type": "markdown",
   "metadata": {},
   "source": [
    "#### cmp_hpt_methods\n",
    "Parameter description\n",
    "> `htp_objs`: list of hyperparam-tuning object <br>\n",
    "> `model`: sklearn model to optimize (needs to have fit/predict function)<br>\n",
    "> `dataset`: tuple of (X,y) e.g (Data, Target) <br>\n",
    "> `loss`: sklearn loss function to user <br>\n",
    "> `metric`: sklearn metric to optimize for <br>\n",
    "> `datset_split`: random_state for datasetsplit <br>\n",
    "> `name`: currently not user *optional* <br>"
   ]
  },
  {
   "cell_type": "code",
   "execution_count": 9,
   "metadata": {
    "scrolled": false
   },
   "outputs": [
    {
     "name": "stdout",
     "output_type": "stream",
     "text": [
      "Start\n",
      "HTP using BaysianSearch\n"
     ]
    },
    {
     "data": {
      "application/vnd.jupyter.widget-view+json": {
       "model_id": "4d5542e934d94872a31d8396c2aa3b26",
       "version_major": 2,
       "version_minor": 0
      },
      "text/plain": [
       "HBox(children=(IntProgress(value=0, max=2), HTML(value='')))"
      ]
     },
     "metadata": {},
     "output_type": "display_data"
    },
    {
     "name": "stdout",
     "output_type": "stream",
     "text": [
      "BaysianSearch\n",
      "[{'loss': 0.9319196428571429, 'params': {'C': 1, 'gamma': 0.0009728065147890866, 'kernel': 'rbf'}}, {'loss': 0.9308035714285714, 'params': {'C': 1, 'gamma': 0.00030271581068515627, 'kernel': 'rbf'}}, {'loss': 0.9207589285714286, 'params': {'C': 1000, 'gamma': 0.0005450865271797931, 'kernel': 'linear'}}, {'loss': 0.9207589285714286, 'params': {'C': 10, 'gamma': 0.0009842748476874567, 'kernel': 'linear'}}, {'loss': 0.9352678571428571, 'params': {'C': 100, 'gamma': 0.0004162051878996944, 'kernel': 'rbf'}}, {'loss': 0.9207589285714286, 'params': {'C': 100, 'gamma': 0.0002451016570080742, 'kernel': 'linear'}}, {'loss': 0.9207589285714286, 'params': {'C': 100, 'gamma': 0.000379958212212554, 'kernel': 'linear'}}, {'loss': 0.9296875, 'params': {'C': 1, 'gamma': 0.0005973002703122763, 'kernel': 'rbf'}}, {'loss': 0.9207589285714286, 'params': {'C': 1000, 'gamma': 0.00044879532394616984, 'kernel': 'linear'}}, {'loss': 0.9408482142857143, 'params': {'C': 1000, 'gamma': 0.0007096251468024081, 'kernel': 'rbf'}}]\n",
      "{'C': 1000, 'gamma': 0.0005450865271797931, 'kernel': 'linear'}\n",
      "BaysianSearch\n",
      "[{'loss': 0.9178690344062154, 'params': {'C': 1, 'gamma': 0.000799653898046973, 'kernel': 'rbf'}}, {'loss': 0.9223085460599334, 'params': {'C': 10, 'gamma': 0.0009557204038107141, 'kernel': 'rbf'}}, {'loss': 0.925638179800222, 'params': {'C': 100, 'gamma': 0.0007806509728725796, 'kernel': 'rbf'}}, {'loss': 0.902330743618202, 'params': {'C': 1000, 'gamma': 0.00021011501503806837, 'kernel': 'linear'}}, {'loss': 0.9245283018867925, 'params': {'C': 1000, 'gamma': 0.0007290798114916551, 'kernel': 'rbf'}}, {'loss': 0.902330743618202, 'params': {'C': 1000, 'gamma': 0.0007351816212358953, 'kernel': 'linear'}}, {'loss': 0.9189789123196448, 'params': {'C': 100, 'gamma': 0.00028514886603519363, 'kernel': 'rbf'}}, {'loss': 0.902330743618202, 'params': {'C': 10, 'gamma': 0.0008080365120044535, 'kernel': 'linear'}}, {'loss': 0.902330743618202, 'params': {'C': 1, 'gamma': 0.0005886648057299423, 'kernel': 'linear'}}, {'loss': 0.902330743618202, 'params': {'C': 10, 'gamma': 0.00037662317680588165, 'kernel': 'linear'}}]\n",
      "{'C': 1000, 'gamma': 0.00021011501503806837, 'kernel': 'linear'}\n",
      "\n",
      "[0.9322974472807991, 0.9464285714285714]\n",
      "[1.0864145755767822, 1.322211503982544]\n",
      "[10, 10]\n"
     ]
    },
    {
     "data": {
      "text/plain": [
       "[{'Model': 'SVC',\n",
       "  'Hyper optimization method': 'BaysianSearch',\n",
       "  'Test accuracy': [0.9322974472807991, 0.9464285714285714],\n",
       "  'Best Parameters': [{'C': 1000,\n",
       "    'gamma': 0.0005450865271797931,\n",
       "    'kernel': 'linear'},\n",
       "   {'C': 1000, 'gamma': 0.00021011501503806837, 'kernel': 'linear'}],\n",
       "  'Parameters sampled': [10, 10],\n",
       "  'Cross validation time (in s)': [1.0864145755767822, 1.322211503982544],\n",
       "  'Mean Test accuracy': 0.9393630093546852,\n",
       "  'Mean Cross validation time (in s)': 1.204313039779663,\n",
       "  'Mean Parameters sampled': 10.0}]"
      ]
     },
     "execution_count": 9,
     "metadata": {},
     "output_type": "execute_result"
    }
   ],
   "source": [
    "# Run search & print result\n",
    "results = cmp_hpt_methods(\n",
    "    hpt_objs,\n",
    "    SVC,\n",
    "    (digits.data, digits.target),\n",
    "    'log_loss',\n",
    "    accuracy_score)\n",
    "results"
   ]
  },
  {
   "cell_type": "code",
   "execution_count": null,
   "metadata": {
    "scrolled": true
   },
   "outputs": [],
   "source": []
  },
  {
   "cell_type": "code",
   "execution_count": null,
   "metadata": {
    "collapsed": true
   },
   "outputs": [],
   "source": []
  },
  {
   "cell_type": "code",
   "execution_count": null,
   "metadata": {
    "collapsed": true
   },
   "outputs": [],
   "source": []
  },
  {
   "cell_type": "code",
   "execution_count": null,
   "metadata": {
    "collapsed": true
   },
   "outputs": [],
   "source": []
  },
  {
   "cell_type": "code",
   "execution_count": null,
   "metadata": {
    "collapsed": true
   },
   "outputs": [],
   "source": []
  },
  {
   "cell_type": "code",
   "execution_count": null,
   "metadata": {
    "collapsed": true
   },
   "outputs": [],
   "source": []
  }
 ],
 "metadata": {
  "kernelspec": {
   "display_name": "Python 3",
   "language": "python",
   "name": "python3"
  },
  "language_info": {
   "codemirror_mode": {
    "name": "ipython",
    "version": 3
   },
   "file_extension": ".py",
   "mimetype": "text/x-python",
   "name": "python",
   "nbconvert_exporter": "python",
   "pygments_lexer": "ipython3",
   "version": "3.6.6"
  }
 },
 "nbformat": 4,
 "nbformat_minor": 2
}
