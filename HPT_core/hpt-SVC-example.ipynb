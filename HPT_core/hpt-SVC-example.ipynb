{
 "cells": [
  {
   "cell_type": "markdown",
   "metadata": {
    "collapsed": true
   },
   "source": [
    "# Hyperparameter Tuning Methods Comparison\n",
    "Cross validation approach based on the following [repo](https://github.com/roamanalytics/roamresearch/tree/master/BlogPosts/Hyperparameter_tuning_comparison)"
   ]
  },
  {
   "cell_type": "code",
   "execution_count": 1,
   "metadata": {
    "collapsed": true,
    "scrolled": true
   },
   "outputs": [],
   "source": [
    "%matplotlib inline"
   ]
  },
  {
   "cell_type": "code",
   "execution_count": 2,
   "metadata": {},
   "outputs": [],
   "source": [
    "%load_ext autoreload\n",
    "%aimport hpt_cmp"
   ]
  },
  {
   "cell_type": "code",
   "execution_count": 3,
   "metadata": {
    "collapsed": true
   },
   "outputs": [],
   "source": [
    "from hpt_cmp import *"
   ]
  },
  {
   "cell_type": "code",
   "execution_count": 4,
   "metadata": {
    "collapsed": true
   },
   "outputs": [],
   "source": [
    "from __future__ import print_function\n",
    "\n",
    "from sklearn import datasets\n",
    "from sklearn.model_selection import train_test_split, StratifiedKFold\n",
    "from sklearn.model_selection import GridSearchCV\n",
    "from sklearn.metrics import accuracy_score\n",
    "from sklearn.svm import SVC\n",
    "from dotmap import DotMap"
   ]
  },
  {
   "cell_type": "code",
   "execution_count": 5,
   "metadata": {
    "collapsed": true
   },
   "outputs": [],
   "source": [
    "# Loading the Digits dataset\n",
    "digits = datasets.load_digits()\n",
    "\n",
    "# To apply an classifier on this data, we need to flatten the image, to\n",
    "# turn the data in a (samples, feature) matrix:\n"
   ]
  },
  {
   "cell_type": "code",
   "execution_count": 6,
   "metadata": {
    "collapsed": true
   },
   "outputs": [],
   "source": [
    "param_grid = [\n",
    "  {'C': [1, 10, 100, 1000], 'kernel': ['linear']},\n",
    "  {'C': [1, 10, 100, 1000], 'gamma': [0.001, 0.0001], 'kernel': ['rbf']},\n",
    " ]"
   ]
  },
  {
   "cell_type": "code",
   "execution_count": 9,
   "metadata": {
    "collapsed": true
   },
   "outputs": [],
   "source": [
    "hpt_objs = [\n",
    "    # add more objs once more search functions implemented\n",
    "    {\n",
    "        'name': 'GridSearch',\n",
    "        'cv': grid_search,\n",
    "        'param_grid': param_grid,\n",
    "        'args' : {}\n",
    "    }]\n",
    "hpt_objs = [DotMap(obj) for obj in hpt_objs ]"
   ]
  },
  {
   "cell_type": "markdown",
   "metadata": {},
   "source": [
    "#### cmp_hpt_methods\n",
    "Parameter description\n",
    "> `htp_objs`: list of hyperparam-tuning object <br>\n",
    "> `model`: sklearn model to optimize (needs to have fit/predict function)<br>\n",
    "> `dataset`: tuple of (X,y) e.g (Data, Target) <br>\n",
    "> `loss`: sklearn loss function to user <br>\n",
    "> `metric`: sklearn metric to optimize for <br>\n",
    "> `datset_split`: random_state for datasetsplit <br>\n",
    "> `name`: currently not user *optional* <br>"
   ]
  },
  {
   "cell_type": "code",
   "execution_count": 8,
   "metadata": {
    "scrolled": false
   },
   "outputs": [
    {
     "name": "stdout",
     "output_type": "stream",
     "text": [
      "Start\n",
      "Here\n",
      "HTP using GridSearch\n",
      "<generator object _BaseKFold.split at 0x7fcd5838da98>\n"
     ]
    },
    {
     "data": {
      "application/vnd.jupyter.widget-view+json": {
       "model_id": "9c9a3a5840664139b44bcbecb5d98a9a",
       "version_major": 2,
       "version_minor": 0
      },
      "text/plain": [
       "HBox(children=(IntProgress(value=0, max=5), HTML(value='')))"
      ]
     },
     "metadata": {},
     "output_type": "display_data"
    },
    {
     "name": "stdout",
     "output_type": "stream",
     "text": [
      "\n"
     ]
    },
    {
     "data": {
      "text/plain": [
       "[{'Model': 'SVC',\n",
       "  'Hyper optimization method': 'GridSearch',\n",
       "  'Test accuracy': [0.978021978021978,\n",
       "   0.9502762430939227,\n",
       "   0.9832869080779945,\n",
       "   0.988795518207283,\n",
       "   0.9633802816901409],\n",
       "  'Best Parameters': [{'C': 10, 'gamma': 0.001, 'kernel': 'rbf'},\n",
       "   {'C': 10, 'gamma': 0.001, 'kernel': 'rbf'},\n",
       "   {'C': 10, 'gamma': 0.001, 'kernel': 'rbf'},\n",
       "   {'C': 10, 'gamma': 0.001, 'kernel': 'rbf'},\n",
       "   {'C': 10, 'gamma': 0.001, 'kernel': 'rbf'}],\n",
       "  'Parameters sampled': [12, 12, 12, 12, 12],\n",
       "  'Cross validation time (in s)': [7.966981410980225,\n",
       "   8.186244010925293,\n",
       "   8.348015546798706,\n",
       "   8.93733835220337,\n",
       "   8.348435401916504],\n",
       "  'Mean Test accuracy': 0.9727521858182637,\n",
       "  'Mean Cross validation time (in s)': 8.35740294456482,\n",
       "  'Mean Parameters sampled': 12.0}]"
      ]
     },
     "execution_count": 8,
     "metadata": {},
     "output_type": "execute_result"
    }
   ],
   "source": [
    "# Run search & print result\n",
    "results = cmp_hpt_methods(\n",
    "    hpt_objs,\n",
    "    SVC,\n",
    "    (digits.data, digits.target),\n",
    "    'log_loss',\n",
    "    accuracy_score)\n",
    "results"
   ]
  },
  {
   "cell_type": "code",
   "execution_count": null,
   "metadata": {
    "collapsed": true
   },
   "outputs": [],
   "source": []
  },
  {
   "cell_type": "code",
   "execution_count": null,
   "metadata": {
    "collapsed": true
   },
   "outputs": [],
   "source": []
  },
  {
   "cell_type": "code",
   "execution_count": null,
   "metadata": {
    "collapsed": true
   },
   "outputs": [],
   "source": []
  }
 ],
 "metadata": {
  "kernelspec": {
   "display_name": "Python 3",
   "language": "python",
   "name": "python3"
  },
  "language_info": {
   "codemirror_mode": {
    "name": "ipython",
    "version": 3
   },
   "file_extension": ".py",
   "mimetype": "text/x-python",
   "name": "python",
   "nbconvert_exporter": "python",
   "pygments_lexer": "ipython3",
   "version": "3.6.6"
  }
 },
 "nbformat": 4,
 "nbformat_minor": 2
}
