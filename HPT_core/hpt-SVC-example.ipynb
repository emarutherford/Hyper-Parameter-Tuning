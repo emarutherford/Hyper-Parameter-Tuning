{
 "cells": [
  {
   "cell_type": "markdown",
   "metadata": {
    "collapsed": true
   },
   "source": [
    "# Hyperparameter Tuning Methods Comparison\n",
    "Cross validation approach based on the following [repo](https://github.com/roamanalytics/roamresearch/tree/master/BlogPosts/Hyperparameter_tuning_comparison)"
   ]
  },
  {
   "cell_type": "code",
   "execution_count": 1,
   "metadata": {
    "collapsed": true,
    "scrolled": true
   },
   "outputs": [],
   "source": [
    "%matplotlib inline"
   ]
  },
  {
   "cell_type": "code",
   "execution_count": 2,
   "metadata": {},
   "outputs": [],
   "source": [
    "%load_ext autoreload\n",
    "%aimport hpt_cmp\n",
    "%autoreload 1"
   ]
  },
  {
   "cell_type": "code",
   "execution_count": 8,
   "metadata": {
    "collapsed": true
   },
   "outputs": [],
   "source": [
    "from hpt_cmp import *"
   ]
  },
  {
   "cell_type": "code",
   "execution_count": 3,
   "metadata": {
    "collapsed": true
   },
   "outputs": [],
   "source": [
    "from __future__ import print_function\n",
    "\n",
    "from sklearn import datasets\n",
    "from sklearn.model_selection import train_test_split, StratifiedKFold\n",
    "from sklearn.model_selection import GridSearchCV\n",
    "from sklearn.metrics import accuracy_score\n",
    "from sklearn.svm import SVC\n",
    "from dotmap import DotMap"
   ]
  },
  {
   "cell_type": "code",
   "execution_count": 4,
   "metadata": {
    "collapsed": true
   },
   "outputs": [],
   "source": [
    "# Loading the Digits dataset\n",
    "digits = datasets.load_digits()\n",
    "\n",
    "# To apply an classifier on this data, we need to flatten the image, to\n",
    "# turn the data in a (samples, feature) matrix:\n"
   ]
  },
  {
   "cell_type": "code",
   "execution_count": 5,
   "metadata": {
    "collapsed": true
   },
   "outputs": [],
   "source": [
    "param_grid = {\n",
    "    'C': [1, 10, 100, 1000],  \n",
    "    'gamma': [0.001, 0.0001],\n",
    "    'kernel': ['linear', 'rbf']\n",
    "}"
   ]
  },
  {
   "cell_type": "code",
   "execution_count": 9,
   "metadata": {},
   "outputs": [
    {
     "data": {
      "text/plain": [
       "[DotMap(name='RandomSearch', cv=<function random_search at 0x7f03f5882e18>, param_grid=DotMap(C=[1, 10, 100, 1000], gamma=[0.001, 0.0001], kernel=['linear', 'rbf']), args=DotMap()),\n",
       " DotMap(name='GridSearch', cv=<function grid_search at 0x7f03f5882d90>, param_grid=DotMap(C=[1, 10, 100, 1000], gamma=[0.001, 0.0001], kernel=['linear', 'rbf']), args=DotMap()),\n",
       " DotMap(name='Baseline', cv=<function run_baseline at 0x7f03f5882ea0>, param_grid=DotMap(C=1, gamma=0.01, kernel='rbf'), args=DotMap())]"
      ]
     },
     "execution_count": 9,
     "metadata": {},
     "output_type": "execute_result"
    }
   ],
   "source": [
    "hpt_objs = [\n",
    "    # add more objs once more search functions implemented\n",
    "        {\n",
    "        'name': 'RandomSearch',\n",
    "        'cv' : random_search,\n",
    "        'param_grid': param_grid,\n",
    "        'args': {}\n",
    "    },\n",
    "    {\n",
    "        'name': 'GridSearch',\n",
    "        'cv': grid_search,\n",
    "        'param_grid': param_grid,\n",
    "        'args' : {}\n",
    "    },\n",
    "    {\n",
    "        'name': 'Baseline',\n",
    "        'cv': run_baseline,\n",
    "        'param_grid' : {'C': 1, 'gamma': 0.01, 'kernel': 'rbf'},\n",
    "        # {}, # use default config\n",
    "        'args': {}\n",
    "    }\n",
    "]\n",
    "\n",
    "hpt_objs = [DotMap(obj, _dynamic=False) for obj in hpt_objs ]\n",
    "hpt_objs"
   ]
  },
  {
   "cell_type": "markdown",
   "metadata": {},
   "source": [
    "#### cmp_hpt_methods\n",
    "Parameter description\n",
    "> `htp_objs`: list of hyperparam-tuning object <br>\n",
    "> `model`: sklearn model to optimize (needs to have fit/predict function)<br>\n",
    "> `dataset`: tuple of (X,y) e.g (Data, Target) <br>\n",
    "> `loss`: sklearn loss function to user <br>\n",
    "> `metric`: sklearn metric to optimize for <br>\n",
    "> `datset_split`: random_state for datasetsplit <br>\n",
    "> `name`: currently not user *optional* <br>"
   ]
  },
  {
   "cell_type": "code",
   "execution_count": 10,
   "metadata": {
    "scrolled": false
   },
   "outputs": [
    {
     "name": "stdout",
     "output_type": "stream",
     "text": [
      "Start\n",
      "HTP using RandomSearch\n"
     ]
    },
    {
     "data": {
      "application/vnd.jupyter.widget-view+json": {
       "model_id": "04799aa1c39e4b0f99f08a974541cc01",
       "version_major": 2,
       "version_minor": 0
      },
      "text/plain": [
       "HBox(children=(IntProgress(value=0, max=2), HTML(value='')))"
      ]
     },
     "metadata": {},
     "output_type": "display_data"
    },
    {
     "name": "stdout",
     "output_type": "stream",
     "text": [
      "RandomSearch\n",
      "{'kernel': 'rbf', 'gamma': 0.001, 'C': 1000}\n",
      "RandomSearch\n",
      "{'kernel': 'rbf', 'gamma': 0.001, 'C': 100}\n",
      "\n",
      "[0.9589345172031076, 0.9665178571428571]\n",
      "[0.6881961822509766, 0.8627851009368896]\n",
      "[10, 10]\n",
      "HTP using GridSearch\n"
     ]
    },
    {
     "data": {
      "application/vnd.jupyter.widget-view+json": {
       "model_id": "3d3ca1740e7f4489aafb08180172cb9d",
       "version_major": 2,
       "version_minor": 0
      },
      "text/plain": [
       "HBox(children=(IntProgress(value=0, max=2), HTML(value='')))"
      ]
     },
     "metadata": {},
     "output_type": "display_data"
    },
    {
     "name": "stdout",
     "output_type": "stream",
     "text": [
      "GridSearch\n",
      "{'C': 10, 'gamma': 0.001, 'kernel': 'rbf'}\n",
      "GridSearch\n",
      "{'C': 10, 'gamma': 0.001, 'kernel': 'rbf'}\n",
      "\n",
      "[0.9589345172031076, 0.9665178571428571]\n",
      "[1.2241437435150146, 1.185934066772461]\n",
      "[16, 16]\n",
      "HTP using Baseline\n"
     ]
    },
    {
     "data": {
      "application/vnd.jupyter.widget-view+json": {
       "model_id": "e101ddd0c79540daa42836f25c824126",
       "version_major": 2,
       "version_minor": 0
      },
      "text/plain": [
       "HBox(children=(IntProgress(value=0, max=2), HTML(value='')))"
      ]
     },
     "metadata": {},
     "output_type": "display_data"
    },
    {
     "name": "stdout",
     "output_type": "stream",
     "text": [
      "Baseline\n",
      "{'C': 1, 'gamma': 0.01, 'kernel': 'rbf'}\n",
      "Baseline\n",
      "{'C': 1, 'gamma': 0.01, 'kernel': 'rbf'}\n",
      "\n",
      "[0.586015538290788, 0.6785714285714286]\n",
      "[0.13615083694458008, 0.13722538948059082]\n",
      "[1, 1]\n"
     ]
    },
    {
     "data": {
      "text/plain": [
       "[{'Model': 'SVC',\n",
       "  'Hyper optimization method': 'RandomSearch',\n",
       "  'Test accuracy': [0.9589345172031076, 0.9665178571428571],\n",
       "  'Best Parameters': [{'kernel': 'rbf', 'gamma': 0.001, 'C': 1000},\n",
       "   {'kernel': 'rbf', 'gamma': 0.001, 'C': 100}],\n",
       "  'Parameters sampled': [10, 10],\n",
       "  'Cross validation time (in s)': [0.6881961822509766, 0.8627851009368896],\n",
       "  'Mean Test accuracy': 0.9627261871729824,\n",
       "  'Mean Cross validation time (in s)': 0.7754906415939331,\n",
       "  'Mean Parameters sampled': 10.0},\n",
       " {'Model': 'SVC',\n",
       "  'Hyper optimization method': 'GridSearch',\n",
       "  'Test accuracy': [0.9589345172031076, 0.9665178571428571],\n",
       "  'Best Parameters': [{'C': 10, 'gamma': 0.001, 'kernel': 'rbf'},\n",
       "   {'C': 10, 'gamma': 0.001, 'kernel': 'rbf'}],\n",
       "  'Parameters sampled': [16, 16],\n",
       "  'Cross validation time (in s)': [1.2241437435150146, 1.185934066772461],\n",
       "  'Mean Test accuracy': 0.9627261871729824,\n",
       "  'Mean Cross validation time (in s)': 1.2050389051437378,\n",
       "  'Mean Parameters sampled': 16.0},\n",
       " {'Model': 'SVC',\n",
       "  'Hyper optimization method': 'Baseline',\n",
       "  'Test accuracy': [0.586015538290788, 0.6785714285714286],\n",
       "  'Best Parameters': [{'C': 1, 'gamma': 0.01, 'kernel': 'rbf'},\n",
       "   {'C': 1, 'gamma': 0.01, 'kernel': 'rbf'}],\n",
       "  'Parameters sampled': [1, 1],\n",
       "  'Cross validation time (in s)': [0.13615083694458008, 0.13722538948059082],\n",
       "  'Mean Test accuracy': 0.6322934834311082,\n",
       "  'Mean Cross validation time (in s)': 0.13668811321258545,\n",
       "  'Mean Parameters sampled': 1.0}]"
      ]
     },
     "execution_count": 10,
     "metadata": {},
     "output_type": "execute_result"
    }
   ],
   "source": [
    "# Run search & print result\n",
    "results = cmp_hpt_methods(\n",
    "    hpt_objs,\n",
    "    SVC,\n",
    "    (digits.data, digits.target),\n",
    "    'log_loss',\n",
    "    accuracy_score)\n",
    "results"
   ]
  },
  {
   "cell_type": "code",
   "execution_count": null,
   "metadata": {
    "scrolled": true
   },
   "outputs": [],
   "source": []
  },
  {
   "cell_type": "code",
   "execution_count": null,
   "metadata": {
    "collapsed": true
   },
   "outputs": [],
   "source": []
  },
  {
   "cell_type": "code",
   "execution_count": null,
   "metadata": {
    "collapsed": true
   },
   "outputs": [],
   "source": []
  },
  {
   "cell_type": "code",
   "execution_count": null,
   "metadata": {
    "collapsed": true
   },
   "outputs": [],
   "source": []
  },
  {
   "cell_type": "code",
   "execution_count": null,
   "metadata": {
    "collapsed": true
   },
   "outputs": [],
   "source": []
  },
  {
   "cell_type": "code",
   "execution_count": null,
   "metadata": {
    "collapsed": true
   },
   "outputs": [],
   "source": []
  }
 ],
 "metadata": {
  "kernelspec": {
   "display_name": "Python 3",
   "language": "python",
   "name": "python3"
  },
  "language_info": {
   "codemirror_mode": {
    "name": "ipython",
    "version": 3
   },
   "file_extension": ".py",
   "mimetype": "text/x-python",
   "name": "python",
   "nbconvert_exporter": "python",
   "pygments_lexer": "ipython3",
   "version": "3.6.6"
  }
 },
 "nbformat": 4,
 "nbformat_minor": 2
}
