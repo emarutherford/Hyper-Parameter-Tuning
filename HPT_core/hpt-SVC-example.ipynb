{
 "cells": [
  {
   "cell_type": "markdown",
   "metadata": {
    "collapsed": true
   },
   "source": [
    "# Hyperparameter Tuning Methods Comparison\n",
    "Cross validation approach based on the following [repo](https://github.com/roamanalytics/roamresearch/tree/master/BlogPosts/Hyperparameter_tuning_comparison)"
   ]
  },
  {
   "cell_type": "code",
   "execution_count": 1,
   "metadata": {
    "scrolled": true
   },
   "outputs": [],
   "source": [
    "%matplotlib inline"
   ]
  },
  {
   "cell_type": "code",
   "execution_count": 178,
   "metadata": {},
   "outputs": [],
   "source": [
    "from hpt_cmp import *"
   ]
  },
  {
   "cell_type": "code",
   "execution_count": 134,
   "metadata": {},
   "outputs": [
    {
     "name": "stdout",
     "output_type": "stream",
     "text": [
      "The autoreload extension is already loaded. To reload it, use:\n",
      "  %reload_ext autoreload\n"
     ]
    }
   ],
   "source": [
    "%load_ext autoreload\n",
    "%aimport hpt_cmp\n",
    "%autoreload 2"
   ]
  },
  {
   "cell_type": "code",
   "execution_count": null,
   "metadata": {
    "collapsed": true
   },
   "outputs": [],
   "source": []
  },
  {
   "cell_type": "code",
   "execution_count": 4,
   "metadata": {
    "collapsed": true
   },
   "outputs": [],
   "source": [
    "from __future__ import print_function\n",
    "from sklearn.metrics import accuracy_score\n",
    "from sklearn.svm import SVC"
   ]
  },
  {
   "cell_type": "code",
   "execution_count": 5,
   "metadata": {},
   "outputs": [],
   "source": [
    "# Loading the Digits dataset\n",
    "digits = datasets.load_digits()\n",
    "iris = datasets.load_iris()\n",
    "wine = datasets.load_wine()\n",
    "bc = datasets.load_breast_cancer()\n",
    "\n",
    "all_datasets = [digits, iris, wine, bc]\n",
    "# To apply an classifier on this data, we need to flatten the image, to\n",
    "# turn the data in a (samples, feature) matrix:"
   ]
  },
  {
   "cell_type": "code",
   "execution_count": 6,
   "metadata": {},
   "outputs": [],
   "source": [
    "param_grid = {\n",
    "    'C': [0.1, 1, 10, 100, 1000],  \n",
    "    'gamma': [0.0001, 0.001, 0.01, 0.1, 1.0],\n",
    "    'kernel': ['linear', 'rbf']\n",
    "}\n",
    "\n",
    "bayes_grid ={\n",
    "     'C': (0.1, 100, 'log-uniform'),\n",
    "    'gamma': (0.0001, 1, 'log-uniform'),\n",
    "        'kernel': ['linear', 'rbf']\n",
    "}\n",
    "\n",
    "hyperopt_grid = {\n",
    "    'C': hp.choice('C', [0.1, 1, 10, 100, 1000]),\n",
    "    'gamma': hp.choice('gamma',[0.0001, 0.001, 0.01, 0.1, 1.0]),\n",
    "    'kernel': hp.choice('kernel', ['linear', 'rbf'])\n",
    "}"
   ]
  },
  {
   "cell_type": "code",
   "execution_count": 7,
   "metadata": {},
   "outputs": [
    {
     "data": {
      "text/plain": [
       "[DotMap(name='Baseline', cv=<function run_baseline at 0x7fc7cfdec620>, param_grid=DotMap(C=1, gamma=0.0001, kernel='rbf'), args=DotMap()),\n",
       " DotMap(name='BaysianSearch', cv=<function baysian_search at 0x7fc7cfdec840>, param_grid=DotMap(C=(0.1, 100, 'log-uniform'), gamma=(0.0001, 1, 'log-uniform'), kernel=['linear', 'rbf']), args=DotMap(n_iter=10)),\n",
       " DotMap(name='Tree of Parzen Estimator', cv=<function tpe_search at 0x7fc7cfdec8c8>, param_grid=DotMap(C=<hyperopt.pyll.base.Apply object at 0x7fc7cfd8c898>, gamma=<hyperopt.pyll.base.Apply object at 0x7fc7cfd8cac8>, kernel=<hyperopt.pyll.base.Apply object at 0x7fc7cfd8ccf8>), args=DotMap()),\n",
       " DotMap(name='RandomSearch', cv=<function random_search at 0x7fc7cfdec7b8>, param_grid=DotMap(C=[0.1, 1, 10, 100, 1000], gamma=[0.0001, 0.001, 0.01, 0.1, 1.0], kernel=['linear', 'rbf']), args=DotMap(n_iter=10)),\n",
       " DotMap(name='GridSearch', cv=<function grid_search at 0x7fc7cfdec730>, param_grid=DotMap(C=[0.1, 1, 10, 100, 1000], gamma=[0.0001, 0.001, 0.01, 0.1, 1.0], kernel=['linear', 'rbf']), args=DotMap())]"
      ]
     },
     "execution_count": 7,
     "metadata": {},
     "output_type": "execute_result"
    }
   ],
   "source": [
    "hpt_objs = [\n",
    "    # add more objs once more search functions implemented\n",
    "        {\n",
    "        'name': 'Baseline',\n",
    "        'cv': run_baseline,\n",
    "        'param_grid' : {'C': 1, 'gamma': 0.0001, 'kernel': 'rbf'},\n",
    "        # {}, # use default config\n",
    "        'args': {}\n",
    "    },\n",
    "    {\n",
    "        'name': 'BaysianSearch',\n",
    "        'cv' : baysian_search,\n",
    "        'param_grid': bayes_grid,\n",
    "        'args': {'n_iter':10}\n",
    "    },\n",
    "    {\n",
    "        'name': 'Tree of Parzen Estimator',\n",
    "        'cv' : tpe_search,\n",
    "        'param_grid': hyperopt_grid,\n",
    "        'args': {}\n",
    "    },\n",
    "    {\n",
    "        'name': 'RandomSearch',\n",
    "        'cv' : random_search,\n",
    "        'param_grid': param_grid,\n",
    "        'args': {'n_iter':10}\n",
    "    },\n",
    "    {\n",
    "        'name': 'GridSearch',\n",
    "        'cv': grid_search,\n",
    "        'param_grid': param_grid,\n",
    "        'args' : {}\n",
    "    }\n",
    "]\n",
    "\n",
    "hpt_objs = [DotMap(obj, _dynamic=False) for obj in hpt_objs ]\n",
    "hpt_objs"
   ]
  },
  {
   "cell_type": "markdown",
   "metadata": {},
   "source": [
    "#### cmp_hpt_methods\n",
    "Parameter description\n",
    "> `htp_objs`: list of hyperparam-tuning object <br>\n",
    "> `model`: sklearn model to optimize (needs to have fit/predict function)<br>\n",
    "> `dataset`: tuple of (X,y) e.g (Data, Target) <br>\n",
    "> `loss`: sklearn loss function to user <br>\n",
    "> `metric`: sklearn metric to optimize for <br>\n",
    "> `datset_split`: random_state for datasetsplit <br>\n",
    "> `name`: currently not user *optional* <br>"
   ]
  },
  {
   "cell_type": "code",
   "execution_count": 9,
   "metadata": {
    "scrolled": true
   },
   "outputs": [
    {
     "name": "stdout",
     "output_type": "stream",
     "text": [
      "HTP using Baseline\n"
     ]
    },
    {
     "data": {
      "application/vnd.jupyter.widget-view+json": {
       "model_id": "49e40bbcbf7042358571d60e7085f6d8",
       "version_major": 2,
       "version_minor": 0
      },
      "text/plain": [
       "HBox(children=(IntProgress(value=0, max=2), HTML(value='')))"
      ]
     },
     "metadata": {},
     "output_type": "display_data"
    },
    {
     "name": "stdout",
     "output_type": "stream",
     "text": [
      "\n",
      "HTP using BaysianSearch\n"
     ]
    },
    {
     "data": {
      "application/vnd.jupyter.widget-view+json": {
       "model_id": "08e1ed0515ef427d87801f74b93509b7",
       "version_major": 2,
       "version_minor": 0
      },
      "text/plain": [
       "HBox(children=(IntProgress(value=0, max=2), HTML(value='')))"
      ]
     },
     "metadata": {},
     "output_type": "display_data"
    },
    {
     "name": "stdout",
     "output_type": "stream",
     "text": [
      "\n",
      "HTP using Tree of Parzen Estimator\n"
     ]
    },
    {
     "data": {
      "application/vnd.jupyter.widget-view+json": {
       "model_id": "48cf4612cc1145ccacbbd3672bfadf65",
       "version_major": 2,
       "version_minor": 0
      },
      "text/plain": [
       "HBox(children=(IntProgress(value=0, max=2), HTML(value='')))"
      ]
     },
     "metadata": {},
     "output_type": "display_data"
    },
    {
     "name": "stdout",
     "output_type": "stream",
     "text": [
      "\n",
      "HTP using RandomSearch\n"
     ]
    },
    {
     "data": {
      "application/vnd.jupyter.widget-view+json": {
       "model_id": "a255a9f06e904832ae7c7472d0a8ab68",
       "version_major": 2,
       "version_minor": 0
      },
      "text/plain": [
       "HBox(children=(IntProgress(value=0, max=2), HTML(value='')))"
      ]
     },
     "metadata": {},
     "output_type": "display_data"
    },
    {
     "name": "stderr",
     "output_type": "stream",
     "text": [
      "/home/tonia/uni/ml/Hyper-Parameter-Tuning/env/lib64/python3.6/site-packages/sklearn/model_selection/_search.py:841: DeprecationWarning: The default of the `iid` parameter will change from True to False in version 0.22 and will be removed in 0.24. This will change numeric results when test-set sizes are unequal.\n",
      "  DeprecationWarning)\n"
     ]
    },
    {
     "name": "stdout",
     "output_type": "stream",
     "text": [
      "\n",
      "HTP using GridSearch\n"
     ]
    },
    {
     "name": "stderr",
     "output_type": "stream",
     "text": [
      "/home/tonia/uni/ml/Hyper-Parameter-Tuning/env/lib64/python3.6/site-packages/sklearn/model_selection/_search.py:841: DeprecationWarning: The default of the `iid` parameter will change from True to False in version 0.22 and will be removed in 0.24. This will change numeric results when test-set sizes are unequal.\n",
      "  DeprecationWarning)\n"
     ]
    },
    {
     "data": {
      "application/vnd.jupyter.widget-view+json": {
       "model_id": "d865ad0db4774e649b33bcffd39c4895",
       "version_major": 2,
       "version_minor": 0
      },
      "text/plain": [
       "HBox(children=(IntProgress(value=0, max=2), HTML(value='')))"
      ]
     },
     "metadata": {},
     "output_type": "display_data"
    },
    {
     "name": "stderr",
     "output_type": "stream",
     "text": [
      "/home/tonia/uni/ml/Hyper-Parameter-Tuning/env/lib64/python3.6/site-packages/sklearn/model_selection/_search.py:841: DeprecationWarning: The default of the `iid` parameter will change from True to False in version 0.22 and will be removed in 0.24. This will change numeric results when test-set sizes are unequal.\n",
      "  DeprecationWarning)\n",
      "/home/tonia/uni/ml/Hyper-Parameter-Tuning/env/lib64/python3.6/site-packages/sklearn/model_selection/_search.py:841: DeprecationWarning: The default of the `iid` parameter will change from True to False in version 0.22 and will be removed in 0.24. This will change numeric results when test-set sizes are unequal.\n",
      "  DeprecationWarning)\n"
     ]
    },
    {
     "name": "stdout",
     "output_type": "stream",
     "text": [
      "\n",
      "HTP using Baseline\n"
     ]
    },
    {
     "data": {
      "application/vnd.jupyter.widget-view+json": {
       "model_id": "e5836ea3c0e04a3a93a02b0cf7d59e5f",
       "version_major": 2,
       "version_minor": 0
      },
      "text/plain": [
       "HBox(children=(IntProgress(value=0, max=2), HTML(value='')))"
      ]
     },
     "metadata": {},
     "output_type": "display_data"
    },
    {
     "name": "stdout",
     "output_type": "stream",
     "text": [
      "\n",
      "HTP using BaysianSearch\n"
     ]
    },
    {
     "data": {
      "application/vnd.jupyter.widget-view+json": {
       "model_id": "d77e7969b0384e20bc0d34fe0e38955e",
       "version_major": 2,
       "version_minor": 0
      },
      "text/plain": [
       "HBox(children=(IntProgress(value=0, max=2), HTML(value='')))"
      ]
     },
     "metadata": {},
     "output_type": "display_data"
    },
    {
     "name": "stdout",
     "output_type": "stream",
     "text": [
      "\n",
      "HTP using Tree of Parzen Estimator\n"
     ]
    },
    {
     "data": {
      "application/vnd.jupyter.widget-view+json": {
       "model_id": "156e24f820a94b7fb3fd848b4d476bd4",
       "version_major": 2,
       "version_minor": 0
      },
      "text/plain": [
       "HBox(children=(IntProgress(value=0, max=2), HTML(value='')))"
      ]
     },
     "metadata": {},
     "output_type": "display_data"
    },
    {
     "name": "stdout",
     "output_type": "stream",
     "text": [
      "\n",
      "HTP using RandomSearch\n"
     ]
    },
    {
     "data": {
      "application/vnd.jupyter.widget-view+json": {
       "model_id": "d0fe5c3bead84122b82a92291297df6b",
       "version_major": 2,
       "version_minor": 0
      },
      "text/plain": [
       "HBox(children=(IntProgress(value=0, max=2), HTML(value='')))"
      ]
     },
     "metadata": {},
     "output_type": "display_data"
    },
    {
     "name": "stdout",
     "output_type": "stream",
     "text": [
      "\n",
      "HTP using GridSearch\n"
     ]
    },
    {
     "name": "stderr",
     "output_type": "stream",
     "text": [
      "/home/tonia/uni/ml/Hyper-Parameter-Tuning/env/lib64/python3.6/site-packages/sklearn/model_selection/_search.py:841: DeprecationWarning: The default of the `iid` parameter will change from True to False in version 0.22 and will be removed in 0.24. This will change numeric results when test-set sizes are unequal.\n",
      "  DeprecationWarning)\n",
      "/home/tonia/uni/ml/Hyper-Parameter-Tuning/env/lib64/python3.6/site-packages/sklearn/model_selection/_search.py:841: DeprecationWarning: The default of the `iid` parameter will change from True to False in version 0.22 and will be removed in 0.24. This will change numeric results when test-set sizes are unequal.\n",
      "  DeprecationWarning)\n"
     ]
    },
    {
     "data": {
      "application/vnd.jupyter.widget-view+json": {
       "model_id": "638033e0e9a04dc4a638ff94c62e508d",
       "version_major": 2,
       "version_minor": 0
      },
      "text/plain": [
       "HBox(children=(IntProgress(value=0, max=2), HTML(value='')))"
      ]
     },
     "metadata": {},
     "output_type": "display_data"
    },
    {
     "name": "stdout",
     "output_type": "stream",
     "text": [
      "\n",
      "HTP using Baseline\n"
     ]
    },
    {
     "name": "stderr",
     "output_type": "stream",
     "text": [
      "/home/tonia/uni/ml/Hyper-Parameter-Tuning/env/lib64/python3.6/site-packages/sklearn/model_selection/_search.py:841: DeprecationWarning: The default of the `iid` parameter will change from True to False in version 0.22 and will be removed in 0.24. This will change numeric results when test-set sizes are unequal.\n",
      "  DeprecationWarning)\n",
      "/home/tonia/uni/ml/Hyper-Parameter-Tuning/env/lib64/python3.6/site-packages/sklearn/model_selection/_search.py:841: DeprecationWarning: The default of the `iid` parameter will change from True to False in version 0.22 and will be removed in 0.24. This will change numeric results when test-set sizes are unequal.\n",
      "  DeprecationWarning)\n"
     ]
    },
    {
     "data": {
      "application/vnd.jupyter.widget-view+json": {
       "model_id": "bce5d01836964bed8f676117d94528e9",
       "version_major": 2,
       "version_minor": 0
      },
      "text/plain": [
       "HBox(children=(IntProgress(value=0, max=2), HTML(value='')))"
      ]
     },
     "metadata": {},
     "output_type": "display_data"
    },
    {
     "name": "stdout",
     "output_type": "stream",
     "text": [
      "\n",
      "HTP using BaysianSearch\n"
     ]
    },
    {
     "data": {
      "application/vnd.jupyter.widget-view+json": {
       "model_id": "a7e413407be24581b0d6f02a31f5dbdf",
       "version_major": 2,
       "version_minor": 0
      },
      "text/plain": [
       "HBox(children=(IntProgress(value=0, max=2), HTML(value='')))"
      ]
     },
     "metadata": {},
     "output_type": "display_data"
    },
    {
     "name": "stdout",
     "output_type": "stream",
     "text": [
      "\n",
      "HTP using Tree of Parzen Estimator\n"
     ]
    },
    {
     "data": {
      "application/vnd.jupyter.widget-view+json": {
       "model_id": "9a68bc51212146dabd6843294b957eab",
       "version_major": 2,
       "version_minor": 0
      },
      "text/plain": [
       "HBox(children=(IntProgress(value=0, max=2), HTML(value='')))"
      ]
     },
     "metadata": {},
     "output_type": "display_data"
    },
    {
     "name": "stdout",
     "output_type": "stream",
     "text": [
      "\n",
      "HTP using RandomSearch\n"
     ]
    },
    {
     "data": {
      "application/vnd.jupyter.widget-view+json": {
       "model_id": "4aaa3618bec848b480b93df749f2bc18",
       "version_major": 2,
       "version_minor": 0
      },
      "text/plain": [
       "HBox(children=(IntProgress(value=0, max=2), HTML(value='')))"
      ]
     },
     "metadata": {},
     "output_type": "display_data"
    },
    {
     "name": "stderr",
     "output_type": "stream",
     "text": [
      "/home/tonia/uni/ml/Hyper-Parameter-Tuning/env/lib64/python3.6/site-packages/sklearn/model_selection/_search.py:841: DeprecationWarning: The default of the `iid` parameter will change from True to False in version 0.22 and will be removed in 0.24. This will change numeric results when test-set sizes are unequal.\n",
      "  DeprecationWarning)\n"
     ]
    },
    {
     "name": "stdout",
     "output_type": "stream",
     "text": [
      "\n",
      "HTP using GridSearch\n"
     ]
    },
    {
     "data": {
      "application/vnd.jupyter.widget-view+json": {
       "model_id": "0b7c9c9a73444880b94c874334140464",
       "version_major": 2,
       "version_minor": 0
      },
      "text/plain": [
       "HBox(children=(IntProgress(value=0, max=2), HTML(value='')))"
      ]
     },
     "metadata": {},
     "output_type": "display_data"
    },
    {
     "name": "stderr",
     "output_type": "stream",
     "text": [
      "/home/tonia/uni/ml/Hyper-Parameter-Tuning/env/lib64/python3.6/site-packages/sklearn/model_selection/_search.py:841: DeprecationWarning: The default of the `iid` parameter will change from True to False in version 0.22 and will be removed in 0.24. This will change numeric results when test-set sizes are unequal.\n",
      "  DeprecationWarning)\n"
     ]
    },
    {
     "name": "stdout",
     "output_type": "stream",
     "text": [
      "\n",
      "HTP using Baseline\n"
     ]
    },
    {
     "data": {
      "application/vnd.jupyter.widget-view+json": {
       "model_id": "02c5f318c6a24723b9b4c7be7e05e77c",
       "version_major": 2,
       "version_minor": 0
      },
      "text/plain": [
       "HBox(children=(IntProgress(value=0, max=2), HTML(value='')))"
      ]
     },
     "metadata": {},
     "output_type": "display_data"
    },
    {
     "name": "stdout",
     "output_type": "stream",
     "text": [
      "\n",
      "HTP using BaysianSearch\n"
     ]
    },
    {
     "data": {
      "application/vnd.jupyter.widget-view+json": {
       "model_id": "50f2b3bd443d498cb265fe9960acaf3c",
       "version_major": 2,
       "version_minor": 0
      },
      "text/plain": [
       "HBox(children=(IntProgress(value=0, max=2), HTML(value='')))"
      ]
     },
     "metadata": {},
     "output_type": "display_data"
    },
    {
     "name": "stdout",
     "output_type": "stream",
     "text": [
      "\n",
      "HTP using Tree of Parzen Estimator\n"
     ]
    },
    {
     "data": {
      "application/vnd.jupyter.widget-view+json": {
       "model_id": "18f02a15d5bf4b94889f900aac38e5c4",
       "version_major": 2,
       "version_minor": 0
      },
      "text/plain": [
       "HBox(children=(IntProgress(value=0, max=2), HTML(value='')))"
      ]
     },
     "metadata": {},
     "output_type": "display_data"
    },
    {
     "name": "stdout",
     "output_type": "stream",
     "text": [
      "\n",
      "HTP using RandomSearch\n"
     ]
    },
    {
     "data": {
      "application/vnd.jupyter.widget-view+json": {
       "model_id": "ae944298dae24f5e90e7a264606cebe2",
       "version_major": 2,
       "version_minor": 0
      },
      "text/plain": [
       "HBox(children=(IntProgress(value=0, max=2), HTML(value='')))"
      ]
     },
     "metadata": {},
     "output_type": "display_data"
    },
    {
     "name": "stdout",
     "output_type": "stream",
     "text": [
      "\n",
      "HTP using GridSearch\n"
     ]
    },
    {
     "data": {
      "application/vnd.jupyter.widget-view+json": {
       "model_id": "a6fa1de59ff845659484ef40201de80b",
       "version_major": 2,
       "version_minor": 0
      },
      "text/plain": [
       "HBox(children=(IntProgress(value=0, max=2), HTML(value='')))"
      ]
     },
     "metadata": {},
     "output_type": "display_data"
    },
    {
     "name": "stdout",
     "output_type": "stream",
     "text": [
      "\n"
     ]
    }
   ],
   "source": [
    "all_results = []\n",
    "\n",
    "for ds in all_datasets:\n",
    "# Run search & print result\n",
    "    results = cmp_hpt_methods(\n",
    "        hpt_objs,\n",
    "        SVC,\n",
    "        (ds.data, ds.target),\n",
    "        'accuracy', #http://scikit-learn.org/stable/modules/model_evaluation.html#scoring-parameter\n",
    "        accuracy_score)\n",
    "    all_results.append(results)"
   ]
  },
  {
   "cell_type": "code",
   "execution_count": 41,
   "metadata": {
    "scrolled": true
   },
   "outputs": [
    {
     "data": {
      "text/plain": [
       "[                 HPT method  Mean Test accuracy  Mean Std  \\\n",
       " 0                  Baseline            0.936012  0.012475   \n",
       " 1             BaysianSearch            0.964397  0.010446   \n",
       " 2  Tree of Parzen Estimator            0.962726  0.013239   \n",
       " 3              RandomSearch            0.952682  0.008722   \n",
       " 4                GridSearch            0.962726  0.013239   \n",
       " \n",
       "    Mean Cross-val. time (in s)  Mean Parameters sampled  \n",
       " 0                     0.086343                      1.0  \n",
       " 1                     1.977688                     10.0  \n",
       " 2                     0.858420                     10.0  \n",
       " 3                     1.314741                     10.0  \n",
       " 4                     5.817392                     50.0  ,\n",
       "                  HPT method  Mean Test accuracy  Mean Std  \\\n",
       " 0                  Baseline            0.913333  0.015491   \n",
       " 1             BaysianSearch            0.953333  0.012810   \n",
       " 2  Tree of Parzen Estimator            0.973333  0.019231   \n",
       " 3              RandomSearch            0.966667  0.012810   \n",
       " 4                GridSearch            0.953333  0.012810   \n",
       " \n",
       "    Mean Cross-val. time (in s)  Mean Parameters sampled  \n",
       " 0                     0.004689                      1.0  \n",
       " 1                     0.891794                     10.0  \n",
       " 2                     0.057144                     10.0  \n",
       " 3                     0.044262                     10.0  \n",
       " 4                     0.156032                     50.0  ,\n",
       "                  HPT method  Mean Test accuracy  Mean Std  \\\n",
       " 0                  Baseline            0.657702  0.042119   \n",
       " 1             BaysianSearch            0.966667  0.049987   \n",
       " 2  Tree of Parzen Estimator            0.972222  0.044444   \n",
       " 3              RandomSearch            0.972222  0.044433   \n",
       " 4                GridSearch            0.972222  0.044433   \n",
       " \n",
       "    Mean Cross-val. time (in s)  Mean Parameters sampled  \n",
       " 0                     0.007786                      1.0  \n",
       " 1                     1.437283                     10.0  \n",
       " 2                     0.212378                     10.0  \n",
       " 3                     0.414902                     10.0  \n",
       " 4                     1.476506                     50.0  ,\n",
       "                  HPT method  Mean Test accuracy  Mean Std  \\\n",
       " 0                  Baseline            0.926198  0.005122   \n",
       " 1             BaysianSearch            0.943742  0.012188   \n",
       " 2  Tree of Parzen Estimator            0.945503  0.005356   \n",
       " 3              RandomSearch            0.950785  0.006931   \n",
       " 4                GridSearch            0.945503  0.005356   \n",
       " \n",
       "    Mean Cross-val. time (in s)  Mean Parameters sampled  \n",
       " 0                     0.010491                      1.0  \n",
       " 1                     5.391797                     10.0  \n",
       " 2                     8.930004                     10.0  \n",
       " 3                    16.504666                     10.0  \n",
       " 4                    71.853988                     50.0  ]"
      ]
     },
     "execution_count": 41,
     "metadata": {},
     "output_type": "execute_result"
    }
   ],
   "source": []
  },
  {
   "cell_type": "code",
   "execution_count": 180,
   "metadata": {},
   "outputs": [],
   "source": [
    "ds_names = ['digits', 'iris', 'wine', 'breast cancer']"
   ]
  },
  {
   "cell_type": "code",
   "execution_count": 182,
   "metadata": {},
   "outputs": [
    {
     "data": {
      "image/png": "[encoded data removed]",
      "text/plain": [
       "<Figure size 432x288 with 1 Axes>"
      ]
     },
     "metadata": {
      "needs_background": "light"
     },
     "output_type": "display_data"
    },
    {
     "data": {
      "image/png": "[encoded data removed]",
      "text/plain": [
       "<Figure size 432x288 with 1 Axes>"
      ]
     },
     "metadata": {
      "needs_background": "light"
     },
     "output_type": "display_data"
    }
   ],
   "source": [
    "# Plot cross validation -e.g. tuning time\n",
    "plot_by_ds(MEAN+CV_TIME, all_results, ds_names)\n",
    "# Plot Test Accuracy\n",
    "plot_by_ds(MEAN+TEST_ACC, all_results, ds_names)"
   ]
  },
  {
   "cell_type": "code",
   "execution_count": null,
   "metadata": {
    "collapsed": true
   },
   "outputs": [],
   "source": []
  },
  {
   "cell_type": "code",
   "execution_count": null,
   "metadata": {
    "collapsed": true
   },
   "outputs": [],
   "source": []
  }
 ],
 "metadata": {
  "kernelspec": {
   "display_name": "Python 3",
   "language": "python",
   "name": "python3"
  },
  "language_info": {
   "codemirror_mode": {
    "name": "ipython",
    "version": 3
   },
   "file_extension": ".py",
   "mimetype": "text/x-python",
   "name": "python",
   "nbconvert_exporter": "python",
   "pygments_lexer": "ipython3",
   "version": "3.6.6"
  }
 },
 "nbformat": 4,
 "nbformat_minor": 2
}
