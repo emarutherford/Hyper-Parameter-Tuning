{
 "cells": [
  {
   "cell_type": "code",
   "execution_count": null,
   "metadata": {
    "collapsed": true
   },
   "outputs": [],
   "source": []
  },
  {
   "cell_type": "code",
   "execution_count": 60,
   "metadata": {},
   "outputs": [
    {
     "name": "stdout",
     "output_type": "stream",
     "text": [
      "The autoreload extension is already loaded. To reload it, use:\n",
      "  %reload_ext autoreload\n"
     ]
    }
   ],
   "source": [
    "%load_ext autoreload\n",
    "%autoreload 2\n",
    "%aimport hpt_cmp\n",
    "\n",
    "%matplotlib inline"
   ]
  },
  {
   "cell_type": "code",
   "execution_count": 61,
   "metadata": {},
   "outputs": [],
   "source": [
    "import dataset_loader as ds\n",
    "import model_loader as mdl\n",
    "import seaborn as sns\n",
    "\n",
    "from hpt_cmp import *\n",
    "\n",
    "from sklearn.metrics import accuracy_score, f1_score,roc_auc_score ,make_scorer\n",
    "from tqdm import tqdm_notebook\n"
   ]
  },
  {
   "cell_type": "code",
   "execution_count": null,
   "metadata": {
    "collapsed": true
   },
   "outputs": [],
   "source": []
  },
  {
   "cell_type": "code",
   "execution_count": 3,
   "metadata": {},
   "outputs": [],
   "source": [
    "# LOAD DATASETS\n",
    "ds_names = ['iris', 'wine', 'breast_cancer', 'digits']\n",
    "datasets = {}\n",
    "\n",
    "for name in ds_names:\n",
    "    datasets[name]=(ds.load(name))"
   ]
  },
  {
   "cell_type": "code",
   "execution_count": 4,
   "metadata": {},
   "outputs": [],
   "source": [
    "models_targs = []"
   ]
  },
  {
   "cell_type": "code",
   "execution_count": 53,
   "metadata": {},
   "outputs": [],
   "source": [
    "# define MLPClassifier\n",
    "m = mdl.load_MLPClassifier()\n",
    "hpt_objs = [\n",
    "        HPT_OBJ('Baseline', m.base, run_baseline, {}),\n",
    "        HPT_OBJ('Grid Search', m.param_grid, grid_search, {}),\n",
    "        HPT_OBJ('Random Search', m.param_grid, random_search, {'n_iter': MAX_ITER}),\n",
    "        HPT_OBJ('Bayes Seach', m.bayes_grid, baysian_search, {'n_iter':MAX_ITER}),\n",
    "        HPT_OBJ('Tree of Parzen Est.', m.hyperopt_grid, tpe_search, {})\n",
    "]\n",
    "#loss='neg_log_loss'\n",
    "loss='accuracy'\n",
    "\n",
    "mlpc ={\n",
    "    'model': m.model,\n",
    "    'hpt_objs': hpt_objs,\n",
    "    'loss': loss,\n",
    "    'metric': accuracy_score,\n",
    "}"
   ]
  },
  {
   "cell_type": "code",
   "execution_count": 54,
   "metadata": {
    "scrolled": true
   },
   "outputs": [
    {
     "name": "stderr",
     "output_type": "stream",
     "text": [
      "/home/tonia/uni/ml/Hyper-Parameter-Tuning/env/lib64/python3.6/site-packages/sklearn/utils/deprecation.py:125: FutureWarning: You are accessing a training score ('train_score'), which will not be available by default any more in 0.21. If you need training scores, please set return_train_score=True\n",
      "  warnings.warn(*warn_args, **warn_kwargs)\n",
      "[Parallel(n_jobs=1)]: Using backend SequentialBackend with 1 concurrent workers.\n"
     ]
    },
    {
     "name": "stdout",
     "output_type": "stream",
     "text": [
      "Fitting 2 folds for each of 9 candidates, totalling 18 fits\n"
     ]
    },
    {
     "name": "stderr",
     "output_type": "stream",
     "text": [
      "/home/tonia/uni/ml/Hyper-Parameter-Tuning/env/lib64/python3.6/site-packages/sklearn/neural_network/multilayer_perceptron.py:562: ConvergenceWarning: Stochastic Optimizer: Maximum iterations (200) reached and the optimization hasn't converged yet.\n",
      "  % self.max_iter, ConvergenceWarning)\n",
      "/home/tonia/uni/ml/Hyper-Parameter-Tuning/env/lib64/python3.6/site-packages/sklearn/neural_network/multilayer_perceptron.py:562: ConvergenceWarning: Stochastic Optimizer: Maximum iterations (200) reached and the optimization hasn't converged yet.\n",
      "  % self.max_iter, ConvergenceWarning)\n",
      "[Parallel(n_jobs=1)]: Done  18 out of  18 | elapsed:    1.0s finished\n",
      "/home/tonia/uni/ml/Hyper-Parameter-Tuning/env/lib64/python3.6/site-packages/sklearn/model_selection/_search.py:271: UserWarning: The total space of parameters 9 is smaller than n_iter=10. Running 9 iterations. For exhaustive searches, use GridSearchCV.\n",
      "  % (grid_size, self.n_iter, grid_size), UserWarning)\n",
      "[Parallel(n_jobs=1)]: Using backend SequentialBackend with 1 concurrent workers.\n"
     ]
    },
    {
     "name": "stdout",
     "output_type": "stream",
     "text": [
      "Fitting 2 folds for each of 9 candidates, totalling 18 fits\n"
     ]
    },
    {
     "name": "stderr",
     "output_type": "stream",
     "text": [
      "/home/tonia/uni/ml/Hyper-Parameter-Tuning/env/lib64/python3.6/site-packages/sklearn/neural_network/multilayer_perceptron.py:562: ConvergenceWarning: Stochastic Optimizer: Maximum iterations (200) reached and the optimization hasn't converged yet.\n",
      "  % self.max_iter, ConvergenceWarning)\n",
      "/home/tonia/uni/ml/Hyper-Parameter-Tuning/env/lib64/python3.6/site-packages/sklearn/neural_network/multilayer_perceptron.py:562: ConvergenceWarning: Stochastic Optimizer: Maximum iterations (200) reached and the optimization hasn't converged yet.\n",
      "  % self.max_iter, ConvergenceWarning)\n",
      "/home/tonia/uni/ml/Hyper-Parameter-Tuning/env/lib64/python3.6/site-packages/sklearn/neural_network/multilayer_perceptron.py:562: ConvergenceWarning: Stochastic Optimizer: Maximum iterations (200) reached and the optimization hasn't converged yet.\n",
      "  % self.max_iter, ConvergenceWarning)\n",
      "[Parallel(n_jobs=1)]: Done  18 out of  18 | elapsed:    1.0s finished\n",
      "[Parallel(n_jobs=1)]: Using backend SequentialBackend with 1 concurrent workers.\n",
      "[Parallel(n_jobs=1)]: Done   2 out of   2 | elapsed:    0.0s finished\n",
      "[Parallel(n_jobs=1)]: Using backend SequentialBackend with 1 concurrent workers.\n"
     ]
    },
    {
     "name": "stdout",
     "output_type": "stream",
     "text": [
      "Fitting 2 folds for each of 1 candidates, totalling 2 fits\n",
      "Fitting 2 folds for each of 1 candidates, totalling 2 fits\n"
     ]
    },
    {
     "name": "stderr",
     "output_type": "stream",
     "text": [
      "[Parallel(n_jobs=1)]: Done   2 out of   2 | elapsed:    0.2s finished\n",
      "[Parallel(n_jobs=1)]: Using backend SequentialBackend with 1 concurrent workers.\n",
      "[Parallel(n_jobs=1)]: Done   2 out of   2 | elapsed:    0.1s finished\n",
      "[Parallel(n_jobs=1)]: Using backend SequentialBackend with 1 concurrent workers.\n"
     ]
    },
    {
     "name": "stdout",
     "output_type": "stream",
     "text": [
      "Fitting 2 folds for each of 1 candidates, totalling 2 fits\n",
      "Fitting 2 folds for each of 1 candidates, totalling 2 fits\n"
     ]
    },
    {
     "name": "stderr",
     "output_type": "stream",
     "text": [
      "[Parallel(n_jobs=1)]: Done   2 out of   2 | elapsed:    0.1s finished\n",
      "[Parallel(n_jobs=1)]: Using backend SequentialBackend with 1 concurrent workers.\n",
      "[Parallel(n_jobs=1)]: Done   2 out of   2 | elapsed:    0.1s finished\n",
      "[Parallel(n_jobs=1)]: Using backend SequentialBackend with 1 concurrent workers.\n"
     ]
    },
    {
     "name": "stdout",
     "output_type": "stream",
     "text": [
      "Fitting 2 folds for each of 1 candidates, totalling 2 fits\n",
      "Fitting 2 folds for each of 1 candidates, totalling 2 fits\n"
     ]
    },
    {
     "name": "stderr",
     "output_type": "stream",
     "text": [
      "/home/tonia/uni/ml/Hyper-Parameter-Tuning/env/lib64/python3.6/site-packages/sklearn/neural_network/multilayer_perceptron.py:562: ConvergenceWarning: Stochastic Optimizer: Maximum iterations (200) reached and the optimization hasn't converged yet.\n",
      "  % self.max_iter, ConvergenceWarning)\n",
      "[Parallel(n_jobs=1)]: Done   2 out of   2 | elapsed:    0.1s finished\n",
      "[Parallel(n_jobs=1)]: Using backend SequentialBackend with 1 concurrent workers.\n",
      "[Parallel(n_jobs=1)]: Done   2 out of   2 | elapsed:    0.1s finished\n",
      "[Parallel(n_jobs=1)]: Using backend SequentialBackend with 1 concurrent workers.\n"
     ]
    },
    {
     "name": "stdout",
     "output_type": "stream",
     "text": [
      "Fitting 2 folds for each of 1 candidates, totalling 2 fits\n",
      "Fitting 2 folds for each of 1 candidates, totalling 2 fits\n"
     ]
    },
    {
     "name": "stderr",
     "output_type": "stream",
     "text": [
      "[Parallel(n_jobs=1)]: Done   2 out of   2 | elapsed:    0.1s finished\n",
      "[Parallel(n_jobs=1)]: Using backend SequentialBackend with 1 concurrent workers.\n",
      "[Parallel(n_jobs=1)]: Done   2 out of   2 | elapsed:    0.2s finished\n"
     ]
    },
    {
     "name": "stdout",
     "output_type": "stream",
     "text": [
      "Fitting 2 folds for each of 1 candidates, totalling 2 fits\n",
      "Fitting 2 folds for each of 1 candidates, totalling 2 fits\n"
     ]
    },
    {
     "name": "stderr",
     "output_type": "stream",
     "text": [
      "[Parallel(n_jobs=1)]: Using backend SequentialBackend with 1 concurrent workers.\n",
      "[Parallel(n_jobs=1)]: Done   2 out of   2 | elapsed:    0.1s finished\n",
      "/home/tonia/uni/ml/Hyper-Parameter-Tuning/env/lib64/python3.6/site-packages/sklearn/utils/deprecation.py:125: FutureWarning: You are accessing a training score ('train_score'), which will not be available by default any more in 0.21. If you need training scores, please set return_train_score=True\n",
      "  warnings.warn(*warn_args, **warn_kwargs)\n",
      "/home/tonia/uni/ml/Hyper-Parameter-Tuning/env/lib64/python3.6/site-packages/sklearn/utils/deprecation.py:125: FutureWarning: You are accessing a training score ('train_score'), which will not be available by default any more in 0.21. If you need training scores, please set return_train_score=True\n",
      "  warnings.warn(*warn_args, **warn_kwargs)\n",
      "/home/tonia/uni/ml/Hyper-Parameter-Tuning/env/lib64/python3.6/site-packages/sklearn/utils/deprecation.py:125: FutureWarning: You are accessing a training score ('train_score'), which will not be available by default any more in 0.21. If you need training scores, please set return_train_score=True\n",
      "  warnings.warn(*warn_args, **warn_kwargs)\n",
      "/home/tonia/uni/ml/Hyper-Parameter-Tuning/env/lib64/python3.6/site-packages/sklearn/utils/deprecation.py:125: FutureWarning: You are accessing a training score ('train_score'), which will not be available by default any more in 0.21. If you need training scores, please set return_train_score=True\n",
      "  warnings.warn(*warn_args, **warn_kwargs)\n",
      "/home/tonia/uni/ml/Hyper-Parameter-Tuning/env/lib64/python3.6/site-packages/sklearn/utils/deprecation.py:125: FutureWarning: You are accessing a training score ('train_score'), which will not be available by default any more in 0.21. If you need training scores, please set return_train_score=True\n",
      "  warnings.warn(*warn_args, **warn_kwargs)\n",
      "/home/tonia/uni/ml/Hyper-Parameter-Tuning/env/lib64/python3.6/site-packages/sklearn/utils/deprecation.py:125: FutureWarning: You are accessing a training score ('train_score'), which will not be available by default any more in 0.21. If you need training scores, please set return_train_score=True\n",
      "  warnings.warn(*warn_args, **warn_kwargs)\n",
      "/home/tonia/uni/ml/Hyper-Parameter-Tuning/env/lib64/python3.6/site-packages/sklearn/utils/deprecation.py:125: FutureWarning: You are accessing a training score ('train_score'), which will not be available by default any more in 0.21. If you need training scores, please set return_train_score=True\n",
      "  warnings.warn(*warn_args, **warn_kwargs)\n",
      "/home/tonia/uni/ml/Hyper-Parameter-Tuning/env/lib64/python3.6/site-packages/sklearn/utils/deprecation.py:125: FutureWarning: You are accessing a training score ('train_score'), which will not be available by default any more in 0.21. If you need training scores, please set return_train_score=True\n",
      "  warnings.warn(*warn_args, **warn_kwargs)\n",
      "/home/tonia/uni/ml/Hyper-Parameter-Tuning/env/lib64/python3.6/site-packages/sklearn/neural_network/multilayer_perceptron.py:562: ConvergenceWarning: Stochastic Optimizer: Maximum iterations (200) reached and the optimization hasn't converged yet.\n",
      "  % self.max_iter, ConvergenceWarning)\n",
      "/home/tonia/uni/ml/Hyper-Parameter-Tuning/env/lib64/python3.6/site-packages/sklearn/utils/deprecation.py:125: FutureWarning: You are accessing a training score ('train_score'), which will not be available by default any more in 0.21. If you need training scores, please set return_train_score=True\n",
      "  warnings.warn(*warn_args, **warn_kwargs)\n",
      "/home/tonia/uni/ml/Hyper-Parameter-Tuning/env/lib64/python3.6/site-packages/sklearn/neural_network/multilayer_perceptron.py:562: ConvergenceWarning: Stochastic Optimizer: Maximum iterations (200) reached and the optimization hasn't converged yet.\n",
      "  % self.max_iter, ConvergenceWarning)\n",
      "/home/tonia/uni/ml/Hyper-Parameter-Tuning/env/lib64/python3.6/site-packages/sklearn/neural_network/multilayer_perceptron.py:562: ConvergenceWarning: Stochastic Optimizer: Maximum iterations (200) reached and the optimization hasn't converged yet.\n",
      "  % self.max_iter, ConvergenceWarning)\n",
      "/home/tonia/uni/ml/Hyper-Parameter-Tuning/env/lib64/python3.6/site-packages/sklearn/utils/deprecation.py:125: FutureWarning: You are accessing a training score ('train_score'), which will not be available by default any more in 0.21. If you need training scores, please set return_train_score=True\n",
      "  warnings.warn(*warn_args, **warn_kwargs)\n",
      "/home/tonia/uni/ml/Hyper-Parameter-Tuning/env/lib64/python3.6/site-packages/sklearn/utils/deprecation.py:125: FutureWarning: You are accessing a training score ('split0_train_score'), which will not be available by default any more in 0.21. If you need training scores, please set return_train_score=True\n",
      "  warnings.warn(*warn_args, **warn_kwargs)\n",
      "/home/tonia/uni/ml/Hyper-Parameter-Tuning/env/lib64/python3.6/site-packages/sklearn/utils/deprecation.py:125: FutureWarning: You are accessing a training score ('split1_train_score'), which will not be available by default any more in 0.21. If you need training scores, please set return_train_score=True\n",
      "  warnings.warn(*warn_args, **warn_kwargs)\n",
      "/home/tonia/uni/ml/Hyper-Parameter-Tuning/env/lib64/python3.6/site-packages/sklearn/utils/deprecation.py:125: FutureWarning: You are accessing a training score ('mean_train_score'), which will not be available by default any more in 0.21. If you need training scores, please set return_train_score=True\n",
      "  warnings.warn(*warn_args, **warn_kwargs)\n",
      "/home/tonia/uni/ml/Hyper-Parameter-Tuning/env/lib64/python3.6/site-packages/sklearn/utils/deprecation.py:125: FutureWarning: You are accessing a training score ('std_train_score'), which will not be available by default any more in 0.21. If you need training scores, please set return_train_score=True\n",
      "  warnings.warn(*warn_args, **warn_kwargs)\n"
     ]
    },
    {
     "data": {
      "text/plain": [
       "[{'method': 'Baseline',\n",
       "  'data': [{'mean_test_score': 0.9466666666666667,\n",
       "    'std_test_score': 0.013333333333333308,\n",
       "    'mean_train_score': 0.9933333333333334,\n",
       "    'std_train_score': 0.006666666666666654,\n",
       "    'mean_fit_time': 0.08685469627380371,\n",
       "    'std_fit_time': 0.0026993751525878906,\n",
       "    'params': {'learning_rate': 'adaptive', 'learning_rate_init': 0.01},\n",
       "    'params_learning_rate': 'adaptive',\n",
       "    'params_learning_rate_init': 0.01,\n",
       "    'status': 'ok',\n",
       "    'loss': 0.9466666666666667}]},\n",
       " {'method': 'Grid Search',\n",
       "  'data': {'mean_fit_time': array([0.06624186, 0.05241716, 0.0295682 , 0.07242131, 0.05638444,\n",
       "          0.01089919, 0.09828794, 0.06842256, 0.01969039]),\n",
       "   'std_fit_time': array([0.004228  , 0.0421623 , 0.01641655, 0.01490021, 0.01352704,\n",
       "          0.0056802 , 0.00792634, 0.00522304, 0.01359999]),\n",
       "   'mean_score_time': array([0.00030053, 0.00057232, 0.00030732, 0.0005573 , 0.00030339,\n",
       "          0.00042963, 0.00042081, 0.00029278, 0.00054848]),\n",
       "   'std_score_time': array([1.07288361e-06, 1.90138817e-04, 3.81469727e-05, 2.59995461e-04,\n",
       "          4.41074371e-06, 1.01566315e-04, 3.19480896e-05, 1.90734863e-06,\n",
       "          5.54323196e-05]),\n",
       "   'param_learning_rate': masked_array(data=['constant', 'constant', 'constant', 'invscaling',\n",
       "                      'invscaling', 'invscaling', 'adaptive', 'adaptive',\n",
       "                      'adaptive'],\n",
       "                mask=[False, False, False, False, False, False, False, False,\n",
       "                      False],\n",
       "          fill_value='?',\n",
       "               dtype=object),\n",
       "   'param_learning_rate_init': masked_array(data=[0.01, 0.3, 0.5, 0.01, 0.3, 0.5, 0.01, 0.3, 0.5],\n",
       "                mask=[False, False, False, False, False, False, False, False,\n",
       "                      False],\n",
       "          fill_value='?',\n",
       "               dtype=object),\n",
       "   'params': [{'learning_rate': 'constant', 'learning_rate_init': 0.01},\n",
       "    {'learning_rate': 'constant', 'learning_rate_init': 0.3},\n",
       "    {'learning_rate': 'constant', 'learning_rate_init': 0.5},\n",
       "    {'learning_rate': 'invscaling', 'learning_rate_init': 0.01},\n",
       "    {'learning_rate': 'invscaling', 'learning_rate_init': 0.3},\n",
       "    {'learning_rate': 'invscaling', 'learning_rate_init': 0.5},\n",
       "    {'learning_rate': 'adaptive', 'learning_rate_init': 0.01},\n",
       "    {'learning_rate': 'adaptive', 'learning_rate_init': 0.3},\n",
       "    {'learning_rate': 'adaptive', 'learning_rate_init': 0.5}],\n",
       "   'split0_test_score': array([0.97333333, 0.33333333, 0.96      , 0.97333333, 0.96      ,\n",
       "          0.34666667, 0.97333333, 0.97333333, 0.33333333]),\n",
       "   'split1_test_score': array([0.93333333, 0.94666667, 0.33333333, 0.93333333, 0.94666667,\n",
       "          0.33333333, 0.94666667, 0.93333333, 0.33333333]),\n",
       "   'mean_test_score': array([0.95333333, 0.64      , 0.64666667, 0.95333333, 0.95333333,\n",
       "          0.34      , 0.96      , 0.95333333, 0.33333333]),\n",
       "   'std_test_score': array([0.02      , 0.30666667, 0.31333333, 0.02      , 0.00666667,\n",
       "          0.00666667, 0.01333333, 0.02      , 0.        ]),\n",
       "   'rank_test_score': array([2, 7, 6, 2, 2, 8, 1, 2, 9], dtype=int32),\n",
       "   'split0_train_score': array([0.97333333, 0.33333333, 0.98666667, 0.97333333, 0.98666667,\n",
       "          0.30666667, 0.97333333, 0.97333333, 0.34666667]),\n",
       "   'split1_train_score': array([1.        , 1.        , 0.33333333, 1.        , 1.        ,\n",
       "          0.33333333, 1.        , 1.        , 0.33333333]),\n",
       "   'mean_train_score': array([0.98666667, 0.66666667, 0.66      , 0.98666667, 0.99333333,\n",
       "          0.32      , 0.98666667, 0.98666667, 0.34      ]),\n",
       "   'std_train_score': array([0.01333333, 0.33333333, 0.32666667, 0.01333333, 0.00666667,\n",
       "          0.01333333, 0.01333333, 0.01333333, 0.00666667])}},\n",
       " {'method': 'Random Search',\n",
       "  'data': {'mean_fit_time': array([0.08485234, 0.07238829, 0.00651467, 0.07513356, 0.05392325,\n",
       "          0.00661385, 0.07921088, 0.09133041, 0.01019764]),\n",
       "   'std_fit_time': array([0.01266062, 0.0178591 , 0.00030935, 0.01011252, 0.0148114 ,\n",
       "          0.00154459, 0.01084864, 0.00534666, 0.00136709]),\n",
       "   'mean_score_time': array([0.00030458, 0.00084984, 0.00035715, 0.00031114, 0.00030434,\n",
       "          0.00033891, 0.00058973, 0.00066912, 0.00033021]),\n",
       "   'std_score_time': array([4.17232513e-06, 2.89678574e-05, 7.55786896e-05, 1.71661377e-05,\n",
       "          2.30073929e-05, 3.99351120e-05, 2.66671181e-04, 8.18967819e-05,\n",
       "          4.81605530e-05]),\n",
       "   'param_learning_rate_init': masked_array(data=[0.01, 0.3, 0.5, 0.01, 0.3, 0.5, 0.01, 0.3, 0.5],\n",
       "                mask=[False, False, False, False, False, False, False, False,\n",
       "                      False],\n",
       "          fill_value='?',\n",
       "               dtype=object),\n",
       "   'param_learning_rate': masked_array(data=['constant', 'constant', 'constant', 'invscaling',\n",
       "                      'invscaling', 'invscaling', 'adaptive', 'adaptive',\n",
       "                      'adaptive'],\n",
       "                mask=[False, False, False, False, False, False, False, False,\n",
       "                      False],\n",
       "          fill_value='?',\n",
       "               dtype=object),\n",
       "   'params': [{'learning_rate_init': 0.01, 'learning_rate': 'constant'},\n",
       "    {'learning_rate_init': 0.3, 'learning_rate': 'constant'},\n",
       "    {'learning_rate_init': 0.5, 'learning_rate': 'constant'},\n",
       "    {'learning_rate_init': 0.01, 'learning_rate': 'invscaling'},\n",
       "    {'learning_rate_init': 0.3, 'learning_rate': 'invscaling'},\n",
       "    {'learning_rate_init': 0.5, 'learning_rate': 'invscaling'},\n",
       "    {'learning_rate_init': 0.01, 'learning_rate': 'adaptive'},\n",
       "    {'learning_rate_init': 0.3, 'learning_rate': 'adaptive'},\n",
       "    {'learning_rate_init': 0.5, 'learning_rate': 'adaptive'}],\n",
       "   'split0_test_score': array([0.98666667, 0.96      , 0.53333333, 0.97333333, 0.97333333,\n",
       "          0.66666667, 0.98666667, 0.96      , 0.33333333]),\n",
       "   'split1_test_score': array([0.93333333, 0.94666667, 0.33333333, 0.94666667, 0.93333333,\n",
       "          0.74666667, 0.93333333, 0.94666667, 0.33333333]),\n",
       "   'mean_test_score': array([0.96      , 0.95333333, 0.43333333, 0.96      , 0.95333333,\n",
       "          0.70666667, 0.96      , 0.95333333, 0.33333333]),\n",
       "   'std_test_score': array([0.02666667, 0.00666667, 0.1       , 0.01333333, 0.02      ,\n",
       "          0.04      , 0.02666667, 0.00666667, 0.        ]),\n",
       "   'rank_test_score': array([1, 4, 8, 1, 4, 7, 1, 4, 9], dtype=int32),\n",
       "   'split0_train_score': array([0.97333333, 0.97333333, 0.54666667, 0.97333333, 0.97333333,\n",
       "          0.66666667, 0.97333333, 0.97333333, 0.33333333]),\n",
       "   'split1_train_score': array([1.        , 1.        , 0.33333333, 1.        , 1.        ,\n",
       "          0.73333333, 1.        , 1.        , 0.33333333]),\n",
       "   'mean_train_score': array([0.98666667, 0.98666667, 0.44      , 0.98666667, 0.98666667,\n",
       "          0.7       , 0.98666667, 0.98666667, 0.33333333]),\n",
       "   'std_train_score': array([0.01333333, 0.01333333, 0.10666667, 0.01333333, 0.01333333,\n",
       "          0.03333333, 0.01333333, 0.01333333, 0.        ])}},\n",
       " {'method': 'Bayes Seach',\n",
       "  'data': defaultdict(list,\n",
       "              {'split0_test_score': [0.3333333333333333,\n",
       "                0.9733333333333334,\n",
       "                0.96,\n",
       "                0.96,\n",
       "                0.96,\n",
       "                0.6666666666666666,\n",
       "                0.96,\n",
       "                0.96,\n",
       "                0.96,\n",
       "                0.96],\n",
       "               'split1_test_score': [0.3333333333333333,\n",
       "                0.9333333333333333,\n",
       "                0.9333333333333333,\n",
       "                0.9333333333333333,\n",
       "                0.9333333333333333,\n",
       "                0.9466666666666667,\n",
       "                0.9333333333333333,\n",
       "                0.6666666666666666,\n",
       "                0.9333333333333333,\n",
       "                0.9466666666666667],\n",
       "               'mean_test_score': [0.3333333333333333,\n",
       "                0.9533333333333334,\n",
       "                0.9466666666666667,\n",
       "                0.9466666666666667,\n",
       "                0.9466666666666667,\n",
       "                0.8066666666666666,\n",
       "                0.9466666666666667,\n",
       "                0.8133333333333334,\n",
       "                0.9466666666666667,\n",
       "                0.9533333333333334],\n",
       "               'std_test_score': [0.0,\n",
       "                0.020000000000000018,\n",
       "                0.013333333333333308,\n",
       "                0.013333333333333308,\n",
       "                0.013333333333333308,\n",
       "                0.14,\n",
       "                0.013333333333333308,\n",
       "                0.14666666666666667,\n",
       "                0.013333333333333308,\n",
       "                0.006666666666666654],\n",
       "               'rank_test_score': [1, 1, 1, 1, 1, 1, 1, 1, 1, 1],\n",
       "               'mean_fit_time': [0.00907742977142334,\n",
       "                0.08620095252990723,\n",
       "                0.06260871887207031,\n",
       "                0.06232297420501709,\n",
       "                0.05328571796417236,\n",
       "                0.06417655944824219,\n",
       "                0.06807684898376465,\n",
       "                0.031229734420776367,\n",
       "                0.08131766319274902,\n",
       "                0.06866896152496338],\n",
       "               'std_fit_time': [0.003090977668762207,\n",
       "                0.000797271728515625,\n",
       "                0.003014802932739258,\n",
       "                0.00938570499420166,\n",
       "                0.01902306079864502,\n",
       "                0.02602076530456543,\n",
       "                0.010796070098876953,\n",
       "                0.018421411514282227,\n",
       "                0.014547348022460938,\n",
       "                0.014103293418884277],\n",
       "               'mean_score_time': [0.00043582916259765625,\n",
       "                0.0003508329391479492,\n",
       "                0.00033092498779296875,\n",
       "                0.00036585330963134766,\n",
       "                0.00031507015228271484,\n",
       "                0.0004012584686279297,\n",
       "                0.0003222227096557617,\n",
       "                0.00032389163970947266,\n",
       "                0.00032889842987060547,\n",
       "                0.00032520294189453125],\n",
       "               'std_score_time': [7.963180541992188e-05,\n",
       "                1.0132789611816406e-05,\n",
       "                9.5367431640625e-07,\n",
       "                2.491474151611328e-05,\n",
       "                1.5497207641601562e-06,\n",
       "                8.082389831542969e-05,\n",
       "                4.887580871582031e-06,\n",
       "                1.1920928955078125e-07,\n",
       "                2.9802322387695312e-06,\n",
       "                2.384185791015625e-06],\n",
       "               'param_learning_rate': ['adaptive',\n",
       "                'invscaling',\n",
       "                'invscaling',\n",
       "                'invscaling',\n",
       "                'invscaling',\n",
       "                'invscaling',\n",
       "                'constant',\n",
       "                'invscaling',\n",
       "                'adaptive',\n",
       "                'invscaling'],\n",
       "               'param_learning_rate_init': [0.3737955902153143,\n",
       "                0.015573421340478415,\n",
       "                0.03060538259276857,\n",
       "                0.10487813623601554,\n",
       "                0.11350529619440863,\n",
       "                0.45245396474957233,\n",
       "                0.10608507855234309,\n",
       "                0.16692531999491617,\n",
       "                0.01926491871634297,\n",
       "                0.11023950407711568],\n",
       "               'params': [{'learning_rate': 'adaptive',\n",
       "                 'learning_rate_init': 0.3737955902153143},\n",
       "                {'learning_rate': 'invscaling',\n",
       "                 'learning_rate_init': 0.015573421340478415},\n",
       "                {'learning_rate': 'invscaling',\n",
       "                 'learning_rate_init': 0.03060538259276857},\n",
       "                {'learning_rate': 'invscaling',\n",
       "                 'learning_rate_init': 0.10487813623601554},\n",
       "                {'learning_rate': 'invscaling',\n",
       "                 'learning_rate_init': 0.11350529619440863},\n",
       "                {'learning_rate': 'invscaling',\n",
       "                 'learning_rate_init': 0.45245396474957233},\n",
       "                {'learning_rate': 'constant',\n",
       "                 'learning_rate_init': 0.10608507855234309},\n",
       "                {'learning_rate': 'invscaling',\n",
       "                 'learning_rate_init': 0.16692531999491617},\n",
       "                {'learning_rate': 'adaptive',\n",
       "                 'learning_rate_init': 0.01926491871634297},\n",
       "                {'learning_rate': 'invscaling',\n",
       "                 'learning_rate_init': 0.11023950407711568}]})},\n",
       " {'method': 'Tree of Parzen Est.',\n",
       "  'data': [{'mean_test_score': 0.9533333333333334,\n",
       "    'std_test_score': 0.020000000000000018,\n",
       "    'mean_train_score': 0.9866666666666667,\n",
       "    'std_train_score': 0.013333333333333308,\n",
       "    'mean_fit_time': 0.08497846126556396,\n",
       "    'std_fit_time': 0.0114823579788208,\n",
       "    'params': {'learning_rate': 'adaptive', 'learning_rate_init': 0.01},\n",
       "    'params_learning_rate': 'adaptive',\n",
       "    'params_learning_rate_init': 0.01,\n",
       "    'status': 'ok',\n",
       "    'loss': 0.9533333333333334},\n",
       "   {'mean_test_score': 0.96,\n",
       "    'std_test_score': 0.013333333333333364,\n",
       "    'mean_train_score': 0.9866666666666667,\n",
       "    'std_train_score': 0.013333333333333308,\n",
       "    'mean_fit_time': 0.08920097351074219,\n",
       "    'std_fit_time': 0.00011324882507324219,\n",
       "    'params': {'learning_rate': 'adaptive', 'learning_rate_init': 0.01},\n",
       "    'params_learning_rate': 'adaptive',\n",
       "    'params_learning_rate_init': 0.01,\n",
       "    'status': 'ok',\n",
       "    'loss': 0.96},\n",
       "   {'mean_test_score': 0.9533333333333334,\n",
       "    'std_test_score': 0.020000000000000018,\n",
       "    'mean_train_score': 0.9866666666666667,\n",
       "    'std_train_score': 0.013333333333333308,\n",
       "    'mean_fit_time': 0.0893549919128418,\n",
       "    'std_fit_time': 0.0024454593658447266,\n",
       "    'params': {'learning_rate': 'constant', 'learning_rate_init': 0.01},\n",
       "    'params_learning_rate': 'constant',\n",
       "    'params_learning_rate_init': 0.01,\n",
       "    'status': 'ok',\n",
       "    'loss': 0.9533333333333334},\n",
       "   {'mean_test_score': 0.5,\n",
       "    'std_test_score': 0.16666666666666666,\n",
       "    'mean_train_score': 0.5,\n",
       "    'std_train_score': 0.16666666666666666,\n",
       "    'mean_fit_time': 0.007593631744384766,\n",
       "    'std_fit_time': 0.0002765655517578125,\n",
       "    'params': {'learning_rate': 'invscaling', 'learning_rate_init': 0.5},\n",
       "    'params_learning_rate': 'invscaling',\n",
       "    'params_learning_rate_init': 0.5,\n",
       "    'status': 'ok',\n",
       "    'loss': 0.5},\n",
       "   {'mean_test_score': 0.96,\n",
       "    'std_test_score': 0.026666666666666672,\n",
       "    'mean_train_score': 0.9866666666666667,\n",
       "    'std_train_score': 0.013333333333333308,\n",
       "    'mean_fit_time': 0.03779494762420654,\n",
       "    'std_fit_time': 0.019012808799743652,\n",
       "    'params': {'learning_rate': 'invscaling', 'learning_rate_init': 0.3},\n",
       "    'params_learning_rate': 'invscaling',\n",
       "    'params_learning_rate_init': 0.3,\n",
       "    'status': 'ok',\n",
       "    'loss': 0.96},\n",
       "   {'mean_test_score': 0.96,\n",
       "    'std_test_score': 0.026666666666666672,\n",
       "    'mean_train_score': 0.9866666666666667,\n",
       "    'std_train_score': 0.013333333333333308,\n",
       "    'mean_fit_time': 0.07875502109527588,\n",
       "    'std_fit_time': 0.012432694435119629,\n",
       "    'params': {'learning_rate': 'adaptive', 'learning_rate_init': 0.01},\n",
       "    'params_learning_rate': 'adaptive',\n",
       "    'params_learning_rate_init': 0.01,\n",
       "    'status': 'ok',\n",
       "    'loss': 0.96},\n",
       "   {'mean_test_score': 0.9533333333333334,\n",
       "    'std_test_score': 0.020000000000000018,\n",
       "    'mean_train_score': 0.9866666666666667,\n",
       "    'std_train_score': 0.013333333333333308,\n",
       "    'mean_fit_time': 0.08371341228485107,\n",
       "    'std_fit_time': 0.008188128471374512,\n",
       "    'params': {'learning_rate': 'invscaling', 'learning_rate_init': 0.3},\n",
       "    'params_learning_rate': 'invscaling',\n",
       "    'params_learning_rate_init': 0.3,\n",
       "    'status': 'ok',\n",
       "    'loss': 0.9533333333333334},\n",
       "   {'mean_test_score': 0.3333333333333333,\n",
       "    'std_test_score': 0.0,\n",
       "    'mean_train_score': 0.3333333333333333,\n",
       "    'std_train_score': 0.0,\n",
       "    'mean_fit_time': 0.01144266128540039,\n",
       "    'std_fit_time': 0.0007336139678955078,\n",
       "    'params': {'learning_rate': 'constant', 'learning_rate_init': 0.5},\n",
       "    'params_learning_rate': 'constant',\n",
       "    'params_learning_rate_init': 0.5,\n",
       "    'status': 'ok',\n",
       "    'loss': 0.3333333333333333},\n",
       "   {'mean_test_score': 0.96,\n",
       "    'std_test_score': 0.013333333333333364,\n",
       "    'mean_train_score': 0.98,\n",
       "    'std_train_score': 0.020000000000000018,\n",
       "    'mean_fit_time': 0.10424661636352539,\n",
       "    'std_fit_time': 0.0032203197479248047,\n",
       "    'params': {'learning_rate': 'invscaling', 'learning_rate_init': 0.5},\n",
       "    'params_learning_rate': 'invscaling',\n",
       "    'params_learning_rate_init': 0.5,\n",
       "    'status': 'ok',\n",
       "    'loss': 0.96},\n",
       "   {'mean_test_score': 0.96,\n",
       "    'std_test_score': 0.013333333333333364,\n",
       "    'mean_train_score': 0.9866666666666667,\n",
       "    'std_train_score': 0.013333333333333308,\n",
       "    'mean_fit_time': 0.10067975521087646,\n",
       "    'std_fit_time': 0.0026444196701049805,\n",
       "    'params': {'learning_rate': 'constant', 'learning_rate_init': 0.3},\n",
       "    'params_learning_rate': 'constant',\n",
       "    'params_learning_rate_init': 0.3,\n",
       "    'status': 'ok',\n",
       "    'loss': 0.96}]}]"
      ]
     },
     "execution_count": 54,
     "metadata": {},
     "output_type": "execute_result"
    }
   ],
   "source": [
    "iris = datasets['iris']\n",
    "iris = (iris.data, iris.target)\n",
    "\n",
    "res = cmp_hpt_methods(iris, **mlpc)\n",
    "res"
   ]
  },
  {
   "cell_type": "code",
   "execution_count": 8,
   "metadata": {},
   "outputs": [],
   "source": [
    "methods = []\n",
    "dfs = {}\n",
    "for data in res:\n",
    "    methods.append(data['method'])\n",
    "    dfs[data['method']]=(pd.DataFrame(data['data']))"
   ]
  },
  {
   "cell_type": "code",
   "execution_count": 9,
   "metadata": {},
   "outputs": [
    {
     "data": {
      "text/html": [
       "<div>\n",
       "<style scoped>\n",
       "    .dataframe tbody tr th:only-of-type {\n",
       "        vertical-align: middle;\n",
       "    }\n",
       "\n",
       "    .dataframe tbody tr th {\n",
       "        vertical-align: top;\n",
       "    }\n",
       "\n",
       "    .dataframe thead th {\n",
       "        text-align: right;\n",
       "    }\n",
       "</style>\n",
       "<table border=\"1\" class=\"dataframe\">\n",
       "  <thead>\n",
       "    <tr style=\"text-align: right;\">\n",
       "      <th></th>\n",
       "      <th>loss</th>\n",
       "      <th>mean_fit_time</th>\n",
       "      <th>mean_test_score</th>\n",
       "      <th>mean_train_score</th>\n",
       "      <th>params</th>\n",
       "      <th>params_learning_rate</th>\n",
       "      <th>params_learning_rate_init</th>\n",
       "      <th>status</th>\n",
       "      <th>std_fit_time</th>\n",
       "      <th>std_test_score</th>\n",
       "      <th>std_train_score</th>\n",
       "    </tr>\n",
       "  </thead>\n",
       "  <tbody>\n",
       "    <tr>\n",
       "      <th>0</th>\n",
       "      <td>0.953333</td>\n",
       "      <td>0.062413</td>\n",
       "      <td>0.953333</td>\n",
       "      <td>0.986667</td>\n",
       "      <td>{'learning_rate': 'invscaling', 'learning_rate...</td>\n",
       "      <td>invscaling</td>\n",
       "      <td>0.30</td>\n",
       "      <td>ok</td>\n",
       "      <td>0.004125</td>\n",
       "      <td>0.020000</td>\n",
       "      <td>0.013333</td>\n",
       "    </tr>\n",
       "    <tr>\n",
       "      <th>1</th>\n",
       "      <td>0.960000</td>\n",
       "      <td>0.091839</td>\n",
       "      <td>0.960000</td>\n",
       "      <td>0.986667</td>\n",
       "      <td>{'learning_rate': 'constant', 'learning_rate_i...</td>\n",
       "      <td>constant</td>\n",
       "      <td>0.01</td>\n",
       "      <td>ok</td>\n",
       "      <td>0.002607</td>\n",
       "      <td>0.026667</td>\n",
       "      <td>0.013333</td>\n",
       "    </tr>\n",
       "    <tr>\n",
       "      <th>2</th>\n",
       "      <td>0.840000</td>\n",
       "      <td>0.054272</td>\n",
       "      <td>0.840000</td>\n",
       "      <td>0.873333</td>\n",
       "      <td>{'learning_rate': 'constant', 'learning_rate_i...</td>\n",
       "      <td>constant</td>\n",
       "      <td>0.30</td>\n",
       "      <td>ok</td>\n",
       "      <td>0.008509</td>\n",
       "      <td>0.093333</td>\n",
       "      <td>0.126667</td>\n",
       "    </tr>\n",
       "    <tr>\n",
       "      <th>3</th>\n",
       "      <td>0.733333</td>\n",
       "      <td>0.008983</td>\n",
       "      <td>0.733333</td>\n",
       "      <td>0.720000</td>\n",
       "      <td>{'learning_rate': 'invscaling', 'learning_rate...</td>\n",
       "      <td>invscaling</td>\n",
       "      <td>0.30</td>\n",
       "      <td>ok</td>\n",
       "      <td>0.001071</td>\n",
       "      <td>0.066667</td>\n",
       "      <td>0.080000</td>\n",
       "    </tr>\n",
       "    <tr>\n",
       "      <th>4</th>\n",
       "      <td>0.953333</td>\n",
       "      <td>0.065161</td>\n",
       "      <td>0.953333</td>\n",
       "      <td>0.986667</td>\n",
       "      <td>{'learning_rate': 'constant', 'learning_rate_i...</td>\n",
       "      <td>constant</td>\n",
       "      <td>0.30</td>\n",
       "      <td>ok</td>\n",
       "      <td>0.014804</td>\n",
       "      <td>0.006667</td>\n",
       "      <td>0.013333</td>\n",
       "    </tr>\n",
       "    <tr>\n",
       "      <th>5</th>\n",
       "      <td>0.960000</td>\n",
       "      <td>0.078966</td>\n",
       "      <td>0.960000</td>\n",
       "      <td>0.986667</td>\n",
       "      <td>{'learning_rate': 'constant', 'learning_rate_i...</td>\n",
       "      <td>constant</td>\n",
       "      <td>0.01</td>\n",
       "      <td>ok</td>\n",
       "      <td>0.002959</td>\n",
       "      <td>0.026667</td>\n",
       "      <td>0.013333</td>\n",
       "    </tr>\n",
       "    <tr>\n",
       "      <th>6</th>\n",
       "      <td>0.953333</td>\n",
       "      <td>0.071219</td>\n",
       "      <td>0.953333</td>\n",
       "      <td>0.986667</td>\n",
       "      <td>{'learning_rate': 'adaptive', 'learning_rate_i...</td>\n",
       "      <td>adaptive</td>\n",
       "      <td>0.01</td>\n",
       "      <td>ok</td>\n",
       "      <td>0.005626</td>\n",
       "      <td>0.020000</td>\n",
       "      <td>0.013333</td>\n",
       "    </tr>\n",
       "    <tr>\n",
       "      <th>7</th>\n",
       "      <td>0.953333</td>\n",
       "      <td>0.075992</td>\n",
       "      <td>0.953333</td>\n",
       "      <td>0.986667</td>\n",
       "      <td>{'learning_rate': 'invscaling', 'learning_rate...</td>\n",
       "      <td>invscaling</td>\n",
       "      <td>0.01</td>\n",
       "      <td>ok</td>\n",
       "      <td>0.007274</td>\n",
       "      <td>0.020000</td>\n",
       "      <td>0.013333</td>\n",
       "    </tr>\n",
       "    <tr>\n",
       "      <th>8</th>\n",
       "      <td>0.953333</td>\n",
       "      <td>0.074934</td>\n",
       "      <td>0.953333</td>\n",
       "      <td>0.986667</td>\n",
       "      <td>{'learning_rate': 'adaptive', 'learning_rate_i...</td>\n",
       "      <td>adaptive</td>\n",
       "      <td>0.01</td>\n",
       "      <td>ok</td>\n",
       "      <td>0.010041</td>\n",
       "      <td>0.020000</td>\n",
       "      <td>0.013333</td>\n",
       "    </tr>\n",
       "    <tr>\n",
       "      <th>9</th>\n",
       "      <td>0.486667</td>\n",
       "      <td>0.005543</td>\n",
       "      <td>0.486667</td>\n",
       "      <td>0.493333</td>\n",
       "      <td>{'learning_rate': 'constant', 'learning_rate_i...</td>\n",
       "      <td>constant</td>\n",
       "      <td>0.50</td>\n",
       "      <td>ok</td>\n",
       "      <td>0.000039</td>\n",
       "      <td>0.153333</td>\n",
       "      <td>0.160000</td>\n",
       "    </tr>\n",
       "  </tbody>\n",
       "</table>\n",
       "</div>"
      ],
      "text/plain": [
       "       loss  mean_fit_time  mean_test_score  mean_train_score  \\\n",
       "0  0.953333       0.062413         0.953333          0.986667   \n",
       "1  0.960000       0.091839         0.960000          0.986667   \n",
       "2  0.840000       0.054272         0.840000          0.873333   \n",
       "3  0.733333       0.008983         0.733333          0.720000   \n",
       "4  0.953333       0.065161         0.953333          0.986667   \n",
       "5  0.960000       0.078966         0.960000          0.986667   \n",
       "6  0.953333       0.071219         0.953333          0.986667   \n",
       "7  0.953333       0.075992         0.953333          0.986667   \n",
       "8  0.953333       0.074934         0.953333          0.986667   \n",
       "9  0.486667       0.005543         0.486667          0.493333   \n",
       "\n",
       "                                              params params_learning_rate  \\\n",
       "0  {'learning_rate': 'invscaling', 'learning_rate...           invscaling   \n",
       "1  {'learning_rate': 'constant', 'learning_rate_i...             constant   \n",
       "2  {'learning_rate': 'constant', 'learning_rate_i...             constant   \n",
       "3  {'learning_rate': 'invscaling', 'learning_rate...           invscaling   \n",
       "4  {'learning_rate': 'constant', 'learning_rate_i...             constant   \n",
       "5  {'learning_rate': 'constant', 'learning_rate_i...             constant   \n",
       "6  {'learning_rate': 'adaptive', 'learning_rate_i...             adaptive   \n",
       "7  {'learning_rate': 'invscaling', 'learning_rate...           invscaling   \n",
       "8  {'learning_rate': 'adaptive', 'learning_rate_i...             adaptive   \n",
       "9  {'learning_rate': 'constant', 'learning_rate_i...             constant   \n",
       "\n",
       "   params_learning_rate_init status  std_fit_time  std_test_score  \\\n",
       "0                       0.30     ok      0.004125        0.020000   \n",
       "1                       0.01     ok      0.002607        0.026667   \n",
       "2                       0.30     ok      0.008509        0.093333   \n",
       "3                       0.30     ok      0.001071        0.066667   \n",
       "4                       0.30     ok      0.014804        0.006667   \n",
       "5                       0.01     ok      0.002959        0.026667   \n",
       "6                       0.01     ok      0.005626        0.020000   \n",
       "7                       0.01     ok      0.007274        0.020000   \n",
       "8                       0.01     ok      0.010041        0.020000   \n",
       "9                       0.50     ok      0.000039        0.153333   \n",
       "\n",
       "   std_train_score  \n",
       "0         0.013333  \n",
       "1         0.013333  \n",
       "2         0.126667  \n",
       "3         0.080000  \n",
       "4         0.013333  \n",
       "5         0.013333  \n",
       "6         0.013333  \n",
       "7         0.013333  \n",
       "8         0.013333  \n",
       "9         0.160000  "
      ]
     },
     "execution_count": 9,
     "metadata": {},
     "output_type": "execute_result"
    }
   ],
   "source": [
    "dfs[methods[-1]].drop(['loss', 'status'], 1)\n",
    "dfs[methods[-1]]"
   ]
  },
  {
   "cell_type": "code",
   "execution_count": 14,
   "metadata": {},
   "outputs": [
    {
     "data": {
      "text/html": [
       "<div>\n",
       "<style scoped>\n",
       "    .dataframe tbody tr th:only-of-type {\n",
       "        vertical-align: middle;\n",
       "    }\n",
       "\n",
       "    .dataframe tbody tr th {\n",
       "        vertical-align: top;\n",
       "    }\n",
       "\n",
       "    .dataframe thead th {\n",
       "        text-align: right;\n",
       "    }\n",
       "</style>\n",
       "<table border=\"1\" class=\"dataframe\">\n",
       "  <thead>\n",
       "    <tr style=\"text-align: right;\">\n",
       "      <th></th>\n",
       "      <th>name</th>\n",
       "      <th>mean_test_score</th>\n",
       "      <th>mean_fit_time</th>\n",
       "      <th>params_sampled</th>\n",
       "    </tr>\n",
       "  </thead>\n",
       "  <tbody>\n",
       "    <tr>\n",
       "      <th>0</th>\n",
       "      <td>Grid Search</td>\n",
       "      <td>0.787407</td>\n",
       "      <td>0.051019</td>\n",
       "      <td>9</td>\n",
       "    </tr>\n",
       "    <tr>\n",
       "      <th>1</th>\n",
       "      <td>Random Search</td>\n",
       "      <td>0.783704</td>\n",
       "      <td>0.055717</td>\n",
       "      <td>9</td>\n",
       "    </tr>\n",
       "    <tr>\n",
       "      <th>2</th>\n",
       "      <td>Bayes Seach</td>\n",
       "      <td>0.920667</td>\n",
       "      <td>0.066567</td>\n",
       "      <td>10</td>\n",
       "    </tr>\n",
       "  </tbody>\n",
       "</table>\n",
       "</div>"
      ],
      "text/plain": [
       "            name  mean_test_score  mean_fit_time params_sampled\n",
       "0    Grid Search         0.787407       0.051019              9\n",
       "1  Random Search         0.783704       0.055717              9\n",
       "2    Bayes Seach         0.920667       0.066567             10"
      ]
     },
     "execution_count": 14,
     "metadata": {},
     "output_type": "execute_result"
    }
   ],
   "source": [
    "n = 'name'\n",
    "mts = 'mean_test_score'\n",
    "mft = 'mean_fit_time'\n",
    "all_df = pd.DataFrame(columns=[n, mts, mft, 'params_sampled'])\n",
    "for i, m in enumerate(methods[1:4]):\n",
    "    all_df.loc[i] = [m, dfs[m][mts].mean(), dfs[m][mft].mean(),len(dfs[m].index)]\n",
    "all_df"
   ]
  },
  {
   "cell_type": "code",
   "execution_count": 15,
   "metadata": {},
   "outputs": [
    {
     "data": {
      "text/plain": [
       "<matplotlib.axes._subplots.AxesSubplot at 0x7f8e283162e8>"
      ]
     },
     "execution_count": 15,
     "metadata": {},
     "output_type": "execute_result"
    },
    {
     "data": {
      "image/png": "[encoded data removed]",
      "text/plain": [
       "<Figure size 432x288 with 1 Axes>"
      ]
     },
     "metadata": {
      "needs_background": "light"
     },
     "output_type": "display_data"
    }
   ],
   "source": [
    "sns.barplot(x=mts, y=n, data=all_df, color='m')\n"
   ]
  },
  {
   "cell_type": "code",
   "execution_count": 58,
   "metadata": {},
   "outputs": [],
   "source": [
    "conf_m = [[497, 52],[108, 234]]\n",
    "conf_m = np.array(conf_m)\n",
    "normalised = conf_m.astype('float')/ conf_m.sum(axis=1)[:,np.newaxis]"
   ]
  },
  {
   "cell_type": "code",
   "execution_count": 65,
   "metadata": {},
   "outputs": [
    {
     "ename": "ValueError",
     "evalue": "dictionary update sequence element #0 has length 6; 2 is required",
     "output_type": "error",
     "traceback": [
      "\u001b[0;31m---------------------------------------------------------------------------\u001b[0m",
      "\u001b[0;31mValueError\u001b[0m                                Traceback (most recent call last)",
      "\u001b[0;32m<ipython-input-65-4f09221d2ff2>\u001b[0m in \u001b[0;36m<module>\u001b[0;34m\u001b[0m\n\u001b[0;32m----> 1\u001b[0;31m \u001b[0mplot_confusion_matrix\u001b[0m\u001b[0;34m(\u001b[0m\u001b[0mconf_m\u001b[0m\u001b[0;34m,\u001b[0m \u001b[0;34m[\u001b[0m\u001b[0;34m'flower'\u001b[0m\u001b[0;34m,\u001b[0m \u001b[0;34m'no'\u001b[0m\u001b[0;34m]\u001b[0m\u001b[0;34m)\u001b[0m\u001b[0;34m\u001b[0m\u001b[0m\n\u001b[0m",
      "\u001b[0;32m~/uni/ml/Hyper-Parameter-Tuning/HPT_core/hpt_cmp.py\u001b[0m in \u001b[0;36mplot_confusion_matrix\u001b[0;34m(cfm, classes, normalise, title)\u001b[0m\n\u001b[1;32m    235\u001b[0m     \u001b[0max\u001b[0m\u001b[0;34m.\u001b[0m\u001b[0mset_title\u001b[0m\u001b[0;34m(\u001b[0m\u001b[0mtitle\u001b[0m\u001b[0;34m)\u001b[0m\u001b[0;34m\u001b[0m\u001b[0m\n\u001b[1;32m    236\u001b[0m     \u001b[0mtick_marks\u001b[0m \u001b[0;34m=\u001b[0m \u001b[0mnp\u001b[0m\u001b[0;34m.\u001b[0m\u001b[0marange\u001b[0m\u001b[0;34m(\u001b[0m\u001b[0mlen\u001b[0m\u001b[0;34m(\u001b[0m\u001b[0mclasses\u001b[0m\u001b[0;34m)\u001b[0m\u001b[0;34m)\u001b[0m\u001b[0;34m\u001b[0m\u001b[0m\n\u001b[0;32m--> 237\u001b[0;31m     \u001b[0max\u001b[0m\u001b[0;34m.\u001b[0m\u001b[0mset_xticklabels\u001b[0m\u001b[0;34m(\u001b[0m\u001b[0mtick_marks\u001b[0m\u001b[0;34m,\u001b[0m \u001b[0mclasses\u001b[0m\u001b[0;34m,\u001b[0m \u001b[0mrotation\u001b[0m\u001b[0;34m=\u001b[0m\u001b[0;36m45\u001b[0m\u001b[0;34m)\u001b[0m\u001b[0;34m\u001b[0m\u001b[0m\n\u001b[0m\u001b[1;32m    238\u001b[0m     \u001b[0max\u001b[0m\u001b[0;34m.\u001b[0m\u001b[0mset_yticklabels\u001b[0m\u001b[0;34m(\u001b[0m\u001b[0mtick_marks\u001b[0m\u001b[0;34m,\u001b[0m \u001b[0mclasses\u001b[0m\u001b[0;34m)\u001b[0m\u001b[0;34m\u001b[0m\u001b[0m\n\u001b[1;32m    239\u001b[0m     \u001b[0max\u001b[0m\u001b[0;34m.\u001b[0m\u001b[0mset_ylabel\u001b[0m\u001b[0;34m(\u001b[0m\u001b[0;34m'True label'\u001b[0m\u001b[0;34m)\u001b[0m\u001b[0;34m\u001b[0m\u001b[0m\n",
      "\u001b[0;32m~/uni/ml/Hyper-Parameter-Tuning/env/lib64/python3.6/site-packages/matplotlib/axes/_base.py\u001b[0m in \u001b[0;36mset_xticklabels\u001b[0;34m(self, labels, fontdict, minor, **kwargs)\u001b[0m\n\u001b[1;32m   3312\u001b[0m         \"\"\"\n\u001b[1;32m   3313\u001b[0m         \u001b[0;32mif\u001b[0m \u001b[0mfontdict\u001b[0m \u001b[0;32mis\u001b[0m \u001b[0;32mnot\u001b[0m \u001b[0;32mNone\u001b[0m\u001b[0;34m:\u001b[0m\u001b[0;34m\u001b[0m\u001b[0m\n\u001b[0;32m-> 3314\u001b[0;31m             \u001b[0mkwargs\u001b[0m\u001b[0;34m.\u001b[0m\u001b[0mupdate\u001b[0m\u001b[0;34m(\u001b[0m\u001b[0mfontdict\u001b[0m\u001b[0;34m)\u001b[0m\u001b[0;34m\u001b[0m\u001b[0m\n\u001b[0m\u001b[1;32m   3315\u001b[0m         ret = self.xaxis.set_ticklabels(labels,\n\u001b[1;32m   3316\u001b[0m                                         minor=minor, **kwargs)\n",
      "\u001b[0;31mValueError\u001b[0m: dictionary update sequence element #0 has length 6; 2 is required"
     ]
    },
    {
     "data": {
      "image/png": "[encoded data removed]",
      "text/plain": [
       "<Figure size 432x288 with 2 Axes>"
      ]
     },
     "metadata": {
      "needs_background": "light"
     },
     "output_type": "display_data"
    }
   ],
   "source": [
    "plot_confusion_matrix(conf_m, ['flower', 'no'])"
   ]
  },
  {
   "cell_type": "code",
   "execution_count": 56,
   "metadata": {},
   "outputs": [
    {
     "data": {
      "text/plain": [
       "Text(0.5, 1.0, 'Hello')"
      ]
     },
     "execution_count": 56,
     "metadata": {},
     "output_type": "execute_result"
    },
    {
     "data": {
      "image/png": "[encoded data removed]",
      "text/plain": [
       "<Figure size 432x288 with 2 Axes>"
      ]
     },
     "metadata": {
      "needs_background": "light"
     },
     "output_type": "display_data"
    }
   ],
   "source": [
    "# plot confusion matrix \n",
    "\n",
    "sns.heatmap(normalised, annot=True,annot_kws={\"size\": 16}, cmap=plt.cm.Blues)"
   ]
  },
  {
   "cell_type": "code",
   "execution_count": null,
   "metadata": {
    "collapsed": true
   },
   "outputs": [],
   "source": []
  },
  {
   "cell_type": "code",
   "execution_count": null,
   "metadata": {
    "collapsed": true
   },
   "outputs": [],
   "source": []
  },
  {
   "cell_type": "code",
   "execution_count": null,
   "metadata": {
    "collapsed": true
   },
   "outputs": [],
   "source": []
  },
  {
   "cell_type": "code",
   "execution_count": 33,
   "metadata": {},
   "outputs": [
    {
     "data": {
      "text/plain": [
       "<matplotlib.axes._subplots.AxesSubplot at 0x7f8e22f04c88>"
      ]
     },
     "execution_count": 33,
     "metadata": {},
     "output_type": "execute_result"
    },
    {
     "data": {
      "image/png": "[encoded data removed]",
      "text/plain": [
       "<Figure size 432x288 with 1 Axes>"
      ]
     },
     "metadata": {
      "needs_background": "light"
     },
     "output_type": "display_data"
    }
   ],
   "source": [
    "sns.barplot(x=(('params_sampled')), y=n, data=all_df)"
   ]
  },
  {
   "cell_type": "code",
   "execution_count": 20,
   "metadata": {},
   "outputs": [
    {
     "data": {
      "text/plain": [
       "<matplotlib.axes._subplots.AxesSubplot at 0x7f8e22f75208>"
      ]
     },
     "execution_count": 20,
     "metadata": {},
     "output_type": "execute_result"
    },
    {
     "data": {
      "image/png": "[encoded data removed]",
      "text/plain": [
       "<Figure size 432x288 with 1 Axes>"
      ]
     },
     "metadata": {
      "needs_background": "light"
     },
     "output_type": "display_data"
    }
   ],
   "source": [
    "sns.barplot(x=mft, y=n, data=all_df, color='m')"
   ]
  },
  {
   "cell_type": "code",
   "execution_count": null,
   "metadata": {
    "collapsed": true
   },
   "outputs": [],
   "source": []
  },
  {
   "cell_type": "code",
   "execution_count": null,
   "metadata": {
    "collapsed": true
   },
   "outputs": [],
   "source": [
    "# define SVC\n",
    "m = mdl.load_SVC()\n",
    "hpt_objs = [\n",
    "        HPT_OBJ('Baseline', m.base, run_baseline, {}),\n",
    "        HPT_OBJ('Grid Search', m.param_grid, grid_search, {}),\n",
    "        HPT_OBJ('Random Search', m.param_grid, random_search, {'n_iter': MAX_ITER}),\n",
    "        HPT_OBJ('Bayes Seach', m.bayes_grid, baysian_search, {'n_iter':MAX_ITER}),\n",
    "        HPT_OBJ('Tree of Parzen Est.', m.hyperopt_grid, tpe_search, {})\n",
    "]\n",
    "loss=None\n",
    "\n",
    "models_targs.append({\n",
    "    'model': m.model,\n",
    "    'htp_objs': hpt_objs,\n",
    "    'loss': loss,\n",
    "    'metric': accuracy_score,\n",
    "})"
   ]
  },
  {
   "cell_type": "code",
   "execution_count": null,
   "metadata": {
    "collapsed": true
   },
   "outputs": [],
   "source": [
    "# define SVC\n",
    "m = mdl.load_RandomForestClassifier()\n",
    "hpt_objs = [\n",
    "        HPT_OBJ('Baseline', m.base, run_baseline, {}),\n",
    "        HPT_OBJ('Grid Search', m.param_grid, grid_search, {}),\n",
    "        HPT_OBJ('Random Search', m.param_grid, random_search, {'n_iter': MAX_ITER}),\n",
    "       # HPT_OBJ('Bayes Seach', m.bayes_grid, baysian_search, {'n_iter':MAX_ITER}),\n",
    "       # HPT_OBJ('Tree of Parzen Est.', m.hyperopt_grid, tpe_search, {})\n",
    "]\n",
    "loss=None\n",
    "\n",
    "models_targs.append({\n",
    "    'model': m.model,\n",
    "    'htp_objs': hpt_objs,\n",
    "    'loss': loss,\n",
    "    'metric': accuracy_score,\n",
    "})"
   ]
  },
  {
   "cell_type": "code",
   "execution_count": null,
   "metadata": {},
   "outputs": [],
   "source": [
    "# RUN TUNING\n",
    "all_results = []\n",
    "\n",
    "for m_args in models_targs:\n",
    "    for name in datasets:\n",
    "        d = datasets[name]\n",
    "        try:\n",
    "            result = cmp_hpt_methods(\n",
    "                (d.data, d.target),\n",
    "                **m_args,\n",
    "                random_state=1,\n",
    "                name=name\n",
    "            )\n",
    "            all_results.append(result)\n",
    "        except Exception as e:\n",
    "            print('!!!!!!!!!!!!!!!!!!')\n",
    "            print(m.model.__name__,name)\n",
    "            print(e)\n"
   ]
  },
  {
   "cell_type": "code",
   "execution_count": null,
   "metadata": {},
   "outputs": [],
   "source": [
    "len(all_results)"
   ]
  },
  {
   "cell_type": "code",
   "execution_count": null,
   "metadata": {
    "scrolled": false
   },
   "outputs": [],
   "source": []
  },
  {
   "cell_type": "code",
   "execution_count": null,
   "metadata": {},
   "outputs": [],
   "source": [
    " \n",
    "table_by_ds(all_results[0:4], ds_names)"
   ]
  },
  {
   "cell_type": "code",
   "execution_count": null,
   "metadata": {},
   "outputs": [],
   "source": [
    "for x in [MEAN+CV_TIME, MEAN+TEST_ACC]:\n",
    "    plot_by_ds(x, all_results[0:4], ds_names)\n",
    "    plot_by_ds(x, all_results[4:8], ds_names)\n",
    "    #plot_by_ds(x, all_results[8:12], ds_names)"
   ]
  },
  {
   "cell_type": "code",
   "execution_count": null,
   "metadata": {},
   "outputs": [],
   "source": [
    "pd.DataFrame(all_results[0])"
   ]
  }
 ],
 "metadata": {
  "kernelspec": {
   "display_name": "Python 3",
   "language": "python",
   "name": "python3"
  },
  "language_info": {
   "codemirror_mode": {
    "name": "ipython",
    "version": 3
   },
   "file_extension": ".py",
   "mimetype": "text/x-python",
   "name": "python",
   "nbconvert_exporter": "python",
   "pygments_lexer": "ipython3",
   "version": "3.6.6"
  }
 },
 "nbformat": 4,
 "nbformat_minor": 2
}
