{
 "cells": [
  {
   "cell_type": "code",
   "execution_count": null,
   "metadata": {
    "collapsed": true
   },
   "outputs": [],
   "source": []
  },
  {
   "cell_type": "code",
   "execution_count": 1,
   "metadata": {},
   "outputs": [],
   "source": [
    "%load_ext autoreload\n",
    "%autoreload 2\n",
    "%aimport hpt_cmp\n",
    "\n",
    "%matplotlib inline"
   ]
  },
  {
   "cell_type": "code",
   "execution_count": 2,
   "metadata": {},
   "outputs": [],
   "source": [
    "import dataset_loader as ds\n",
    "import model_loader as mdl\n",
    "import seaborn as sns\n",
    "\n",
    "from hpt_cmp import *\n",
    "\n",
    "from sklearn.metrics import accuracy_score, f1_score,roc_auc_score ,make_scorer\n",
    "from tqdm import tqdm_notebook\n"
   ]
  },
  {
   "cell_type": "code",
   "execution_count": null,
   "metadata": {
    "collapsed": true
   },
   "outputs": [],
   "source": []
  },
  {
   "cell_type": "code",
   "execution_count": 3,
   "metadata": {},
   "outputs": [],
   "source": [
    "# LOAD DATASETS\n",
    "ds_names = ['iris', 'wine', 'breast_cancer', 'digits']\n",
    "datasets = {}\n",
    "\n",
    "for name in ds_names:\n",
    "    datasets[name]=(ds.load(name))"
   ]
  },
  {
   "cell_type": "code",
   "execution_count": 4,
   "metadata": {},
   "outputs": [],
   "source": [
    "models_targs = []"
   ]
  },
  {
   "cell_type": "code",
   "execution_count": 5,
   "metadata": {},
   "outputs": [],
   "source": [
    "# define MLPClassifier\n",
    "m = mdl.load_MLPClassifier()\n",
    "hpt_objs = [\n",
    "        HPT_OBJ('Baseline', m.base, run_baseline, {}),\n",
    "        HPT_OBJ('Grid Search', m.param_grid, grid_search, {}),\n",
    "        HPT_OBJ('Random Search', m.param_grid, random_search, {'n_iter': MAX_ITER}),\n",
    "        HPT_OBJ('Bayes Seach', m.bayes_grid, baysian_search, {'n_iter':MAX_ITER}),\n",
    "        HPT_OBJ('Tree of Parzen Est.', m.hyperopt_grid, tpe_search, {})\n",
    "]\n",
    "#loss='neg_log_loss'\n",
    "loss='accuracy'\n",
    "\n",
    "mlpc ={\n",
    "    'model': m.model,\n",
    "    'hpt_objs': hpt_objs,\n",
    "    'loss': loss,\n",
    "    'metric': accuracy_score,\n",
    "}"
   ]
  },
  {
   "cell_type": "code",
   "execution_count": 7,
   "metadata": {
    "scrolled": true
   },
   "outputs": [
    {
     "name": "stderr",
     "output_type": "stream",
     "text": [
      "/home/tonia/uni/ml/Hyper-Parameter-Tuning/env/lib64/python3.6/site-packages/sklearn/utils/deprecation.py:125: FutureWarning: You are accessing a training score ('train_score'), which will not be available by default any more in 0.21. If you need training scores, please set return_train_score=True\n",
      "  warnings.warn(*warn_args, **warn_kwargs)\n",
      "[Parallel(n_jobs=1)]: Using backend SequentialBackend with 1 concurrent workers.\n"
     ]
    },
    {
     "name": "stdout",
     "output_type": "stream",
     "text": [
      "Fitting 2 folds for each of 9 candidates, totalling 18 fits\n"
     ]
    },
    {
     "name": "stderr",
     "output_type": "stream",
     "text": [
      "/home/tonia/uni/ml/Hyper-Parameter-Tuning/env/lib64/python3.6/site-packages/sklearn/neural_network/multilayer_perceptron.py:562: ConvergenceWarning: Stochastic Optimizer: Maximum iterations (200) reached and the optimization hasn't converged yet.\n",
      "  % self.max_iter, ConvergenceWarning)\n",
      "/home/tonia/uni/ml/Hyper-Parameter-Tuning/env/lib64/python3.6/site-packages/sklearn/neural_network/multilayer_perceptron.py:562: ConvergenceWarning: Stochastic Optimizer: Maximum iterations (200) reached and the optimization hasn't converged yet.\n",
      "  % self.max_iter, ConvergenceWarning)\n",
      "/home/tonia/uni/ml/Hyper-Parameter-Tuning/env/lib64/python3.6/site-packages/sklearn/neural_network/multilayer_perceptron.py:562: ConvergenceWarning: Stochastic Optimizer: Maximum iterations (200) reached and the optimization hasn't converged yet.\n",
      "  % self.max_iter, ConvergenceWarning)\n",
      "[Parallel(n_jobs=1)]: Done  18 out of  18 | elapsed:    0.9s finished\n",
      "/home/tonia/uni/ml/Hyper-Parameter-Tuning/env/lib64/python3.6/site-packages/sklearn/model_selection/_search.py:271: UserWarning: The total space of parameters 9 is smaller than n_iter=10. Running 9 iterations. For exhaustive searches, use GridSearchCV.\n",
      "  % (grid_size, self.n_iter, grid_size), UserWarning)\n",
      "[Parallel(n_jobs=1)]: Using backend SequentialBackend with 1 concurrent workers.\n"
     ]
    },
    {
     "name": "stdout",
     "output_type": "stream",
     "text": [
      "Fitting 2 folds for each of 9 candidates, totalling 18 fits\n"
     ]
    },
    {
     "name": "stderr",
     "output_type": "stream",
     "text": [
      "/home/tonia/uni/ml/Hyper-Parameter-Tuning/env/lib64/python3.6/site-packages/sklearn/neural_network/multilayer_perceptron.py:562: ConvergenceWarning: Stochastic Optimizer: Maximum iterations (200) reached and the optimization hasn't converged yet.\n",
      "  % self.max_iter, ConvergenceWarning)\n",
      "/home/tonia/uni/ml/Hyper-Parameter-Tuning/env/lib64/python3.6/site-packages/sklearn/neural_network/multilayer_perceptron.py:562: ConvergenceWarning: Stochastic Optimizer: Maximum iterations (200) reached and the optimization hasn't converged yet.\n",
      "  % self.max_iter, ConvergenceWarning)\n",
      "/home/tonia/uni/ml/Hyper-Parameter-Tuning/env/lib64/python3.6/site-packages/sklearn/neural_network/multilayer_perceptron.py:562: ConvergenceWarning: Stochastic Optimizer: Maximum iterations (200) reached and the optimization hasn't converged yet.\n",
      "  % self.max_iter, ConvergenceWarning)\n",
      "[Parallel(n_jobs=1)]: Done  18 out of  18 | elapsed:    1.0s finished\n",
      "[Parallel(n_jobs=1)]: Using backend SequentialBackend with 1 concurrent workers.\n"
     ]
    },
    {
     "name": "stdout",
     "output_type": "stream",
     "text": [
      "Fitting 2 folds for each of 1 candidates, totalling 2 fits\n",
      "Fitting 2 folds for each of 1 candidates, totalling 2 fits\n"
     ]
    },
    {
     "name": "stderr",
     "output_type": "stream",
     "text": [
      "[Parallel(n_jobs=1)]: Done   2 out of   2 | elapsed:    0.1s finished\n",
      "[Parallel(n_jobs=1)]: Using backend SequentialBackend with 1 concurrent workers.\n",
      "/home/tonia/uni/ml/Hyper-Parameter-Tuning/env/lib64/python3.6/site-packages/sklearn/neural_network/multilayer_perceptron.py:562: ConvergenceWarning: Stochastic Optimizer: Maximum iterations (200) reached and the optimization hasn't converged yet.\n",
      "  % self.max_iter, ConvergenceWarning)\n",
      "[Parallel(n_jobs=1)]: Done   2 out of   2 | elapsed:    0.2s finished\n",
      "[Parallel(n_jobs=1)]: Using backend SequentialBackend with 1 concurrent workers.\n"
     ]
    },
    {
     "name": "stdout",
     "output_type": "stream",
     "text": [
      "Fitting 2 folds for each of 1 candidates, totalling 2 fits\n",
      "Fitting 2 folds for each of 1 candidates, totalling 2 fits\n",
      "Fitting 2 folds for each of 1 candidates, totalling 2 fits\n"
     ]
    },
    {
     "name": "stderr",
     "output_type": "stream",
     "text": [
      "[Parallel(n_jobs=1)]: Done   2 out of   2 | elapsed:    0.1s finished\n",
      "[Parallel(n_jobs=1)]: Using backend SequentialBackend with 1 concurrent workers.\n",
      "[Parallel(n_jobs=1)]: Done   2 out of   2 | elapsed:    0.1s finished\n",
      "[Parallel(n_jobs=1)]: Using backend SequentialBackend with 1 concurrent workers.\n",
      "[Parallel(n_jobs=1)]: Done   2 out of   2 | elapsed:    0.1s finished\n",
      "[Parallel(n_jobs=1)]: Using backend SequentialBackend with 1 concurrent workers.\n",
      "[Parallel(n_jobs=1)]: Done   2 out of   2 | elapsed:    0.1s finished\n",
      "[Parallel(n_jobs=1)]: Using backend SequentialBackend with 1 concurrent workers.\n"
     ]
    },
    {
     "name": "stdout",
     "output_type": "stream",
     "text": [
      "Fitting 2 folds for each of 1 candidates, totalling 2 fits\n",
      "Fitting 2 folds for each of 1 candidates, totalling 2 fits\n"
     ]
    },
    {
     "name": "stderr",
     "output_type": "stream",
     "text": [
      "[Parallel(n_jobs=1)]: Done   2 out of   2 | elapsed:    0.1s finished\n",
      "[Parallel(n_jobs=1)]: Using backend SequentialBackend with 1 concurrent workers.\n",
      "[Parallel(n_jobs=1)]: Done   2 out of   2 | elapsed:    0.1s finished\n",
      "[Parallel(n_jobs=1)]: Using backend SequentialBackend with 1 concurrent workers.\n"
     ]
    },
    {
     "name": "stdout",
     "output_type": "stream",
     "text": [
      "Fitting 2 folds for each of 1 candidates, totalling 2 fits\n",
      "Fitting 2 folds for each of 1 candidates, totalling 2 fits\n"
     ]
    },
    {
     "name": "stderr",
     "output_type": "stream",
     "text": [
      "/home/tonia/uni/ml/Hyper-Parameter-Tuning/env/lib64/python3.6/site-packages/sklearn/neural_network/multilayer_perceptron.py:562: ConvergenceWarning: Stochastic Optimizer: Maximum iterations (200) reached and the optimization hasn't converged yet.\n",
      "  % self.max_iter, ConvergenceWarning)\n",
      "[Parallel(n_jobs=1)]: Done   2 out of   2 | elapsed:    0.2s finished\n"
     ]
    },
    {
     "name": "stdout",
     "output_type": "stream",
     "text": [
      "Fitting 2 folds for each of 1 candidates, totalling 2 fits\n"
     ]
    },
    {
     "name": "stderr",
     "output_type": "stream",
     "text": [
      "[Parallel(n_jobs=1)]: Using backend SequentialBackend with 1 concurrent workers.\n",
      "[Parallel(n_jobs=1)]: Done   2 out of   2 | elapsed:    0.1s finished\n",
      "/home/tonia/uni/ml/Hyper-Parameter-Tuning/env/lib64/python3.6/site-packages/sklearn/utils/deprecation.py:125: FutureWarning: You are accessing a training score ('train_score'), which will not be available by default any more in 0.21. If you need training scores, please set return_train_score=True\n",
      "  warnings.warn(*warn_args, **warn_kwargs)\n",
      "/home/tonia/uni/ml/Hyper-Parameter-Tuning/env/lib64/python3.6/site-packages/sklearn/neural_network/multilayer_perceptron.py:562: ConvergenceWarning: Stochastic Optimizer: Maximum iterations (200) reached and the optimization hasn't converged yet.\n",
      "  % self.max_iter, ConvergenceWarning)\n",
      "/home/tonia/uni/ml/Hyper-Parameter-Tuning/env/lib64/python3.6/site-packages/sklearn/utils/deprecation.py:125: FutureWarning: You are accessing a training score ('train_score'), which will not be available by default any more in 0.21. If you need training scores, please set return_train_score=True\n",
      "  warnings.warn(*warn_args, **warn_kwargs)\n",
      "/home/tonia/uni/ml/Hyper-Parameter-Tuning/env/lib64/python3.6/site-packages/sklearn/utils/deprecation.py:125: FutureWarning: You are accessing a training score ('train_score'), which will not be available by default any more in 0.21. If you need training scores, please set return_train_score=True\n",
      "  warnings.warn(*warn_args, **warn_kwargs)\n",
      "/home/tonia/uni/ml/Hyper-Parameter-Tuning/env/lib64/python3.6/site-packages/sklearn/utils/deprecation.py:125: FutureWarning: You are accessing a training score ('train_score'), which will not be available by default any more in 0.21. If you need training scores, please set return_train_score=True\n",
      "  warnings.warn(*warn_args, **warn_kwargs)\n",
      "/home/tonia/uni/ml/Hyper-Parameter-Tuning/env/lib64/python3.6/site-packages/sklearn/utils/deprecation.py:125: FutureWarning: You are accessing a training score ('train_score'), which will not be available by default any more in 0.21. If you need training scores, please set return_train_score=True\n",
      "  warnings.warn(*warn_args, **warn_kwargs)\n",
      "/home/tonia/uni/ml/Hyper-Parameter-Tuning/env/lib64/python3.6/site-packages/sklearn/utils/deprecation.py:125: FutureWarning: You are accessing a training score ('train_score'), which will not be available by default any more in 0.21. If you need training scores, please set return_train_score=True\n",
      "  warnings.warn(*warn_args, **warn_kwargs)\n",
      "/home/tonia/uni/ml/Hyper-Parameter-Tuning/env/lib64/python3.6/site-packages/sklearn/utils/deprecation.py:125: FutureWarning: You are accessing a training score ('train_score'), which will not be available by default any more in 0.21. If you need training scores, please set return_train_score=True\n",
      "  warnings.warn(*warn_args, **warn_kwargs)\n",
      "/home/tonia/uni/ml/Hyper-Parameter-Tuning/env/lib64/python3.6/site-packages/sklearn/utils/deprecation.py:125: FutureWarning: You are accessing a training score ('train_score'), which will not be available by default any more in 0.21. If you need training scores, please set return_train_score=True\n",
      "  warnings.warn(*warn_args, **warn_kwargs)\n",
      "/home/tonia/uni/ml/Hyper-Parameter-Tuning/env/lib64/python3.6/site-packages/sklearn/utils/deprecation.py:125: FutureWarning: You are accessing a training score ('train_score'), which will not be available by default any more in 0.21. If you need training scores, please set return_train_score=True\n",
      "  warnings.warn(*warn_args, **warn_kwargs)\n",
      "/home/tonia/uni/ml/Hyper-Parameter-Tuning/env/lib64/python3.6/site-packages/sklearn/utils/deprecation.py:125: FutureWarning: You are accessing a training score ('train_score'), which will not be available by default any more in 0.21. If you need training scores, please set return_train_score=True\n",
      "  warnings.warn(*warn_args, **warn_kwargs)\n",
      "/home/tonia/uni/ml/Hyper-Parameter-Tuning/env/lib64/python3.6/site-packages/sklearn/utils/deprecation.py:125: FutureWarning: You are accessing a training score ('split0_train_score'), which will not be available by default any more in 0.21. If you need training scores, please set return_train_score=True\n",
      "  warnings.warn(*warn_args, **warn_kwargs)\n",
      "/home/tonia/uni/ml/Hyper-Parameter-Tuning/env/lib64/python3.6/site-packages/sklearn/utils/deprecation.py:125: FutureWarning: You are accessing a training score ('split1_train_score'), which will not be available by default any more in 0.21. If you need training scores, please set return_train_score=True\n",
      "  warnings.warn(*warn_args, **warn_kwargs)\n",
      "/home/tonia/uni/ml/Hyper-Parameter-Tuning/env/lib64/python3.6/site-packages/sklearn/utils/deprecation.py:125: FutureWarning: You are accessing a training score ('mean_train_score'), which will not be available by default any more in 0.21. If you need training scores, please set return_train_score=True\n",
      "  warnings.warn(*warn_args, **warn_kwargs)\n",
      "/home/tonia/uni/ml/Hyper-Parameter-Tuning/env/lib64/python3.6/site-packages/sklearn/utils/deprecation.py:125: FutureWarning: You are accessing a training score ('std_train_score'), which will not be available by default any more in 0.21. If you need training scores, please set return_train_score=True\n",
      "  warnings.warn(*warn_args, **warn_kwargs)\n"
     ]
    },
    {
     "data": {
      "text/plain": [
       "[{'method': 'Baseline',\n",
       "  'data': [{'mean_test_score': 0.9533333333333334,\n",
       "    'std_test_score': 0.020000000000000018,\n",
       "    'mean_train_score': 0.9866666666666667,\n",
       "    'std_train_score': 0.013333333333333308,\n",
       "    'mean_fit_time': 0.08681690692901611,\n",
       "    'std_fit_time': 0.013875365257263184,\n",
       "    'params': {'learning_rate': 'adaptive', 'learning_rate_init': 0.01},\n",
       "    'params_learning_rate': 'adaptive',\n",
       "    'params_learning_rate_init': 0.01,\n",
       "    'status': 'ok',\n",
       "    'loss': 0.9533333333333334}]},\n",
       " {'method': 'Grid Search',\n",
       "  'data': {'mean_fit_time': array([0.06170166, 0.04804361, 0.03085113, 0.06140471, 0.05998147,\n",
       "          0.04460657, 0.07333863, 0.07242119, 0.00681901]),\n",
       "   'std_fit_time': array([0.00078404, 0.0395726 , 0.00468779, 0.00701451, 0.01539886,\n",
       "          0.03682172, 0.00475681, 0.00878417, 0.0017364 ]),\n",
       "   'mean_score_time': array([0.00030077, 0.00035083, 0.00036037, 0.00032103, 0.00029099,\n",
       "          0.00041413, 0.00037456, 0.00107932, 0.0002538 ]),\n",
       "   'std_score_time': array([7.51018524e-06, 8.83340836e-05, 2.65836716e-05, 2.72989273e-05,\n",
       "          8.34465027e-07, 1.31607056e-04, 3.83853912e-05, 7.97033310e-04,\n",
       "          3.57627869e-07]),\n",
       "   'param_learning_rate': masked_array(data=['constant', 'constant', 'constant', 'invscaling',\n",
       "                      'invscaling', 'invscaling', 'adaptive', 'adaptive',\n",
       "                      'adaptive'],\n",
       "                mask=[False, False, False, False, False, False, False, False,\n",
       "                      False],\n",
       "          fill_value='?',\n",
       "               dtype=object),\n",
       "   'param_learning_rate_init': masked_array(data=[0.01, 0.3, 0.5, 0.01, 0.3, 0.5, 0.01, 0.3, 0.5],\n",
       "                mask=[False, False, False, False, False, False, False, False,\n",
       "                      False],\n",
       "          fill_value='?',\n",
       "               dtype=object),\n",
       "   'params': [{'learning_rate': 'constant', 'learning_rate_init': 0.01},\n",
       "    {'learning_rate': 'constant', 'learning_rate_init': 0.3},\n",
       "    {'learning_rate': 'constant', 'learning_rate_init': 0.5},\n",
       "    {'learning_rate': 'invscaling', 'learning_rate_init': 0.01},\n",
       "    {'learning_rate': 'invscaling', 'learning_rate_init': 0.3},\n",
       "    {'learning_rate': 'invscaling', 'learning_rate_init': 0.5},\n",
       "    {'learning_rate': 'adaptive', 'learning_rate_init': 0.01},\n",
       "    {'learning_rate': 'adaptive', 'learning_rate_init': 0.3},\n",
       "    {'learning_rate': 'adaptive', 'learning_rate_init': 0.5}],\n",
       "   'split0_test_score': array([0.98666667, 0.33333333, 0.66666667, 0.97333333, 0.96      ,\n",
       "          0.74666667, 0.97333333, 0.96      , 0.33333333]),\n",
       "   'split1_test_score': array([0.93333333, 0.93333333, 0.33333333, 0.93333333, 0.94666667,\n",
       "          0.94666667, 0.94666667, 0.93333333, 0.33333333]),\n",
       "   'mean_test_score': array([0.96      , 0.63333333, 0.5       , 0.95333333, 0.95333333,\n",
       "          0.84666667, 0.96      , 0.94666667, 0.33333333]),\n",
       "   'std_test_score': array([0.02666667, 0.3       , 0.16666667, 0.02      , 0.00666667,\n",
       "          0.1       , 0.01333333, 0.01333333, 0.        ]),\n",
       "   'rank_test_score': array([1, 7, 8, 3, 3, 6, 1, 5, 9], dtype=int32),\n",
       "   'split0_train_score': array([0.97333333, 0.33333333, 0.66666667, 0.97333333, 0.97333333,\n",
       "          0.76      , 0.97333333, 0.98666667, 0.33333333]),\n",
       "   'split1_train_score': array([1.        , 1.        , 0.33333333, 1.        , 1.        ,\n",
       "          1.        , 1.        , 1.        , 0.33333333]),\n",
       "   'mean_train_score': array([0.98666667, 0.66666667, 0.5       , 0.98666667, 0.98666667,\n",
       "          0.88      , 0.98666667, 0.99333333, 0.33333333]),\n",
       "   'std_train_score': array([0.01333333, 0.33333333, 0.16666667, 0.01333333, 0.01333333,\n",
       "          0.12      , 0.01333333, 0.00666667, 0.        ])}},\n",
       " {'method': 'Random Search',\n",
       "  'data': {'mean_fit_time': array([0.07540858, 0.06389177, 0.00861013, 0.05909252, 0.04644966,\n",
       "          0.05480289, 0.07368743, 0.10002112, 0.01948965]),\n",
       "   'std_fit_time': array([0.00495517, 0.0120877 , 0.00086391, 0.00993848, 0.0036304 ,\n",
       "          0.02730656, 0.00490654, 0.01058364, 0.00362766]),\n",
       "   'mean_score_time': array([0.00029767, 0.00050879, 0.00025332, 0.00032306, 0.00093997,\n",
       "          0.00053728, 0.00031567, 0.00072753, 0.00036776]),\n",
       "   'std_score_time': array([8.34465027e-07, 2.21014023e-04, 1.78813934e-06, 2.55107880e-05,\n",
       "          6.36696815e-04, 2.49028206e-04, 1.45435333e-05, 1.86324120e-04,\n",
       "          7.78436661e-05]),\n",
       "   'param_learning_rate_init': masked_array(data=[0.01, 0.3, 0.5, 0.01, 0.3, 0.5, 0.01, 0.3, 0.5],\n",
       "                mask=[False, False, False, False, False, False, False, False,\n",
       "                      False],\n",
       "          fill_value='?',\n",
       "               dtype=object),\n",
       "   'param_learning_rate': masked_array(data=['constant', 'constant', 'constant', 'invscaling',\n",
       "                      'invscaling', 'invscaling', 'adaptive', 'adaptive',\n",
       "                      'adaptive'],\n",
       "                mask=[False, False, False, False, False, False, False, False,\n",
       "                      False],\n",
       "          fill_value='?',\n",
       "               dtype=object),\n",
       "   'params': [{'learning_rate_init': 0.01, 'learning_rate': 'constant'},\n",
       "    {'learning_rate_init': 0.3, 'learning_rate': 'constant'},\n",
       "    {'learning_rate_init': 0.5, 'learning_rate': 'constant'},\n",
       "    {'learning_rate_init': 0.01, 'learning_rate': 'invscaling'},\n",
       "    {'learning_rate_init': 0.3, 'learning_rate': 'invscaling'},\n",
       "    {'learning_rate_init': 0.5, 'learning_rate': 'invscaling'},\n",
       "    {'learning_rate_init': 0.01, 'learning_rate': 'adaptive'},\n",
       "    {'learning_rate_init': 0.3, 'learning_rate': 'adaptive'},\n",
       "    {'learning_rate_init': 0.5, 'learning_rate': 'adaptive'}],\n",
       "   'split0_test_score': array([0.98666667, 0.97333333, 0.33333333, 0.97333333, 0.66666667,\n",
       "          0.33333333, 0.97333333, 0.96      , 0.66666667]),\n",
       "   'split1_test_score': array([0.94666667, 0.93333333, 0.33333333, 0.93333333, 0.93333333,\n",
       "          0.94666667, 0.93333333, 0.94666667, 0.33333333]),\n",
       "   'mean_test_score': array([0.96666667, 0.95333333, 0.33333333, 0.95333333, 0.8       ,\n",
       "          0.64      , 0.95333333, 0.95333333, 0.5       ]),\n",
       "   'std_test_score': array([0.02      , 0.02      , 0.        , 0.02      , 0.13333333,\n",
       "          0.30666667, 0.02      , 0.00666667, 0.16666667]),\n",
       "   'rank_test_score': array([1, 2, 9, 2, 6, 7, 2, 2, 8], dtype=int32),\n",
       "   'split0_train_score': array([0.97333333, 0.97333333, 0.33333333, 0.97333333, 0.69333333,\n",
       "          0.33333333, 0.97333333, 0.98666667, 0.66666667]),\n",
       "   'split1_train_score': array([1.        , 1.        , 0.33333333, 1.        , 1.        ,\n",
       "          1.        , 1.        , 1.        , 0.33333333]),\n",
       "   'mean_train_score': array([0.98666667, 0.98666667, 0.33333333, 0.98666667, 0.84666667,\n",
       "          0.66666667, 0.98666667, 0.99333333, 0.5       ]),\n",
       "   'std_train_score': array([0.01333333, 0.01333333, 0.        , 0.01333333, 0.15333333,\n",
       "          0.33333333, 0.01333333, 0.00666667, 0.16666667])}},\n",
       " {'method': 'Bayes Seach',\n",
       "  'data': defaultdict(list,\n",
       "              {'split0_test_score': [0.9733333333333334,\n",
       "                0.96,\n",
       "                0.96,\n",
       "                0.96,\n",
       "                0.96,\n",
       "                0.9733333333333334,\n",
       "                0.96,\n",
       "                0.96,\n",
       "                0.9733333333333334,\n",
       "                0.9733333333333334],\n",
       "               'split1_test_score': [0.9466666666666667,\n",
       "                0.9333333333333333,\n",
       "                0.3333333333333333,\n",
       "                0.9333333333333333,\n",
       "                0.9333333333333333,\n",
       "                0.9466666666666667,\n",
       "                0.9333333333333333,\n",
       "                0.9333333333333333,\n",
       "                0.9333333333333333,\n",
       "                0.9333333333333333],\n",
       "               'mean_test_score': [0.96,\n",
       "                0.9466666666666667,\n",
       "                0.6466666666666666,\n",
       "                0.9466666666666667,\n",
       "                0.9466666666666667,\n",
       "                0.96,\n",
       "                0.9466666666666667,\n",
       "                0.9466666666666667,\n",
       "                0.9533333333333334,\n",
       "                0.9533333333333334],\n",
       "               'std_test_score': [0.013333333333333364,\n",
       "                0.013333333333333308,\n",
       "                0.31333333333333335,\n",
       "                0.013333333333333308,\n",
       "                0.013333333333333308,\n",
       "                0.013333333333333364,\n",
       "                0.013333333333333308,\n",
       "                0.013333333333333308,\n",
       "                0.020000000000000018,\n",
       "                0.020000000000000018],\n",
       "               'rank_test_score': [1, 1, 1, 1, 1, 1, 1, 1, 1, 1],\n",
       "               'mean_fit_time': [0.07121074199676514,\n",
       "                0.08062660694122314,\n",
       "                0.04799485206604004,\n",
       "                0.04730117321014404,\n",
       "                0.06595277786254883,\n",
       "                0.060959458351135254,\n",
       "                0.06743323802947998,\n",
       "                0.07077515125274658,\n",
       "                0.08261001110076904,\n",
       "                0.07080733776092529],\n",
       "               'std_fit_time': [0.014879107475280762,\n",
       "                0.02408134937286377,\n",
       "                0.0231931209564209,\n",
       "                0.010489106178283691,\n",
       "                0.009301424026489258,\n",
       "                0.004770398139953613,\n",
       "                0.02647244930267334,\n",
       "                0.013902783393859863,\n",
       "                0.019850850105285645,\n",
       "                0.013744235038757324],\n",
       "               'mean_score_time': [0.0005297660827636719,\n",
       "                0.0004687309265136719,\n",
       "                0.0002835988998413086,\n",
       "                0.00028502941131591797,\n",
       "                0.0004328489303588867,\n",
       "                0.0002897977828979492,\n",
       "                0.000286102294921875,\n",
       "                0.0003256797790527344,\n",
       "                0.0005068778991699219,\n",
       "                0.0003917217254638672],\n",
       "               'std_score_time': [0.00024247169494628906,\n",
       "                0.0001423358917236328,\n",
       "                6.794929504394531e-06,\n",
       "                3.2186508178710938e-06,\n",
       "                0.00012290477752685547,\n",
       "                1.0728836059570312e-06,\n",
       "                9.298324584960938e-06,\n",
       "                1.0728836059570312e-05,\n",
       "                3.266334533691406e-05,\n",
       "                9.822845458984375e-05],\n",
       "               'param_learning_rate': ['adaptive',\n",
       "                'constant',\n",
       "                'adaptive',\n",
       "                'adaptive',\n",
       "                'adaptive',\n",
       "                'constant',\n",
       "                'adaptive',\n",
       "                'invscaling',\n",
       "                'adaptive',\n",
       "                'invscaling'],\n",
       "               'param_learning_rate_init': [0.06864424575484837,\n",
       "                0.2779720923817998,\n",
       "                0.4372520461748533,\n",
       "                0.02717550765615097,\n",
       "                0.05000251734364909,\n",
       "                0.3570195880662464,\n",
       "                0.0477265530140942,\n",
       "                0.04076531858356305,\n",
       "                0.021435768651898505,\n",
       "                0.06445857044370369],\n",
       "               'params': [{'learning_rate': 'adaptive',\n",
       "                 'learning_rate_init': 0.06864424575484837},\n",
       "                {'learning_rate': 'constant',\n",
       "                 'learning_rate_init': 0.2779720923817998},\n",
       "                {'learning_rate': 'adaptive',\n",
       "                 'learning_rate_init': 0.4372520461748533},\n",
       "                {'learning_rate': 'adaptive',\n",
       "                 'learning_rate_init': 0.02717550765615097},\n",
       "                {'learning_rate': 'adaptive',\n",
       "                 'learning_rate_init': 0.05000251734364909},\n",
       "                {'learning_rate': 'constant',\n",
       "                 'learning_rate_init': 0.3570195880662464},\n",
       "                {'learning_rate': 'adaptive',\n",
       "                 'learning_rate_init': 0.0477265530140942},\n",
       "                {'learning_rate': 'invscaling',\n",
       "                 'learning_rate_init': 0.04076531858356305},\n",
       "                {'learning_rate': 'adaptive',\n",
       "                 'learning_rate_init': 0.021435768651898505},\n",
       "                {'learning_rate': 'invscaling',\n",
       "                 'learning_rate_init': 0.06445857044370369}]})},\n",
       " {'method': 'Tree of Parzen Est.',\n",
       "  'data': [{'mean_test_score': 0.9533333333333334,\n",
       "    'std_test_score': 0.020000000000000018,\n",
       "    'mean_train_score': 0.9866666666666667,\n",
       "    'std_train_score': 0.013333333333333308,\n",
       "    'mean_fit_time': 0.06241297721862793,\n",
       "    'std_fit_time': 0.004124641418457031,\n",
       "    'params': {'learning_rate': 'invscaling', 'learning_rate_init': 0.3},\n",
       "    'params_learning_rate': 'invscaling',\n",
       "    'params_learning_rate_init': 0.3,\n",
       "    'status': 'ok',\n",
       "    'loss': 0.9533333333333334},\n",
       "   {'mean_test_score': 0.96,\n",
       "    'std_test_score': 0.026666666666666672,\n",
       "    'mean_train_score': 0.9866666666666667,\n",
       "    'std_train_score': 0.013333333333333308,\n",
       "    'mean_fit_time': 0.09183931350708008,\n",
       "    'std_fit_time': 0.002607107162475586,\n",
       "    'params': {'learning_rate': 'constant', 'learning_rate_init': 0.01},\n",
       "    'params_learning_rate': 'constant',\n",
       "    'params_learning_rate_init': 0.01,\n",
       "    'status': 'ok',\n",
       "    'loss': 0.96},\n",
       "   {'mean_test_score': 0.8400000000000001,\n",
       "    'std_test_score': 0.09333333333333332,\n",
       "    'mean_train_score': 0.8733333333333333,\n",
       "    'std_train_score': 0.12666666666666665,\n",
       "    'mean_fit_time': 0.05427205562591553,\n",
       "    'std_fit_time': 0.008509039878845215,\n",
       "    'params': {'learning_rate': 'constant', 'learning_rate_init': 0.3},\n",
       "    'params_learning_rate': 'constant',\n",
       "    'params_learning_rate_init': 0.3,\n",
       "    'status': 'ok',\n",
       "    'loss': 0.8400000000000001},\n",
       "   {'mean_test_score': 0.7333333333333334,\n",
       "    'std_test_score': 0.06666666666666671,\n",
       "    'mean_train_score': 0.72,\n",
       "    'std_train_score': 0.08000000000000002,\n",
       "    'mean_fit_time': 0.008983373641967773,\n",
       "    'std_fit_time': 0.0010709762573242188,\n",
       "    'params': {'learning_rate': 'invscaling', 'learning_rate_init': 0.3},\n",
       "    'params_learning_rate': 'invscaling',\n",
       "    'params_learning_rate_init': 0.3,\n",
       "    'status': 'ok',\n",
       "    'loss': 0.7333333333333334},\n",
       "   {'mean_test_score': 0.9533333333333334,\n",
       "    'std_test_score': 0.006666666666666654,\n",
       "    'mean_train_score': 0.9866666666666667,\n",
       "    'std_train_score': 0.013333333333333308,\n",
       "    'mean_fit_time': 0.06516087055206299,\n",
       "    'std_fit_time': 0.01480400562286377,\n",
       "    'params': {'learning_rate': 'constant', 'learning_rate_init': 0.3},\n",
       "    'params_learning_rate': 'constant',\n",
       "    'params_learning_rate_init': 0.3,\n",
       "    'status': 'ok',\n",
       "    'loss': 0.9533333333333334},\n",
       "   {'mean_test_score': 0.96,\n",
       "    'std_test_score': 0.026666666666666672,\n",
       "    'mean_train_score': 0.9866666666666667,\n",
       "    'std_train_score': 0.013333333333333308,\n",
       "    'mean_fit_time': 0.07896566390991211,\n",
       "    'std_fit_time': 0.0029594898223876953,\n",
       "    'params': {'learning_rate': 'constant', 'learning_rate_init': 0.01},\n",
       "    'params_learning_rate': 'constant',\n",
       "    'params_learning_rate_init': 0.01,\n",
       "    'status': 'ok',\n",
       "    'loss': 0.96},\n",
       "   {'mean_test_score': 0.9533333333333334,\n",
       "    'std_test_score': 0.020000000000000018,\n",
       "    'mean_train_score': 0.9866666666666667,\n",
       "    'std_train_score': 0.013333333333333308,\n",
       "    'mean_fit_time': 0.07121872901916504,\n",
       "    'std_fit_time': 0.00562596321105957,\n",
       "    'params': {'learning_rate': 'adaptive', 'learning_rate_init': 0.01},\n",
       "    'params_learning_rate': 'adaptive',\n",
       "    'params_learning_rate_init': 0.01,\n",
       "    'status': 'ok',\n",
       "    'loss': 0.9533333333333334},\n",
       "   {'mean_test_score': 0.9533333333333334,\n",
       "    'std_test_score': 0.020000000000000018,\n",
       "    'mean_train_score': 0.9866666666666667,\n",
       "    'std_train_score': 0.013333333333333308,\n",
       "    'mean_fit_time': 0.07599151134490967,\n",
       "    'std_fit_time': 0.007273554801940918,\n",
       "    'params': {'learning_rate': 'invscaling', 'learning_rate_init': 0.01},\n",
       "    'params_learning_rate': 'invscaling',\n",
       "    'params_learning_rate_init': 0.01,\n",
       "    'status': 'ok',\n",
       "    'loss': 0.9533333333333334},\n",
       "   {'mean_test_score': 0.9533333333333334,\n",
       "    'std_test_score': 0.020000000000000018,\n",
       "    'mean_train_score': 0.9866666666666667,\n",
       "    'std_train_score': 0.013333333333333308,\n",
       "    'mean_fit_time': 0.07493448257446289,\n",
       "    'std_fit_time': 0.010040760040283203,\n",
       "    'params': {'learning_rate': 'adaptive', 'learning_rate_init': 0.01},\n",
       "    'params_learning_rate': 'adaptive',\n",
       "    'params_learning_rate_init': 0.01,\n",
       "    'status': 'ok',\n",
       "    'loss': 0.9533333333333334},\n",
       "   {'mean_test_score': 0.4866666666666667,\n",
       "    'std_test_score': 0.15333333333333335,\n",
       "    'mean_train_score': 0.4933333333333333,\n",
       "    'std_train_score': 0.16,\n",
       "    'mean_fit_time': 0.00554347038269043,\n",
       "    'std_fit_time': 3.910064697265625e-05,\n",
       "    'params': {'learning_rate': 'constant', 'learning_rate_init': 0.5},\n",
       "    'params_learning_rate': 'constant',\n",
       "    'params_learning_rate_init': 0.5,\n",
       "    'status': 'ok',\n",
       "    'loss': 0.4866666666666667}]}]"
      ]
     },
     "execution_count": 7,
     "metadata": {},
     "output_type": "execute_result"
    }
   ],
   "source": [
    "iris = datasets['iris']\n",
    "iris = (iris.data, iris.target)\n",
    "\n",
    "res = cmp_hpt_methods(iris, **mlpc)\n",
    "res"
   ]
  },
  {
   "cell_type": "code",
   "execution_count": 8,
   "metadata": {},
   "outputs": [],
   "source": [
    "methods = []\n",
    "dfs = {}\n",
    "for data in res:\n",
    "    methods.append(data['method'])\n",
    "    dfs[data['method']]=(pd.DataFrame(data['data']))"
   ]
  },
  {
   "cell_type": "code",
   "execution_count": 9,
   "metadata": {},
   "outputs": [
    {
     "data": {
      "text/html": [
       "<div>\n",
       "<style scoped>\n",
       "    .dataframe tbody tr th:only-of-type {\n",
       "        vertical-align: middle;\n",
       "    }\n",
       "\n",
       "    .dataframe tbody tr th {\n",
       "        vertical-align: top;\n",
       "    }\n",
       "\n",
       "    .dataframe thead th {\n",
       "        text-align: right;\n",
       "    }\n",
       "</style>\n",
       "<table border=\"1\" class=\"dataframe\">\n",
       "  <thead>\n",
       "    <tr style=\"text-align: right;\">\n",
       "      <th></th>\n",
       "      <th>loss</th>\n",
       "      <th>mean_fit_time</th>\n",
       "      <th>mean_test_score</th>\n",
       "      <th>mean_train_score</th>\n",
       "      <th>params</th>\n",
       "      <th>params_learning_rate</th>\n",
       "      <th>params_learning_rate_init</th>\n",
       "      <th>status</th>\n",
       "      <th>std_fit_time</th>\n",
       "      <th>std_test_score</th>\n",
       "      <th>std_train_score</th>\n",
       "    </tr>\n",
       "  </thead>\n",
       "  <tbody>\n",
       "    <tr>\n",
       "      <th>0</th>\n",
       "      <td>0.953333</td>\n",
       "      <td>0.062413</td>\n",
       "      <td>0.953333</td>\n",
       "      <td>0.986667</td>\n",
       "      <td>{'learning_rate': 'invscaling', 'learning_rate...</td>\n",
       "      <td>invscaling</td>\n",
       "      <td>0.30</td>\n",
       "      <td>ok</td>\n",
       "      <td>0.004125</td>\n",
       "      <td>0.020000</td>\n",
       "      <td>0.013333</td>\n",
       "    </tr>\n",
       "    <tr>\n",
       "      <th>1</th>\n",
       "      <td>0.960000</td>\n",
       "      <td>0.091839</td>\n",
       "      <td>0.960000</td>\n",
       "      <td>0.986667</td>\n",
       "      <td>{'learning_rate': 'constant', 'learning_rate_i...</td>\n",
       "      <td>constant</td>\n",
       "      <td>0.01</td>\n",
       "      <td>ok</td>\n",
       "      <td>0.002607</td>\n",
       "      <td>0.026667</td>\n",
       "      <td>0.013333</td>\n",
       "    </tr>\n",
       "    <tr>\n",
       "      <th>2</th>\n",
       "      <td>0.840000</td>\n",
       "      <td>0.054272</td>\n",
       "      <td>0.840000</td>\n",
       "      <td>0.873333</td>\n",
       "      <td>{'learning_rate': 'constant', 'learning_rate_i...</td>\n",
       "      <td>constant</td>\n",
       "      <td>0.30</td>\n",
       "      <td>ok</td>\n",
       "      <td>0.008509</td>\n",
       "      <td>0.093333</td>\n",
       "      <td>0.126667</td>\n",
       "    </tr>\n",
       "    <tr>\n",
       "      <th>3</th>\n",
       "      <td>0.733333</td>\n",
       "      <td>0.008983</td>\n",
       "      <td>0.733333</td>\n",
       "      <td>0.720000</td>\n",
       "      <td>{'learning_rate': 'invscaling', 'learning_rate...</td>\n",
       "      <td>invscaling</td>\n",
       "      <td>0.30</td>\n",
       "      <td>ok</td>\n",
       "      <td>0.001071</td>\n",
       "      <td>0.066667</td>\n",
       "      <td>0.080000</td>\n",
       "    </tr>\n",
       "    <tr>\n",
       "      <th>4</th>\n",
       "      <td>0.953333</td>\n",
       "      <td>0.065161</td>\n",
       "      <td>0.953333</td>\n",
       "      <td>0.986667</td>\n",
       "      <td>{'learning_rate': 'constant', 'learning_rate_i...</td>\n",
       "      <td>constant</td>\n",
       "      <td>0.30</td>\n",
       "      <td>ok</td>\n",
       "      <td>0.014804</td>\n",
       "      <td>0.006667</td>\n",
       "      <td>0.013333</td>\n",
       "    </tr>\n",
       "    <tr>\n",
       "      <th>5</th>\n",
       "      <td>0.960000</td>\n",
       "      <td>0.078966</td>\n",
       "      <td>0.960000</td>\n",
       "      <td>0.986667</td>\n",
       "      <td>{'learning_rate': 'constant', 'learning_rate_i...</td>\n",
       "      <td>constant</td>\n",
       "      <td>0.01</td>\n",
       "      <td>ok</td>\n",
       "      <td>0.002959</td>\n",
       "      <td>0.026667</td>\n",
       "      <td>0.013333</td>\n",
       "    </tr>\n",
       "    <tr>\n",
       "      <th>6</th>\n",
       "      <td>0.953333</td>\n",
       "      <td>0.071219</td>\n",
       "      <td>0.953333</td>\n",
       "      <td>0.986667</td>\n",
       "      <td>{'learning_rate': 'adaptive', 'learning_rate_i...</td>\n",
       "      <td>adaptive</td>\n",
       "      <td>0.01</td>\n",
       "      <td>ok</td>\n",
       "      <td>0.005626</td>\n",
       "      <td>0.020000</td>\n",
       "      <td>0.013333</td>\n",
       "    </tr>\n",
       "    <tr>\n",
       "      <th>7</th>\n",
       "      <td>0.953333</td>\n",
       "      <td>0.075992</td>\n",
       "      <td>0.953333</td>\n",
       "      <td>0.986667</td>\n",
       "      <td>{'learning_rate': 'invscaling', 'learning_rate...</td>\n",
       "      <td>invscaling</td>\n",
       "      <td>0.01</td>\n",
       "      <td>ok</td>\n",
       "      <td>0.007274</td>\n",
       "      <td>0.020000</td>\n",
       "      <td>0.013333</td>\n",
       "    </tr>\n",
       "    <tr>\n",
       "      <th>8</th>\n",
       "      <td>0.953333</td>\n",
       "      <td>0.074934</td>\n",
       "      <td>0.953333</td>\n",
       "      <td>0.986667</td>\n",
       "      <td>{'learning_rate': 'adaptive', 'learning_rate_i...</td>\n",
       "      <td>adaptive</td>\n",
       "      <td>0.01</td>\n",
       "      <td>ok</td>\n",
       "      <td>0.010041</td>\n",
       "      <td>0.020000</td>\n",
       "      <td>0.013333</td>\n",
       "    </tr>\n",
       "    <tr>\n",
       "      <th>9</th>\n",
       "      <td>0.486667</td>\n",
       "      <td>0.005543</td>\n",
       "      <td>0.486667</td>\n",
       "      <td>0.493333</td>\n",
       "      <td>{'learning_rate': 'constant', 'learning_rate_i...</td>\n",
       "      <td>constant</td>\n",
       "      <td>0.50</td>\n",
       "      <td>ok</td>\n",
       "      <td>0.000039</td>\n",
       "      <td>0.153333</td>\n",
       "      <td>0.160000</td>\n",
       "    </tr>\n",
       "  </tbody>\n",
       "</table>\n",
       "</div>"
      ],
      "text/plain": [
       "       loss  mean_fit_time  mean_test_score  mean_train_score  \\\n",
       "0  0.953333       0.062413         0.953333          0.986667   \n",
       "1  0.960000       0.091839         0.960000          0.986667   \n",
       "2  0.840000       0.054272         0.840000          0.873333   \n",
       "3  0.733333       0.008983         0.733333          0.720000   \n",
       "4  0.953333       0.065161         0.953333          0.986667   \n",
       "5  0.960000       0.078966         0.960000          0.986667   \n",
       "6  0.953333       0.071219         0.953333          0.986667   \n",
       "7  0.953333       0.075992         0.953333          0.986667   \n",
       "8  0.953333       0.074934         0.953333          0.986667   \n",
       "9  0.486667       0.005543         0.486667          0.493333   \n",
       "\n",
       "                                              params params_learning_rate  \\\n",
       "0  {'learning_rate': 'invscaling', 'learning_rate...           invscaling   \n",
       "1  {'learning_rate': 'constant', 'learning_rate_i...             constant   \n",
       "2  {'learning_rate': 'constant', 'learning_rate_i...             constant   \n",
       "3  {'learning_rate': 'invscaling', 'learning_rate...           invscaling   \n",
       "4  {'learning_rate': 'constant', 'learning_rate_i...             constant   \n",
       "5  {'learning_rate': 'constant', 'learning_rate_i...             constant   \n",
       "6  {'learning_rate': 'adaptive', 'learning_rate_i...             adaptive   \n",
       "7  {'learning_rate': 'invscaling', 'learning_rate...           invscaling   \n",
       "8  {'learning_rate': 'adaptive', 'learning_rate_i...             adaptive   \n",
       "9  {'learning_rate': 'constant', 'learning_rate_i...             constant   \n",
       "\n",
       "   params_learning_rate_init status  std_fit_time  std_test_score  \\\n",
       "0                       0.30     ok      0.004125        0.020000   \n",
       "1                       0.01     ok      0.002607        0.026667   \n",
       "2                       0.30     ok      0.008509        0.093333   \n",
       "3                       0.30     ok      0.001071        0.066667   \n",
       "4                       0.30     ok      0.014804        0.006667   \n",
       "5                       0.01     ok      0.002959        0.026667   \n",
       "6                       0.01     ok      0.005626        0.020000   \n",
       "7                       0.01     ok      0.007274        0.020000   \n",
       "8                       0.01     ok      0.010041        0.020000   \n",
       "9                       0.50     ok      0.000039        0.153333   \n",
       "\n",
       "   std_train_score  \n",
       "0         0.013333  \n",
       "1         0.013333  \n",
       "2         0.126667  \n",
       "3         0.080000  \n",
       "4         0.013333  \n",
       "5         0.013333  \n",
       "6         0.013333  \n",
       "7         0.013333  \n",
       "8         0.013333  \n",
       "9         0.160000  "
      ]
     },
     "execution_count": 9,
     "metadata": {},
     "output_type": "execute_result"
    }
   ],
   "source": [
    "dfs[methods[-1]].drop(['loss', 'status'], 1)\n",
    "dfs[methods[-1]]"
   ]
  },
  {
   "cell_type": "code",
   "execution_count": 14,
   "metadata": {},
   "outputs": [
    {
     "data": {
      "text/html": [
       "<div>\n",
       "<style scoped>\n",
       "    .dataframe tbody tr th:only-of-type {\n",
       "        vertical-align: middle;\n",
       "    }\n",
       "\n",
       "    .dataframe tbody tr th {\n",
       "        vertical-align: top;\n",
       "    }\n",
       "\n",
       "    .dataframe thead th {\n",
       "        text-align: right;\n",
       "    }\n",
       "</style>\n",
       "<table border=\"1\" class=\"dataframe\">\n",
       "  <thead>\n",
       "    <tr style=\"text-align: right;\">\n",
       "      <th></th>\n",
       "      <th>name</th>\n",
       "      <th>mean_test_score</th>\n",
       "      <th>mean_fit_time</th>\n",
       "      <th>params_sampled</th>\n",
       "    </tr>\n",
       "  </thead>\n",
       "  <tbody>\n",
       "    <tr>\n",
       "      <th>0</th>\n",
       "      <td>Grid Search</td>\n",
       "      <td>0.787407</td>\n",
       "      <td>0.051019</td>\n",
       "      <td>9</td>\n",
       "    </tr>\n",
       "    <tr>\n",
       "      <th>1</th>\n",
       "      <td>Random Search</td>\n",
       "      <td>0.783704</td>\n",
       "      <td>0.055717</td>\n",
       "      <td>9</td>\n",
       "    </tr>\n",
       "    <tr>\n",
       "      <th>2</th>\n",
       "      <td>Bayes Seach</td>\n",
       "      <td>0.920667</td>\n",
       "      <td>0.066567</td>\n",
       "      <td>10</td>\n",
       "    </tr>\n",
       "  </tbody>\n",
       "</table>\n",
       "</div>"
      ],
      "text/plain": [
       "            name  mean_test_score  mean_fit_time params_sampled\n",
       "0    Grid Search         0.787407       0.051019              9\n",
       "1  Random Search         0.783704       0.055717              9\n",
       "2    Bayes Seach         0.920667       0.066567             10"
      ]
     },
     "execution_count": 14,
     "metadata": {},
     "output_type": "execute_result"
    }
   ],
   "source": [
    "n = 'name'\n",
    "mts = 'mean_test_score'\n",
    "mft = 'mean_fit_time'\n",
    "all_df = pd.DataFrame(columns=[n, mts, mft, 'params_sampled'])\n",
    "for i, m in enumerate(methods[1:4]):\n",
    "    all_df.loc[i] = [m, dfs[m][mts].mean(), dfs[m][mft].mean(),len(dfs[m].index)]\n",
    "all_df"
   ]
  },
  {
   "cell_type": "code",
   "execution_count": 15,
   "metadata": {},
   "outputs": [
    {
     "data": {
      "text/plain": [
       "<matplotlib.axes._subplots.AxesSubplot at 0x7f8e283162e8>"
      ]
     },
     "execution_count": 15,
     "metadata": {},
     "output_type": "execute_result"
    },
    {
     "data": {
      "image/png": "[encoded data removed]",
      "text/plain": [
       "<Figure size 432x288 with 1 Axes>"
      ]
     },
     "metadata": {
      "needs_background": "light"
     },
     "output_type": "display_data"
    }
   ],
   "source": [
    "sns.barplot(x=mts, y=n, data=all_df, color='m')\n"
   ]
  },
  {
   "cell_type": "code",
   "execution_count": 45,
   "metadata": {},
   "outputs": [],
   "source": [
    "conf_m = [[497, 52],[108, 234]]\n",
    "conf_m = np.array(conf_m)\n",
    "normalised = conf_m.astype('float')/ conf_m.sum(axis=1)[:,np.newaxis]"
   ]
  },
  {
   "cell_type": "code",
   "execution_count": 51,
   "metadata": {},
   "outputs": [
    {
     "data": {
      "text/plain": [
       "<matplotlib.axes._subplots.AxesSubplot at 0x7f8e228eb400>"
      ]
     },
     "execution_count": 51,
     "metadata": {},
     "output_type": "execute_result"
    },
    {
     "data": {
      "image/png": "[encoded data removed]",
      "text/plain": [
       "<Figure size 432x288 with 2 Axes>"
      ]
     },
     "metadata": {
      "needs_background": "light"
     },
     "output_type": "display_data"
    }
   ],
   "source": [
    "# plot confusion matrix \n",
    "\n",
    "sns.heatmap(normalised, annot=True,annot_kws={\"size\": 16}, cmap=plt.cm.Blues)"
   ]
  },
  {
   "cell_type": "code",
   "execution_count": null,
   "metadata": {
    "collapsed": true
   },
   "outputs": [],
   "source": []
  },
  {
   "cell_type": "code",
   "execution_count": null,
   "metadata": {
    "collapsed": true
   },
   "outputs": [],
   "source": []
  },
  {
   "cell_type": "code",
   "execution_count": null,
   "metadata": {
    "collapsed": true
   },
   "outputs": [],
   "source": []
  },
  {
   "cell_type": "code",
   "execution_count": 33,
   "metadata": {},
   "outputs": [
    {
     "data": {
      "text/plain": [
       "<matplotlib.axes._subplots.AxesSubplot at 0x7f8e22f04c88>"
      ]
     },
     "execution_count": 33,
     "metadata": {},
     "output_type": "execute_result"
    },
    {
     "data": {
      "image/png": "[encoded data removed]",
      "text/plain": [
       "<Figure size 432x288 with 1 Axes>"
      ]
     },
     "metadata": {
      "needs_background": "light"
     },
     "output_type": "display_data"
    }
   ],
   "source": [
    "sns.barplot(x=(('params_sampled')), y=n, data=all_df)"
   ]
  },
  {
   "cell_type": "code",
   "execution_count": 20,
   "metadata": {},
   "outputs": [
    {
     "data": {
      "text/plain": [
       "<matplotlib.axes._subplots.AxesSubplot at 0x7f8e22f75208>"
      ]
     },
     "execution_count": 20,
     "metadata": {},
     "output_type": "execute_result"
    },
    {
     "data": {
      "image/png": "[encoded data removed]",
      "text/plain": [
       "<Figure size 432x288 with 1 Axes>"
      ]
     },
     "metadata": {
      "needs_background": "light"
     },
     "output_type": "display_data"
    }
   ],
   "source": [
    "sns.barplot(x=mft, y=n, data=all_df, color='m')"
   ]
  },
  {
   "cell_type": "code",
   "execution_count": null,
   "metadata": {
    "collapsed": true
   },
   "outputs": [],
   "source": []
  },
  {
   "cell_type": "code",
   "execution_count": null,
   "metadata": {
    "collapsed": true
   },
   "outputs": [],
   "source": [
    "# define SVC\n",
    "m = mdl.load_SVC()\n",
    "hpt_objs = [\n",
    "        HPT_OBJ('Baseline', m.base, run_baseline, {}),\n",
    "        HPT_OBJ('Grid Search', m.param_grid, grid_search, {}),\n",
    "        HPT_OBJ('Random Search', m.param_grid, random_search, {'n_iter': MAX_ITER}),\n",
    "        HPT_OBJ('Bayes Seach', m.bayes_grid, baysian_search, {'n_iter':MAX_ITER}),\n",
    "        HPT_OBJ('Tree of Parzen Est.', m.hyperopt_grid, tpe_search, {})\n",
    "]\n",
    "loss=None\n",
    "\n",
    "models_targs.append({\n",
    "    'model': m.model,\n",
    "    'htp_objs': hpt_objs,\n",
    "    'loss': loss,\n",
    "    'metric': accuracy_score,\n",
    "})"
   ]
  },
  {
   "cell_type": "code",
   "execution_count": null,
   "metadata": {
    "collapsed": true
   },
   "outputs": [],
   "source": [
    "# define SVC\n",
    "m = mdl.load_RandomForestClassifier()\n",
    "hpt_objs = [\n",
    "        HPT_OBJ('Baseline', m.base, run_baseline, {}),\n",
    "        HPT_OBJ('Grid Search', m.param_grid, grid_search, {}),\n",
    "        HPT_OBJ('Random Search', m.param_grid, random_search, {'n_iter': MAX_ITER}),\n",
    "       # HPT_OBJ('Bayes Seach', m.bayes_grid, baysian_search, {'n_iter':MAX_ITER}),\n",
    "       # HPT_OBJ('Tree of Parzen Est.', m.hyperopt_grid, tpe_search, {})\n",
    "]\n",
    "loss=None\n",
    "\n",
    "models_targs.append({\n",
    "    'model': m.model,\n",
    "    'htp_objs': hpt_objs,\n",
    "    'loss': loss,\n",
    "    'metric': accuracy_score,\n",
    "})"
   ]
  },
  {
   "cell_type": "code",
   "execution_count": null,
   "metadata": {},
   "outputs": [],
   "source": [
    "# RUN TUNING\n",
    "all_results = []\n",
    "\n",
    "for m_args in models_targs:\n",
    "    for name in datasets:\n",
    "        d = datasets[name]\n",
    "        try:\n",
    "            result = cmp_hpt_methods(\n",
    "                (d.data, d.target),\n",
    "                **m_args,\n",
    "                random_state=1,\n",
    "                name=name\n",
    "            )\n",
    "            all_results.append(result)\n",
    "        except Exception as e:\n",
    "            print('!!!!!!!!!!!!!!!!!!')\n",
    "            print(m.model.__name__,name)\n",
    "            print(e)\n"
   ]
  },
  {
   "cell_type": "code",
   "execution_count": null,
   "metadata": {},
   "outputs": [],
   "source": [
    "len(all_results)"
   ]
  },
  {
   "cell_type": "code",
   "execution_count": null,
   "metadata": {
    "scrolled": false
   },
   "outputs": [],
   "source": []
  },
  {
   "cell_type": "code",
   "execution_count": null,
   "metadata": {},
   "outputs": [],
   "source": [
    " \n",
    "table_by_ds(all_results[0:4], ds_names)"
   ]
  },
  {
   "cell_type": "code",
   "execution_count": null,
   "metadata": {},
   "outputs": [],
   "source": [
    "for x in [MEAN+CV_TIME, MEAN+TEST_ACC]:\n",
    "    plot_by_ds(x, all_results[0:4], ds_names)\n",
    "    plot_by_ds(x, all_results[4:8], ds_names)\n",
    "    #plot_by_ds(x, all_results[8:12], ds_names)"
   ]
  },
  {
   "cell_type": "code",
   "execution_count": null,
   "metadata": {},
   "outputs": [],
   "source": [
    "pd.DataFrame(all_results[0])"
   ]
  }
 ],
 "metadata": {
  "kernelspec": {
   "display_name": "Python 3",
   "language": "python",
   "name": "python3"
  },
  "language_info": {
   "codemirror_mode": {
    "name": "ipython",
    "version": 3
   },
   "file_extension": ".py",
   "mimetype": "text/x-python",
   "name": "python",
   "nbconvert_exporter": "python",
   "pygments_lexer": "ipython3",
   "version": "3.6.6"
  }
 },
 "nbformat": 4,
 "nbformat_minor": 2
}
