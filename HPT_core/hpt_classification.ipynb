{
 "cells": [
  {
   "cell_type": "code",
   "execution_count": null,
   "metadata": {
    "collapsed": true
   },
   "outputs": [],
   "source": []
  },
  {
   "cell_type": "code",
   "execution_count": 1,
   "metadata": {},
   "outputs": [],
   "source": [
    "%load_ext autoreload\n",
    "%autoreload 2\n",
    "%aimport hpt_cmp\n",
    "\n",
    "%matplotlib inline"
   ]
  },
  {
   "cell_type": "code",
   "execution_count": 2,
   "metadata": {},
   "outputs": [],
   "source": [
    "import dataset_loader as ds\n",
    "import model_loader as mdl\n",
    "import seaborn as sns\n",
    "\n",
    "from hpt_cmp import *\n",
    "\n",
    "from sklearn.metrics import accuracy_score, f1_score,roc_auc_score ,make_scorer\n",
    "from tqdm import tqdm_notebook\n"
   ]
  },
  {
   "cell_type": "code",
   "execution_count": null,
   "metadata": {
    "collapsed": true
   },
   "outputs": [],
   "source": []
  },
  {
   "cell_type": "code",
   "execution_count": 3,
   "metadata": {},
   "outputs": [],
   "source": [
    "# LOAD DATASETS\n",
    "ds_names = ['iris', 'wine', 'breast_cancer', 'digits']\n",
    "datasets = {}\n",
    "\n",
    "for name in ds_names:\n",
    "    datasets[name]=(ds.load(name))"
   ]
  },
  {
   "cell_type": "code",
   "execution_count": 4,
   "metadata": {},
   "outputs": [],
   "source": [
    "models_targs = []"
   ]
  },
  {
   "cell_type": "code",
   "execution_count": 44,
   "metadata": {},
   "outputs": [],
   "source": [
    "# define MLPClassifier\n",
    "m = mdl.load_MLPClassifier()\n",
    "hpt_objs = [\n",
    "        HPT_OBJ('Baseline', m.base, run_baseline, {}),\n",
    "        HPT_OBJ('Grid Search', m.param_grid, grid_search, {}),\n",
    "        HPT_OBJ('Random Search', m.param_grid, random_search, {'n_iter': MAX_ITER}),\n",
    "        HPT_OBJ('Bayes Seach', m.bayes_grid, baysian_search, {'n_iter':MAX_ITER}),\n",
    "        HPT_OBJ('Tree of Parzen Est.', m.hyperopt_grid, tpe_search, {})\n",
    "]\n",
    "#loss='neg_log_loss'\n",
    "loss='accuracy'\n",
    "\n",
    "mlpc ={\n",
    "    'model': m.model,\n",
    "    'hpt_objs': hpt_objs,\n",
    "    'loss': loss,\n",
    "    'metric': accuracy_score,\n",
    "}"
   ]
  },
  {
   "cell_type": "code",
   "execution_count": 45,
   "metadata": {
    "collapsed": true
   },
   "outputs": [],
   "source": [
    "irisBunch = datasets['iris']\n",
    "iris = (irisBunch.data, irisBunch.target)"
   ]
  },
  {
   "cell_type": "code",
   "execution_count": 15,
   "metadata": {
    "scrolled": true
   },
   "outputs": [
    {
     "name": "stderr",
     "output_type": "stream",
     "text": [
      "/home/tonia/uni/ml/Hyper-Parameter-Tuning/env/lib64/python3.6/site-packages/sklearn/neural_network/multilayer_perceptron.py:562: ConvergenceWarning: Stochastic Optimizer: Maximum iterations (200) reached and the optimization hasn't converged yet.\n",
      "  % self.max_iter, ConvergenceWarning)\n",
      "/home/tonia/uni/ml/Hyper-Parameter-Tuning/env/lib64/python3.6/site-packages/sklearn/utils/deprecation.py:125: FutureWarning: You are accessing a training score ('train_score'), which will not be available by default any more in 0.21. If you need training scores, please set return_train_score=True\n",
      "  warnings.warn(*warn_args, **warn_kwargs)\n",
      "[Parallel(n_jobs=1)]: Using backend SequentialBackend with 1 concurrent workers.\n"
     ]
    },
    {
     "name": "stdout",
     "output_type": "stream",
     "text": [
      "{'mean_test_score': [0.9526487663280117], 'std_test_score': [0.02812046444121913], 'mean_train_score': [0.9905660377358491], 'std_train_score': [0.009433962264150941], 'mean_fit_time': [0.07935976982116699], 'std_fit_time': [0.0020797252655029297], 'params': [{'learning_rate': 'adaptive', 'learning_rate_init': 0.01}], 'params_learning_rate': ['adaptive'], 'params_learning_rate_init': [0.01], 'status': ['ok'], 'loss': [0.9526487663280117]}\n",
      "Fitting 2 folds for each of 9 candidates, totalling 18 fits\n"
     ]
    },
    {
     "name": "stderr",
     "output_type": "stream",
     "text": [
      "/home/tonia/uni/ml/Hyper-Parameter-Tuning/env/lib64/python3.6/site-packages/sklearn/neural_network/multilayer_perceptron.py:562: ConvergenceWarning: Stochastic Optimizer: Maximum iterations (200) reached and the optimization hasn't converged yet.\n",
      "  % self.max_iter, ConvergenceWarning)\n",
      "/home/tonia/uni/ml/Hyper-Parameter-Tuning/env/lib64/python3.6/site-packages/sklearn/neural_network/multilayer_perceptron.py:562: ConvergenceWarning: Stochastic Optimizer: Maximum iterations (200) reached and the optimization hasn't converged yet.\n",
      "  % self.max_iter, ConvergenceWarning)\n",
      "/home/tonia/uni/ml/Hyper-Parameter-Tuning/env/lib64/python3.6/site-packages/sklearn/neural_network/multilayer_perceptron.py:562: ConvergenceWarning: Stochastic Optimizer: Maximum iterations (200) reached and the optimization hasn't converged yet.\n",
      "  % self.max_iter, ConvergenceWarning)\n",
      "/home/tonia/uni/ml/Hyper-Parameter-Tuning/env/lib64/python3.6/site-packages/sklearn/neural_network/multilayer_perceptron.py:562: ConvergenceWarning: Stochastic Optimizer: Maximum iterations (200) reached and the optimization hasn't converged yet.\n",
      "  % self.max_iter, ConvergenceWarning)\n",
      "[Parallel(n_jobs=1)]: Done  18 out of  18 | elapsed:    0.8s finished\n",
      "/home/tonia/uni/ml/Hyper-Parameter-Tuning/env/lib64/python3.6/site-packages/sklearn/model_selection/_search.py:841: DeprecationWarning: The default of the `iid` parameter will change from True to False in version 0.22 and will be removed in 0.24. This will change numeric results when test-set sizes are unequal.\n",
      "  DeprecationWarning)\n",
      "/home/tonia/uni/ml/Hyper-Parameter-Tuning/env/lib64/python3.6/site-packages/sklearn/model_selection/_search.py:271: UserWarning: The total space of parameters 9 is smaller than n_iter=10. Running 9 iterations. For exhaustive searches, use GridSearchCV.\n",
      "  % (grid_size, self.n_iter, grid_size), UserWarning)\n",
      "[Parallel(n_jobs=1)]: Using backend SequentialBackend with 1 concurrent workers.\n"
     ]
    },
    {
     "name": "stdout",
     "output_type": "stream",
     "text": [
      "{'mean_fit_time': array([0.07253575, 0.04249561, 0.00782228, 0.06339574, 0.06072438,\n",
      "       0.02228165, 0.06470346, 0.03553605, 0.0063262 ]), 'std_fit_time': array([9.37294960e-03, 3.52483988e-02, 5.14984131e-05, 1.14727020e-02,\n",
      "       2.11890936e-02, 1.44541264e-02, 1.11596584e-02, 1.99382305e-02,\n",
      "       1.47819519e-03]), 'mean_score_time': array([0.00029016, 0.00049758, 0.00025821, 0.00039077, 0.0005914 ,\n",
      "       0.00026798, 0.00045156, 0.00038517, 0.00027931]), 'std_score_time': array([6.91413879e-06, 2.55584717e-04, 1.31130219e-05, 1.03950500e-04,\n",
      "       2.74777412e-04, 4.05311584e-06, 1.26361847e-05, 5.85317612e-05,\n",
      "       2.46763229e-05]), 'param_learning_rate': masked_array(data=['constant', 'constant', 'constant', 'invscaling',\n",
      "                   'invscaling', 'invscaling', 'adaptive', 'adaptive',\n",
      "                   'adaptive'],\n",
      "             mask=[False, False, False, False, False, False, False, False,\n",
      "                   False],\n",
      "       fill_value='?',\n",
      "            dtype=object), 'param_learning_rate_init': masked_array(data=[0.01, 0.3, 0.5, 0.01, 0.3, 0.5, 0.01, 0.3, 0.5],\n",
      "             mask=[False, False, False, False, False, False, False, False,\n",
      "                   False],\n",
      "       fill_value='?',\n",
      "            dtype=object), 'params': [{'learning_rate': 'constant', 'learning_rate_init': 0.01}, {'learning_rate': 'constant', 'learning_rate_init': 0.3}, {'learning_rate': 'constant', 'learning_rate_init': 0.5}, {'learning_rate': 'invscaling', 'learning_rate_init': 0.01}, {'learning_rate': 'invscaling', 'learning_rate_init': 0.3}, {'learning_rate': 'invscaling', 'learning_rate_init': 0.5}, {'learning_rate': 'adaptive', 'learning_rate_init': 0.01}, {'learning_rate': 'adaptive', 'learning_rate_init': 0.3}, {'learning_rate': 'adaptive', 'learning_rate_init': 0.5}], 'split0_test_score': array([0.94339623, 0.9245283 , 0.33962264, 0.9245283 , 0.96226415,\n",
      "       0.33962264, 0.9245283 , 0.94339623, 0.54716981]), 'split1_test_score': array([0.98076923, 0.69230769, 0.34615385, 0.98076923, 0.98076923,\n",
      "       0.65384615, 0.98076923, 0.65384615, 0.69230769]), 'mean_test_score': array([0.96190476, 0.80952381, 0.34285714, 0.95238095, 0.97142857,\n",
      "       0.4952381 , 0.95238095, 0.8       , 0.61904762]), 'std_test_score': array([0.01868565, 0.11610504, 0.00326545, 0.02811919, 0.00925212,\n",
      "       0.15710463, 0.02811919, 0.14476847, 0.07256565]), 'rank_test_score': array([2, 5, 9, 3, 1, 8, 3, 6, 7], dtype=int32), 'split0_train_score': array([1.        , 1.        , 0.34615385, 1.        , 1.        ,\n",
      "       0.34615385, 1.        , 1.        , 0.55769231]), 'split1_train_score': array([0.98113208, 0.67924528, 0.33962264, 1.        , 0.98113208,\n",
      "       0.64150943, 0.98113208, 0.66037736, 0.67924528]), 'mean_train_score': array([0.99056604, 0.83962264, 0.34288824, 1.        , 0.99056604,\n",
      "       0.49383164, 0.99056604, 0.83018868, 0.6184688 ]), 'std_train_score': array([0.00943396, 0.16037736, 0.0032656 , 0.        , 0.00943396,\n",
      "       0.14767779, 0.00943396, 0.16981132, 0.06077649])}\n",
      "Fitting 2 folds for each of 9 candidates, totalling 18 fits\n"
     ]
    },
    {
     "name": "stderr",
     "output_type": "stream",
     "text": [
      "/home/tonia/uni/ml/Hyper-Parameter-Tuning/env/lib64/python3.6/site-packages/sklearn/neural_network/multilayer_perceptron.py:562: ConvergenceWarning: Stochastic Optimizer: Maximum iterations (200) reached and the optimization hasn't converged yet.\n",
      "  % self.max_iter, ConvergenceWarning)\n",
      "/home/tonia/uni/ml/Hyper-Parameter-Tuning/env/lib64/python3.6/site-packages/sklearn/neural_network/multilayer_perceptron.py:562: ConvergenceWarning: Stochastic Optimizer: Maximum iterations (200) reached and the optimization hasn't converged yet.\n",
      "  % self.max_iter, ConvergenceWarning)\n",
      "/home/tonia/uni/ml/Hyper-Parameter-Tuning/env/lib64/python3.6/site-packages/sklearn/neural_network/multilayer_perceptron.py:562: ConvergenceWarning: Stochastic Optimizer: Maximum iterations (200) reached and the optimization hasn't converged yet.\n",
      "  % self.max_iter, ConvergenceWarning)\n",
      "/home/tonia/uni/ml/Hyper-Parameter-Tuning/env/lib64/python3.6/site-packages/sklearn/neural_network/multilayer_perceptron.py:562: ConvergenceWarning: Stochastic Optimizer: Maximum iterations (200) reached and the optimization hasn't converged yet.\n",
      "  % self.max_iter, ConvergenceWarning)\n",
      "/home/tonia/uni/ml/Hyper-Parameter-Tuning/env/lib64/python3.6/site-packages/sklearn/neural_network/multilayer_perceptron.py:562: ConvergenceWarning: Stochastic Optimizer: Maximum iterations (200) reached and the optimization hasn't converged yet.\n",
      "  % self.max_iter, ConvergenceWarning)\n",
      "[Parallel(n_jobs=1)]: Done  18 out of  18 | elapsed:    0.9s finished\n",
      "/home/tonia/uni/ml/Hyper-Parameter-Tuning/env/lib64/python3.6/site-packages/sklearn/model_selection/_search.py:841: DeprecationWarning: The default of the `iid` parameter will change from True to False in version 0.22 and will be removed in 0.24. This will change numeric results when test-set sizes are unequal.\n",
      "  DeprecationWarning)\n"
     ]
    },
    {
     "name": "stdout",
     "output_type": "stream",
     "text": [
      "{'mean_fit_time': array([0.07098377, 0.05077744, 0.00580907, 0.07902896, 0.01897049,\n",
      "       0.04965055, 0.07567167, 0.05883265, 0.00771296]), 'std_fit_time': array([0.01436412, 0.01195598, 0.00108671, 0.01004875, 0.00530529,\n",
      "       0.03656042, 0.01696658, 0.01184797, 0.0009836 ]), 'mean_score_time': array([0.0022105 , 0.0003022 , 0.00028419, 0.00045598, 0.00031364,\n",
      "       0.00040424, 0.00064898, 0.00037873, 0.00028765]), 'std_score_time': array([1.92701817e-03, 2.72989273e-05, 2.19345093e-05, 1.65820122e-04,\n",
      "       1.82390213e-05, 3.73125076e-05, 1.26838684e-04, 8.97645950e-05,\n",
      "       2.41994858e-05]), 'param_learning_rate_init': masked_array(data=[0.01, 0.3, 0.5, 0.01, 0.3, 0.5, 0.01, 0.3, 0.5],\n",
      "             mask=[False, False, False, False, False, False, False, False,\n",
      "                   False],\n",
      "       fill_value='?',\n",
      "            dtype=object), 'param_learning_rate': masked_array(data=['constant', 'constant', 'constant', 'invscaling',\n",
      "                   'invscaling', 'invscaling', 'adaptive', 'adaptive',\n",
      "                   'adaptive'],\n",
      "             mask=[False, False, False, False, False, False, False, False,\n",
      "                   False],\n",
      "       fill_value='?',\n",
      "            dtype=object), 'params': [{'learning_rate_init': 0.01, 'learning_rate': 'constant'}, {'learning_rate_init': 0.3, 'learning_rate': 'constant'}, {'learning_rate_init': 0.5, 'learning_rate': 'constant'}, {'learning_rate_init': 0.01, 'learning_rate': 'invscaling'}, {'learning_rate_init': 0.3, 'learning_rate': 'invscaling'}, {'learning_rate_init': 0.5, 'learning_rate': 'invscaling'}, {'learning_rate_init': 0.01, 'learning_rate': 'adaptive'}, {'learning_rate_init': 0.3, 'learning_rate': 'adaptive'}, {'learning_rate_init': 0.5, 'learning_rate': 'adaptive'}], 'split0_test_score': array([0.9245283 , 0.96226415, 0.32075472, 0.94339623, 0.67924528,\n",
      "       0.9245283 , 0.94339623, 0.96226415, 0.33962264]), 'split1_test_score': array([0.98076923, 0.90384615, 0.30769231, 0.98076923, 0.34615385,\n",
      "       0.30769231, 0.98076923, 0.98076923, 0.30769231]), 'mean_test_score': array([0.95238095, 0.93333333, 0.31428571, 0.96190476, 0.51428571,\n",
      "       0.61904762, 0.96190476, 0.97142857, 0.32380952]), 'std_test_score': array([0.02811919, 0.02920767, 0.00653091, 0.01868565, 0.16653817,\n",
      "       0.30840401, 0.01868565, 0.00925212, 0.01596444]), 'rank_test_score': array([4, 5, 9, 2, 7, 6, 2, 1, 8], dtype=int32), 'split0_train_score': array([1.        , 1.        , 0.30769231, 1.        , 0.69230769,\n",
      "       1.        , 1.        , 1.        , 0.34615385]), 'split1_train_score': array([1.        , 0.73584906, 0.32075472, 0.98113208, 0.33962264,\n",
      "       0.33962264, 1.        , 0.98113208, 0.32075472]), 'mean_train_score': array([1.        , 0.86792453, 0.31422351, 0.99056604, 0.51596517,\n",
      "       0.66981132, 1.        , 0.99056604, 0.33345428]), 'std_train_score': array([0.        , 0.13207547, 0.0065312 , 0.00943396, 0.17634253,\n",
      "       0.33018868, 0.        , 0.00943396, 0.01269956])}\n",
      "Fitting 2 folds for each of 1 candidates, totalling 2 fits\n"
     ]
    },
    {
     "name": "stderr",
     "output_type": "stream",
     "text": [
      "/home/tonia/uni/ml/Hyper-Parameter-Tuning/env/lib64/python3.6/site-packages/sklearn/neural_network/multilayer_perceptron.py:562: ConvergenceWarning: Stochastic Optimizer: Maximum iterations (200) reached and the optimization hasn't converged yet.\n",
      "  % self.max_iter, ConvergenceWarning)\n",
      "[Parallel(n_jobs=1)]: Using backend SequentialBackend with 1 concurrent workers.\n",
      "[Parallel(n_jobs=1)]: Done   2 out of   2 | elapsed:    0.1s finished\n",
      "[Parallel(n_jobs=1)]: Using backend SequentialBackend with 1 concurrent workers.\n"
     ]
    },
    {
     "name": "stdout",
     "output_type": "stream",
     "text": [
      "Fitting 2 folds for each of 1 candidates, totalling 2 fits\n",
      "Fitting 2 folds for each of 1 candidates, totalling 2 fits\n"
     ]
    },
    {
     "name": "stderr",
     "output_type": "stream",
     "text": [
      "/home/tonia/uni/ml/Hyper-Parameter-Tuning/env/lib64/python3.6/site-packages/sklearn/neural_network/multilayer_perceptron.py:562: ConvergenceWarning: Stochastic Optimizer: Maximum iterations (200) reached and the optimization hasn't converged yet.\n",
      "  % self.max_iter, ConvergenceWarning)\n",
      "[Parallel(n_jobs=1)]: Done   2 out of   2 | elapsed:    0.1s finished\n",
      "[Parallel(n_jobs=1)]: Using backend SequentialBackend with 1 concurrent workers.\n",
      "[Parallel(n_jobs=1)]: Done   2 out of   2 | elapsed:    0.1s finished\n",
      "[Parallel(n_jobs=1)]: Using backend SequentialBackend with 1 concurrent workers.\n"
     ]
    },
    {
     "name": "stdout",
     "output_type": "stream",
     "text": [
      "Fitting 2 folds for each of 1 candidates, totalling 2 fits\n",
      "Fitting 2 folds for each of 1 candidates, totalling 2 fits\n"
     ]
    },
    {
     "name": "stderr",
     "output_type": "stream",
     "text": [
      "/home/tonia/uni/ml/Hyper-Parameter-Tuning/env/lib64/python3.6/site-packages/sklearn/neural_network/multilayer_perceptron.py:562: ConvergenceWarning: Stochastic Optimizer: Maximum iterations (200) reached and the optimization hasn't converged yet.\n",
      "  % self.max_iter, ConvergenceWarning)\n",
      "[Parallel(n_jobs=1)]: Done   2 out of   2 | elapsed:    0.1s finished\n",
      "[Parallel(n_jobs=1)]: Using backend SequentialBackend with 1 concurrent workers.\n",
      "/home/tonia/uni/ml/Hyper-Parameter-Tuning/env/lib64/python3.6/site-packages/sklearn/neural_network/multilayer_perceptron.py:562: ConvergenceWarning: Stochastic Optimizer: Maximum iterations (200) reached and the optimization hasn't converged yet.\n",
      "  % self.max_iter, ConvergenceWarning)\n",
      "[Parallel(n_jobs=1)]: Done   2 out of   2 | elapsed:    0.1s finished\n",
      "[Parallel(n_jobs=1)]: Using backend SequentialBackend with 1 concurrent workers.\n"
     ]
    },
    {
     "name": "stdout",
     "output_type": "stream",
     "text": [
      "Fitting 2 folds for each of 1 candidates, totalling 2 fits\n",
      "Fitting 2 folds for each of 1 candidates, totalling 2 fits\n"
     ]
    },
    {
     "name": "stderr",
     "output_type": "stream",
     "text": [
      "[Parallel(n_jobs=1)]: Done   2 out of   2 | elapsed:    0.1s finished\n",
      "[Parallel(n_jobs=1)]: Using backend SequentialBackend with 1 concurrent workers.\n",
      "[Parallel(n_jobs=1)]: Done   2 out of   2 | elapsed:    0.2s finished\n",
      "[Parallel(n_jobs=1)]: Using backend SequentialBackend with 1 concurrent workers.\n"
     ]
    },
    {
     "name": "stdout",
     "output_type": "stream",
     "text": [
      "Fitting 2 folds for each of 1 candidates, totalling 2 fits\n",
      "Fitting 2 folds for each of 1 candidates, totalling 2 fits\n"
     ]
    },
    {
     "name": "stderr",
     "output_type": "stream",
     "text": [
      "[Parallel(n_jobs=1)]: Done   2 out of   2 | elapsed:    0.1s finished\n",
      "[Parallel(n_jobs=1)]: Using backend SequentialBackend with 1 concurrent workers.\n",
      "[Parallel(n_jobs=1)]: Done   2 out of   2 | elapsed:    0.1s finished\n"
     ]
    },
    {
     "name": "stdout",
     "output_type": "stream",
     "text": [
      "Fitting 2 folds for each of 1 candidates, totalling 2 fits\n"
     ]
    },
    {
     "name": "stderr",
     "output_type": "stream",
     "text": [
      "[Parallel(n_jobs=1)]: Using backend SequentialBackend with 1 concurrent workers.\n",
      "/home/tonia/uni/ml/Hyper-Parameter-Tuning/env/lib64/python3.6/site-packages/sklearn/neural_network/multilayer_perceptron.py:562: ConvergenceWarning: Stochastic Optimizer: Maximum iterations (200) reached and the optimization hasn't converged yet.\n",
      "  % self.max_iter, ConvergenceWarning)\n",
      "[Parallel(n_jobs=1)]: Done   2 out of   2 | elapsed:    0.1s finished\n"
     ]
    },
    {
     "name": "stdout",
     "output_type": "stream",
     "text": [
      "defaultdict(<class 'list'>, {'split0_test_score': [0.9433962264150944, 0.9622641509433962, 0.9433962264150944, 0.9245283018867925, 0.9433962264150944, 0.33962264150943394, 0.9245283018867925, 0.9622641509433962, 0.33962264150943394, 0.33962264150943394], 'split1_test_score': [0.9807692307692307, 0.9807692307692307, 0.9807692307692307, 0.9807692307692307, 0.9807692307692307, 0.9807692307692307, 0.9807692307692307, 1.0, 0.9807692307692307, 0.9807692307692307], 'mean_test_score': [0.9619047619047619, 0.9714285714285714, 0.9619047619047619, 0.9523809523809523, 0.9619047619047619, 0.6571428571428571, 0.9523809523809523, 0.9809523809523809, 0.6571428571428571, 0.6571428571428571], 'std_test_score': [0.018685654697434332, 0.009252120287079123, 0.018685654697434332, 0.02811918910778954, 0.018685654697434332, 0.3205587558288011, 0.02811918910778954, 0.018867068820710417, 0.3205587558288011, 0.3205587558288011], 'rank_test_score': [1, 1, 1, 1, 1, 1, 1, 1, 1, 1], 'mean_fit_time': [0.06531524658203125, 0.06928694248199463, 0.06660187244415283, 0.06847929954528809, 0.06817972660064697, 0.028763890266418457, 0.07561182975769043, 0.041132211685180664, 0.0319366455078125, 0.051786065101623535], 'std_fit_time': [0.006808042526245117, 0.008417248725891113, 0.005724310874938965, 0.011685848236083984, 0.008798956871032715, 0.02150142192840576, 0.009093284606933594, 0.03270292282104492, 0.02681565284729004, 0.04129159450531006], 'mean_score_time': [0.00027501583099365234, 0.0006115436553955078, 0.00027883052825927734, 0.0005936622619628906, 0.0004138946533203125, 0.0002835988998413086, 0.000308990478515625, 0.0007410049438476562, 0.00026237964630126953, 0.00043833255767822266], 'std_score_time': [5.125999450683594e-06, 0.0001914501190185547, 1.7881393432617188e-06, 0.0001347064971923828, 0.00010967254638671875, 2.849102020263672e-05, 2.6226043701171875e-05, 0.00040149688720703125, 7.748603820800781e-06, 6.783008575439453e-05], 'param_learning_rate': ['invscaling', 'invscaling', 'adaptive', 'adaptive', 'adaptive', 'invscaling', 'constant', 'invscaling', 'invscaling', 'invscaling'], 'param_learning_rate_init': [0.03461125475907215, 0.10539688107049817, 0.02405336412144078, 0.011348929883265874, 0.015900519901250878, 0.2850637340319685, 0.021820648331656534, 0.14672818776923163, 0.25163471408614674, 0.3307472377398445], 'params': [{'learning_rate': 'invscaling', 'learning_rate_init': 0.03461125475907215}, {'learning_rate': 'invscaling', 'learning_rate_init': 0.10539688107049817}, {'learning_rate': 'adaptive', 'learning_rate_init': 0.02405336412144078}, {'learning_rate': 'adaptive', 'learning_rate_init': 0.011348929883265874}, {'learning_rate': 'adaptive', 'learning_rate_init': 0.015900519901250878}, {'learning_rate': 'invscaling', 'learning_rate_init': 0.2850637340319685}, {'learning_rate': 'constant', 'learning_rate_init': 0.021820648331656534}, {'learning_rate': 'invscaling', 'learning_rate_init': 0.14672818776923163}, {'learning_rate': 'invscaling', 'learning_rate_init': 0.25163471408614674}, {'learning_rate': 'invscaling', 'learning_rate_init': 0.3307472377398445}]})\n"
     ]
    },
    {
     "name": "stderr",
     "output_type": "stream",
     "text": [
      "/home/tonia/uni/ml/Hyper-Parameter-Tuning/env/lib64/python3.6/site-packages/sklearn/utils/deprecation.py:125: FutureWarning: You are accessing a training score ('train_score'), which will not be available by default any more in 0.21. If you need training scores, please set return_train_score=True\n",
      "  warnings.warn(*warn_args, **warn_kwargs)\n",
      "/home/tonia/uni/ml/Hyper-Parameter-Tuning/env/lib64/python3.6/site-packages/sklearn/neural_network/multilayer_perceptron.py:562: ConvergenceWarning: Stochastic Optimizer: Maximum iterations (200) reached and the optimization hasn't converged yet.\n",
      "  % self.max_iter, ConvergenceWarning)\n",
      "/home/tonia/uni/ml/Hyper-Parameter-Tuning/env/lib64/python3.6/site-packages/sklearn/utils/deprecation.py:125: FutureWarning: You are accessing a training score ('train_score'), which will not be available by default any more in 0.21. If you need training scores, please set return_train_score=True\n",
      "  warnings.warn(*warn_args, **warn_kwargs)\n",
      "/home/tonia/uni/ml/Hyper-Parameter-Tuning/env/lib64/python3.6/site-packages/sklearn/utils/deprecation.py:125: FutureWarning: You are accessing a training score ('train_score'), which will not be available by default any more in 0.21. If you need training scores, please set return_train_score=True\n",
      "  warnings.warn(*warn_args, **warn_kwargs)\n",
      "/home/tonia/uni/ml/Hyper-Parameter-Tuning/env/lib64/python3.6/site-packages/sklearn/neural_network/multilayer_perceptron.py:562: ConvergenceWarning: Stochastic Optimizer: Maximum iterations (200) reached and the optimization hasn't converged yet.\n",
      "  % self.max_iter, ConvergenceWarning)\n",
      "/home/tonia/uni/ml/Hyper-Parameter-Tuning/env/lib64/python3.6/site-packages/sklearn/utils/deprecation.py:125: FutureWarning: You are accessing a training score ('train_score'), which will not be available by default any more in 0.21. If you need training scores, please set return_train_score=True\n",
      "  warnings.warn(*warn_args, **warn_kwargs)\n",
      "/home/tonia/uni/ml/Hyper-Parameter-Tuning/env/lib64/python3.6/site-packages/sklearn/utils/deprecation.py:125: FutureWarning: You are accessing a training score ('train_score'), which will not be available by default any more in 0.21. If you need training scores, please set return_train_score=True\n",
      "  warnings.warn(*warn_args, **warn_kwargs)\n",
      "/home/tonia/uni/ml/Hyper-Parameter-Tuning/env/lib64/python3.6/site-packages/sklearn/neural_network/multilayer_perceptron.py:562: ConvergenceWarning: Stochastic Optimizer: Maximum iterations (200) reached and the optimization hasn't converged yet.\n",
      "  % self.max_iter, ConvergenceWarning)\n",
      "/home/tonia/uni/ml/Hyper-Parameter-Tuning/env/lib64/python3.6/site-packages/sklearn/neural_network/multilayer_perceptron.py:562: ConvergenceWarning: Stochastic Optimizer: Maximum iterations (200) reached and the optimization hasn't converged yet.\n",
      "  % self.max_iter, ConvergenceWarning)\n",
      "/home/tonia/uni/ml/Hyper-Parameter-Tuning/env/lib64/python3.6/site-packages/sklearn/utils/deprecation.py:125: FutureWarning: You are accessing a training score ('train_score'), which will not be available by default any more in 0.21. If you need training scores, please set return_train_score=True\n",
      "  warnings.warn(*warn_args, **warn_kwargs)\n",
      "/home/tonia/uni/ml/Hyper-Parameter-Tuning/env/lib64/python3.6/site-packages/sklearn/neural_network/multilayer_perceptron.py:562: ConvergenceWarning: Stochastic Optimizer: Maximum iterations (200) reached and the optimization hasn't converged yet.\n",
      "  % self.max_iter, ConvergenceWarning)\n",
      "/home/tonia/uni/ml/Hyper-Parameter-Tuning/env/lib64/python3.6/site-packages/sklearn/utils/deprecation.py:125: FutureWarning: You are accessing a training score ('train_score'), which will not be available by default any more in 0.21. If you need training scores, please set return_train_score=True\n",
      "  warnings.warn(*warn_args, **warn_kwargs)\n",
      "/home/tonia/uni/ml/Hyper-Parameter-Tuning/env/lib64/python3.6/site-packages/sklearn/neural_network/multilayer_perceptron.py:562: ConvergenceWarning: Stochastic Optimizer: Maximum iterations (200) reached and the optimization hasn't converged yet.\n",
      "  % self.max_iter, ConvergenceWarning)\n",
      "/home/tonia/uni/ml/Hyper-Parameter-Tuning/env/lib64/python3.6/site-packages/sklearn/utils/deprecation.py:125: FutureWarning: You are accessing a training score ('train_score'), which will not be available by default any more in 0.21. If you need training scores, please set return_train_score=True\n",
      "  warnings.warn(*warn_args, **warn_kwargs)\n"
     ]
    },
    {
     "name": "stdout",
     "output_type": "stream",
     "text": [
      "{'mean_test_score': [0.34288824383164007, 0.9526487663280117, 0.9715166908563135, 0.9620827285921625, 0.5032656023222061, 0.9715166908563135, 0.9526487663280117, 0.9526487663280117, 0.9620827285921625, 0.9620827285921625], 'std_test_score': [0.0032656023222061015, 0.02812046444121913, 0.009252539912917246, 0.018686502177068187, 0.15711175616835993, 0.009252539912917246, 0.02812046444121913, 0.02812046444121913, 0.018686502177068187, 0.018686502177068187], 'mean_train_score': [0.34288824383164007, 0.9905660377358491, 0.9716981132075472, 0.9905660377358491, 0.4967343976777939, 0.9905660377358491, 1.0, 1.0, 1.0, 1.0], 'std_train_score': [0.0032656023222061015, 0.009433962264150941, 0.028301886792452824, 0.009433962264150941, 0.15711175616835996, 0.009433962264150941, 0.0, 0.0, 0.0, 0.0], 'mean_fit_time': [0.007435202598571777, 0.07104861736297607, 0.0632866621017456, 0.06555438041687012, 0.016185879707336426, 0.07919883728027344, 0.06617140769958496, 0.06902158260345459, 0.0763254165649414, 0.06307494640350342], 'std_fit_time': [0.00014030933380126953, 0.01290738582611084, 0.0066825151443481445, 0.0038416385650634766, 0.006658434867858887, 0.005885601043701172, 0.009638547897338867, 0.010547995567321777, 0.0054399967193603516, 0.010271668434143066], 'params': [{'learning_rate': 'adaptive', 'learning_rate_init': 0.5}, {'learning_rate': 'adaptive', 'learning_rate_init': 0.01}, {'learning_rate': 'constant', 'learning_rate_init': 0.3}, {'learning_rate': 'constant', 'learning_rate_init': 0.3}, {'learning_rate': 'adaptive', 'learning_rate_init': 0.5}, {'learning_rate': 'invscaling', 'learning_rate_init': 0.3}, {'learning_rate': 'invscaling', 'learning_rate_init': 0.01}, {'learning_rate': 'adaptive', 'learning_rate_init': 0.01}, {'learning_rate': 'invscaling', 'learning_rate_init': 0.01}, {'learning_rate': 'constant', 'learning_rate_init': 0.01}], 'params_learning_rate': ['adaptive', 'adaptive', 'constant', 'constant', 'adaptive', 'invscaling', 'invscaling', 'adaptive', 'invscaling', 'constant'], 'params_learning_rate_init': [0.5, 0.01, 0.3, 0.3, 0.5, 0.3, 0.01, 0.01, 0.01, 0.01], 'status': ['ok', 'ok', 'ok', 'ok', 'ok', 'ok', 'ok', 'ok', 'ok', 'ok'], 'loss': [0.34288824383164007, 0.9526487663280117, 0.9715166908563135, 0.9620827285921625, 0.5032656023222061, 0.9715166908563135, 0.9526487663280117, 0.9526487663280117, 0.9620827285921625, 0.9620827285921625]}\n"
     ]
    },
    {
     "name": "stderr",
     "output_type": "stream",
     "text": [
      "/home/tonia/uni/ml/Hyper-Parameter-Tuning/env/lib64/python3.6/site-packages/sklearn/neural_network/multilayer_perceptron.py:562: ConvergenceWarning: Stochastic Optimizer: Maximum iterations (200) reached and the optimization hasn't converged yet.\n",
      "  % self.max_iter, ConvergenceWarning)\n",
      "/home/tonia/uni/ml/Hyper-Parameter-Tuning/env/lib64/python3.6/site-packages/sklearn/utils/deprecation.py:125: FutureWarning: You are accessing a training score ('train_score'), which will not be available by default any more in 0.21. If you need training scores, please set return_train_score=True\n",
      "  warnings.warn(*warn_args, **warn_kwargs)\n",
      "/home/tonia/uni/ml/Hyper-Parameter-Tuning/env/lib64/python3.6/site-packages/sklearn/neural_network/multilayer_perceptron.py:562: ConvergenceWarning: Stochastic Optimizer: Maximum iterations (200) reached and the optimization hasn't converged yet.\n",
      "  % self.max_iter, ConvergenceWarning)\n",
      "/home/tonia/uni/ml/Hyper-Parameter-Tuning/env/lib64/python3.6/site-packages/sklearn/utils/deprecation.py:125: FutureWarning: You are accessing a training score ('train_score'), which will not be available by default any more in 0.21. If you need training scores, please set return_train_score=True\n",
      "  warnings.warn(*warn_args, **warn_kwargs)\n",
      "/home/tonia/uni/ml/Hyper-Parameter-Tuning/env/lib64/python3.6/site-packages/sklearn/utils/deprecation.py:125: FutureWarning: You are accessing a training score ('split0_train_score'), which will not be available by default any more in 0.21. If you need training scores, please set return_train_score=True\n",
      "  warnings.warn(*warn_args, **warn_kwargs)\n",
      "/home/tonia/uni/ml/Hyper-Parameter-Tuning/env/lib64/python3.6/site-packages/sklearn/utils/deprecation.py:125: FutureWarning: You are accessing a training score ('split1_train_score'), which will not be available by default any more in 0.21. If you need training scores, please set return_train_score=True\n",
      "  warnings.warn(*warn_args, **warn_kwargs)\n",
      "/home/tonia/uni/ml/Hyper-Parameter-Tuning/env/lib64/python3.6/site-packages/sklearn/utils/deprecation.py:125: FutureWarning: You are accessing a training score ('mean_train_score'), which will not be available by default any more in 0.21. If you need training scores, please set return_train_score=True\n",
      "  warnings.warn(*warn_args, **warn_kwargs)\n",
      "/home/tonia/uni/ml/Hyper-Parameter-Tuning/env/lib64/python3.6/site-packages/sklearn/utils/deprecation.py:125: FutureWarning: You are accessing a training score ('std_train_score'), which will not be available by default any more in 0.21. If you need training scores, please set return_train_score=True\n",
      "  warnings.warn(*warn_args, **warn_kwargs)\n"
     ]
    },
    {
     "data": {
      "text/plain": [
       "[{'method': 'Baseline',\n",
       "  'data': {'mean_test_score': [0.9526487663280117],\n",
       "   'std_test_score': [0.02812046444121913],\n",
       "   'mean_train_score': [0.9905660377358491],\n",
       "   'std_train_score': [0.009433962264150941],\n",
       "   'mean_fit_time': [0.07935976982116699],\n",
       "   'std_fit_time': [0.0020797252655029297],\n",
       "   'params': [{'learning_rate': 'adaptive', 'learning_rate_init': 0.01}],\n",
       "   'params_learning_rate': ['adaptive'],\n",
       "   'params_learning_rate_init': [0.01],\n",
       "   'status': ['ok'],\n",
       "   'loss': [0.9526487663280117]},\n",
       "  'best_params': {'learning_rate': 'adaptive', 'learning_rate_init': 0.01},\n",
       "  'conf_matrix': array([[14,  0,  0],\n",
       "         [ 0, 16,  1],\n",
       "         [ 0,  0, 14]])},\n",
       " {'method': 'Grid Search',\n",
       "  'data': {'mean_fit_time': array([0.07253575, 0.04249561, 0.00782228, 0.06339574, 0.06072438,\n",
       "          0.02228165, 0.06470346, 0.03553605, 0.0063262 ]),\n",
       "   'std_fit_time': array([9.37294960e-03, 3.52483988e-02, 5.14984131e-05, 1.14727020e-02,\n",
       "          2.11890936e-02, 1.44541264e-02, 1.11596584e-02, 1.99382305e-02,\n",
       "          1.47819519e-03]),\n",
       "   'mean_score_time': array([0.00029016, 0.00049758, 0.00025821, 0.00039077, 0.0005914 ,\n",
       "          0.00026798, 0.00045156, 0.00038517, 0.00027931]),\n",
       "   'std_score_time': array([6.91413879e-06, 2.55584717e-04, 1.31130219e-05, 1.03950500e-04,\n",
       "          2.74777412e-04, 4.05311584e-06, 1.26361847e-05, 5.85317612e-05,\n",
       "          2.46763229e-05]),\n",
       "   'param_learning_rate': masked_array(data=['constant', 'constant', 'constant', 'invscaling',\n",
       "                      'invscaling', 'invscaling', 'adaptive', 'adaptive',\n",
       "                      'adaptive'],\n",
       "                mask=[False, False, False, False, False, False, False, False,\n",
       "                      False],\n",
       "          fill_value='?',\n",
       "               dtype=object),\n",
       "   'param_learning_rate_init': masked_array(data=[0.01, 0.3, 0.5, 0.01, 0.3, 0.5, 0.01, 0.3, 0.5],\n",
       "                mask=[False, False, False, False, False, False, False, False,\n",
       "                      False],\n",
       "          fill_value='?',\n",
       "               dtype=object),\n",
       "   'params': [{'learning_rate': 'constant', 'learning_rate_init': 0.01},\n",
       "    {'learning_rate': 'constant', 'learning_rate_init': 0.3},\n",
       "    {'learning_rate': 'constant', 'learning_rate_init': 0.5},\n",
       "    {'learning_rate': 'invscaling', 'learning_rate_init': 0.01},\n",
       "    {'learning_rate': 'invscaling', 'learning_rate_init': 0.3},\n",
       "    {'learning_rate': 'invscaling', 'learning_rate_init': 0.5},\n",
       "    {'learning_rate': 'adaptive', 'learning_rate_init': 0.01},\n",
       "    {'learning_rate': 'adaptive', 'learning_rate_init': 0.3},\n",
       "    {'learning_rate': 'adaptive', 'learning_rate_init': 0.5}],\n",
       "   'split0_test_score': array([0.94339623, 0.9245283 , 0.33962264, 0.9245283 , 0.96226415,\n",
       "          0.33962264, 0.9245283 , 0.94339623, 0.54716981]),\n",
       "   'split1_test_score': array([0.98076923, 0.69230769, 0.34615385, 0.98076923, 0.98076923,\n",
       "          0.65384615, 0.98076923, 0.65384615, 0.69230769]),\n",
       "   'mean_test_score': array([0.96190476, 0.80952381, 0.34285714, 0.95238095, 0.97142857,\n",
       "          0.4952381 , 0.95238095, 0.8       , 0.61904762]),\n",
       "   'std_test_score': array([0.01868565, 0.11610504, 0.00326545, 0.02811919, 0.00925212,\n",
       "          0.15710463, 0.02811919, 0.14476847, 0.07256565]),\n",
       "   'rank_test_score': array([2, 5, 9, 3, 1, 8, 3, 6, 7], dtype=int32),\n",
       "   'split0_train_score': array([1.        , 1.        , 0.34615385, 1.        , 1.        ,\n",
       "          0.34615385, 1.        , 1.        , 0.55769231]),\n",
       "   'split1_train_score': array([0.98113208, 0.67924528, 0.33962264, 1.        , 0.98113208,\n",
       "          0.64150943, 0.98113208, 0.66037736, 0.67924528]),\n",
       "   'mean_train_score': array([0.99056604, 0.83962264, 0.34288824, 1.        , 0.99056604,\n",
       "          0.49383164, 0.99056604, 0.83018868, 0.6184688 ]),\n",
       "   'std_train_score': array([0.00943396, 0.16037736, 0.0032656 , 0.        , 0.00943396,\n",
       "          0.14767779, 0.00943396, 0.16981132, 0.06077649])},\n",
       "  'best_params': {'learning_rate': 'invscaling', 'learning_rate_init': 0.3},\n",
       "  'conf_matrix': array([[14,  0,  0],\n",
       "         [ 0, 16,  1],\n",
       "         [ 0,  0, 14]])},\n",
       " {'method': 'Random Search',\n",
       "  'data': {'mean_fit_time': array([0.07098377, 0.05077744, 0.00580907, 0.07902896, 0.01897049,\n",
       "          0.04965055, 0.07567167, 0.05883265, 0.00771296]),\n",
       "   'std_fit_time': array([0.01436412, 0.01195598, 0.00108671, 0.01004875, 0.00530529,\n",
       "          0.03656042, 0.01696658, 0.01184797, 0.0009836 ]),\n",
       "   'mean_score_time': array([0.0022105 , 0.0003022 , 0.00028419, 0.00045598, 0.00031364,\n",
       "          0.00040424, 0.00064898, 0.00037873, 0.00028765]),\n",
       "   'std_score_time': array([1.92701817e-03, 2.72989273e-05, 2.19345093e-05, 1.65820122e-04,\n",
       "          1.82390213e-05, 3.73125076e-05, 1.26838684e-04, 8.97645950e-05,\n",
       "          2.41994858e-05]),\n",
       "   'param_learning_rate_init': masked_array(data=[0.01, 0.3, 0.5, 0.01, 0.3, 0.5, 0.01, 0.3, 0.5],\n",
       "                mask=[False, False, False, False, False, False, False, False,\n",
       "                      False],\n",
       "          fill_value='?',\n",
       "               dtype=object),\n",
       "   'param_learning_rate': masked_array(data=['constant', 'constant', 'constant', 'invscaling',\n",
       "                      'invscaling', 'invscaling', 'adaptive', 'adaptive',\n",
       "                      'adaptive'],\n",
       "                mask=[False, False, False, False, False, False, False, False,\n",
       "                      False],\n",
       "          fill_value='?',\n",
       "               dtype=object),\n",
       "   'params': [{'learning_rate_init': 0.01, 'learning_rate': 'constant'},\n",
       "    {'learning_rate_init': 0.3, 'learning_rate': 'constant'},\n",
       "    {'learning_rate_init': 0.5, 'learning_rate': 'constant'},\n",
       "    {'learning_rate_init': 0.01, 'learning_rate': 'invscaling'},\n",
       "    {'learning_rate_init': 0.3, 'learning_rate': 'invscaling'},\n",
       "    {'learning_rate_init': 0.5, 'learning_rate': 'invscaling'},\n",
       "    {'learning_rate_init': 0.01, 'learning_rate': 'adaptive'},\n",
       "    {'learning_rate_init': 0.3, 'learning_rate': 'adaptive'},\n",
       "    {'learning_rate_init': 0.5, 'learning_rate': 'adaptive'}],\n",
       "   'split0_test_score': array([0.9245283 , 0.96226415, 0.32075472, 0.94339623, 0.67924528,\n",
       "          0.9245283 , 0.94339623, 0.96226415, 0.33962264]),\n",
       "   'split1_test_score': array([0.98076923, 0.90384615, 0.30769231, 0.98076923, 0.34615385,\n",
       "          0.30769231, 0.98076923, 0.98076923, 0.30769231]),\n",
       "   'mean_test_score': array([0.95238095, 0.93333333, 0.31428571, 0.96190476, 0.51428571,\n",
       "          0.61904762, 0.96190476, 0.97142857, 0.32380952]),\n",
       "   'std_test_score': array([0.02811919, 0.02920767, 0.00653091, 0.01868565, 0.16653817,\n",
       "          0.30840401, 0.01868565, 0.00925212, 0.01596444]),\n",
       "   'rank_test_score': array([4, 5, 9, 2, 7, 6, 2, 1, 8], dtype=int32),\n",
       "   'split0_train_score': array([1.        , 1.        , 0.30769231, 1.        , 0.69230769,\n",
       "          1.        , 1.        , 1.        , 0.34615385]),\n",
       "   'split1_train_score': array([1.        , 0.73584906, 0.32075472, 0.98113208, 0.33962264,\n",
       "          0.33962264, 1.        , 0.98113208, 0.32075472]),\n",
       "   'mean_train_score': array([1.        , 0.86792453, 0.31422351, 0.99056604, 0.51596517,\n",
       "          0.66981132, 1.        , 0.99056604, 0.33345428]),\n",
       "   'std_train_score': array([0.        , 0.13207547, 0.0065312 , 0.00943396, 0.17634253,\n",
       "          0.33018868, 0.        , 0.00943396, 0.01269956])},\n",
       "  'best_params': {'learning_rate_init': 0.3, 'learning_rate': 'adaptive'},\n",
       "  'conf_matrix': array([[14,  0,  0],\n",
       "         [ 0, 16,  1],\n",
       "         [ 0,  0, 14]])},\n",
       " {'method': 'Bayes Seach',\n",
       "  'data': defaultdict(list,\n",
       "              {'split0_test_score': [0.9433962264150944,\n",
       "                0.9622641509433962,\n",
       "                0.9433962264150944,\n",
       "                0.9245283018867925,\n",
       "                0.9433962264150944,\n",
       "                0.33962264150943394,\n",
       "                0.9245283018867925,\n",
       "                0.9622641509433962,\n",
       "                0.33962264150943394,\n",
       "                0.33962264150943394],\n",
       "               'split1_test_score': [0.9807692307692307,\n",
       "                0.9807692307692307,\n",
       "                0.9807692307692307,\n",
       "                0.9807692307692307,\n",
       "                0.9807692307692307,\n",
       "                0.9807692307692307,\n",
       "                0.9807692307692307,\n",
       "                1.0,\n",
       "                0.9807692307692307,\n",
       "                0.9807692307692307],\n",
       "               'mean_test_score': [0.9619047619047619,\n",
       "                0.9714285714285714,\n",
       "                0.9619047619047619,\n",
       "                0.9523809523809523,\n",
       "                0.9619047619047619,\n",
       "                0.6571428571428571,\n",
       "                0.9523809523809523,\n",
       "                0.9809523809523809,\n",
       "                0.6571428571428571,\n",
       "                0.6571428571428571],\n",
       "               'std_test_score': [0.018685654697434332,\n",
       "                0.009252120287079123,\n",
       "                0.018685654697434332,\n",
       "                0.02811918910778954,\n",
       "                0.018685654697434332,\n",
       "                0.3205587558288011,\n",
       "                0.02811918910778954,\n",
       "                0.018867068820710417,\n",
       "                0.3205587558288011,\n",
       "                0.3205587558288011],\n",
       "               'rank_test_score': [1, 1, 1, 1, 1, 1, 1, 1, 1, 1],\n",
       "               'mean_fit_time': [0.06531524658203125,\n",
       "                0.06928694248199463,\n",
       "                0.06660187244415283,\n",
       "                0.06847929954528809,\n",
       "                0.06817972660064697,\n",
       "                0.028763890266418457,\n",
       "                0.07561182975769043,\n",
       "                0.041132211685180664,\n",
       "                0.0319366455078125,\n",
       "                0.051786065101623535],\n",
       "               'std_fit_time': [0.006808042526245117,\n",
       "                0.008417248725891113,\n",
       "                0.005724310874938965,\n",
       "                0.011685848236083984,\n",
       "                0.008798956871032715,\n",
       "                0.02150142192840576,\n",
       "                0.009093284606933594,\n",
       "                0.03270292282104492,\n",
       "                0.02681565284729004,\n",
       "                0.04129159450531006],\n",
       "               'mean_score_time': [0.00027501583099365234,\n",
       "                0.0006115436553955078,\n",
       "                0.00027883052825927734,\n",
       "                0.0005936622619628906,\n",
       "                0.0004138946533203125,\n",
       "                0.0002835988998413086,\n",
       "                0.000308990478515625,\n",
       "                0.0007410049438476562,\n",
       "                0.00026237964630126953,\n",
       "                0.00043833255767822266],\n",
       "               'std_score_time': [5.125999450683594e-06,\n",
       "                0.0001914501190185547,\n",
       "                1.7881393432617188e-06,\n",
       "                0.0001347064971923828,\n",
       "                0.00010967254638671875,\n",
       "                2.849102020263672e-05,\n",
       "                2.6226043701171875e-05,\n",
       "                0.00040149688720703125,\n",
       "                7.748603820800781e-06,\n",
       "                6.783008575439453e-05],\n",
       "               'param_learning_rate': ['invscaling',\n",
       "                'invscaling',\n",
       "                'adaptive',\n",
       "                'adaptive',\n",
       "                'adaptive',\n",
       "                'invscaling',\n",
       "                'constant',\n",
       "                'invscaling',\n",
       "                'invscaling',\n",
       "                'invscaling'],\n",
       "               'param_learning_rate_init': [0.03461125475907215,\n",
       "                0.10539688107049817,\n",
       "                0.02405336412144078,\n",
       "                0.011348929883265874,\n",
       "                0.015900519901250878,\n",
       "                0.2850637340319685,\n",
       "                0.021820648331656534,\n",
       "                0.14672818776923163,\n",
       "                0.25163471408614674,\n",
       "                0.3307472377398445],\n",
       "               'params': [{'learning_rate': 'invscaling',\n",
       "                 'learning_rate_init': 0.03461125475907215},\n",
       "                {'learning_rate': 'invscaling',\n",
       "                 'learning_rate_init': 0.10539688107049817},\n",
       "                {'learning_rate': 'adaptive',\n",
       "                 'learning_rate_init': 0.02405336412144078},\n",
       "                {'learning_rate': 'adaptive',\n",
       "                 'learning_rate_init': 0.011348929883265874},\n",
       "                {'learning_rate': 'adaptive',\n",
       "                 'learning_rate_init': 0.015900519901250878},\n",
       "                {'learning_rate': 'invscaling',\n",
       "                 'learning_rate_init': 0.2850637340319685},\n",
       "                {'learning_rate': 'constant',\n",
       "                 'learning_rate_init': 0.021820648331656534},\n",
       "                {'learning_rate': 'invscaling',\n",
       "                 'learning_rate_init': 0.14672818776923163},\n",
       "                {'learning_rate': 'invscaling',\n",
       "                 'learning_rate_init': 0.25163471408614674},\n",
       "                {'learning_rate': 'invscaling',\n",
       "                 'learning_rate_init': 0.3307472377398445}]}),\n",
       "  'best_params': {'learning_rate': 'invscaling',\n",
       "   'learning_rate_init': 0.14672818776923163},\n",
       "  'conf_matrix': array([[14,  0,  0],\n",
       "         [ 0, 16,  1],\n",
       "         [ 0,  1, 13]])},\n",
       " {'method': 'Tree of Parzen Est.',\n",
       "  'data': {'mean_test_score': [0.34288824383164007,\n",
       "    0.9526487663280117,\n",
       "    0.9715166908563135,\n",
       "    0.9620827285921625,\n",
       "    0.5032656023222061,\n",
       "    0.9715166908563135,\n",
       "    0.9526487663280117,\n",
       "    0.9526487663280117,\n",
       "    0.9620827285921625,\n",
       "    0.9620827285921625],\n",
       "   'std_test_score': [0.0032656023222061015,\n",
       "    0.02812046444121913,\n",
       "    0.009252539912917246,\n",
       "    0.018686502177068187,\n",
       "    0.15711175616835993,\n",
       "    0.009252539912917246,\n",
       "    0.02812046444121913,\n",
       "    0.02812046444121913,\n",
       "    0.018686502177068187,\n",
       "    0.018686502177068187],\n",
       "   'mean_train_score': [0.34288824383164007,\n",
       "    0.9905660377358491,\n",
       "    0.9716981132075472,\n",
       "    0.9905660377358491,\n",
       "    0.4967343976777939,\n",
       "    0.9905660377358491,\n",
       "    1.0,\n",
       "    1.0,\n",
       "    1.0,\n",
       "    1.0],\n",
       "   'std_train_score': [0.0032656023222061015,\n",
       "    0.009433962264150941,\n",
       "    0.028301886792452824,\n",
       "    0.009433962264150941,\n",
       "    0.15711175616835996,\n",
       "    0.009433962264150941,\n",
       "    0.0,\n",
       "    0.0,\n",
       "    0.0,\n",
       "    0.0],\n",
       "   'mean_fit_time': [0.007435202598571777,\n",
       "    0.07104861736297607,\n",
       "    0.0632866621017456,\n",
       "    0.06555438041687012,\n",
       "    0.016185879707336426,\n",
       "    0.07919883728027344,\n",
       "    0.06617140769958496,\n",
       "    0.06902158260345459,\n",
       "    0.0763254165649414,\n",
       "    0.06307494640350342],\n",
       "   'std_fit_time': [0.00014030933380126953,\n",
       "    0.01290738582611084,\n",
       "    0.0066825151443481445,\n",
       "    0.0038416385650634766,\n",
       "    0.006658434867858887,\n",
       "    0.005885601043701172,\n",
       "    0.009638547897338867,\n",
       "    0.010547995567321777,\n",
       "    0.0054399967193603516,\n",
       "    0.010271668434143066],\n",
       "   'params': [{'learning_rate': 'adaptive', 'learning_rate_init': 0.5},\n",
       "    {'learning_rate': 'adaptive', 'learning_rate_init': 0.01},\n",
       "    {'learning_rate': 'constant', 'learning_rate_init': 0.3},\n",
       "    {'learning_rate': 'constant', 'learning_rate_init': 0.3},\n",
       "    {'learning_rate': 'adaptive', 'learning_rate_init': 0.5},\n",
       "    {'learning_rate': 'invscaling', 'learning_rate_init': 0.3},\n",
       "    {'learning_rate': 'invscaling', 'learning_rate_init': 0.01},\n",
       "    {'learning_rate': 'adaptive', 'learning_rate_init': 0.01},\n",
       "    {'learning_rate': 'invscaling', 'learning_rate_init': 0.01},\n",
       "    {'learning_rate': 'constant', 'learning_rate_init': 0.01}],\n",
       "   'params_learning_rate': ['adaptive',\n",
       "    'adaptive',\n",
       "    'constant',\n",
       "    'constant',\n",
       "    'adaptive',\n",
       "    'invscaling',\n",
       "    'invscaling',\n",
       "    'adaptive',\n",
       "    'invscaling',\n",
       "    'constant'],\n",
       "   'params_learning_rate_init': [0.5,\n",
       "    0.01,\n",
       "    0.3,\n",
       "    0.3,\n",
       "    0.5,\n",
       "    0.3,\n",
       "    0.01,\n",
       "    0.01,\n",
       "    0.01,\n",
       "    0.01],\n",
       "   'status': ['ok', 'ok', 'ok', 'ok', 'ok', 'ok', 'ok', 'ok', 'ok', 'ok'],\n",
       "   'loss': [0.34288824383164007,\n",
       "    0.9526487663280117,\n",
       "    0.9715166908563135,\n",
       "    0.9620827285921625,\n",
       "    0.5032656023222061,\n",
       "    0.9715166908563135,\n",
       "    0.9526487663280117,\n",
       "    0.9526487663280117,\n",
       "    0.9620827285921625,\n",
       "    0.9620827285921625]},\n",
       "  'best_params': {'learning_rate': 'constant', 'learning_rate_init': 0.3},\n",
       "  'conf_matrix': array([[14,  0,  0],\n",
       "         [ 0,  3, 14],\n",
       "         [ 0,  0, 14]])}]"
      ]
     },
     "execution_count": 15,
     "metadata": {},
     "output_type": "execute_result"
    }
   ],
   "source": [
    "\n",
    "\n",
    "res = cmp_hpt_methods(iris, **mlpc)\n",
    "res"
   ]
  },
  {
   "cell_type": "code",
   "execution_count": 22,
   "metadata": {},
   "outputs": [
    {
     "name": "stdout",
     "output_type": "stream",
     "text": [
      "[0, 1, 2, 3, 4, 5, 6, 7, 8]\n"
     ]
    },
    {
     "data": {
      "text/plain": [
       "{'method': 'Grid Search',\n",
       " 'data': {'mean_fit_time': array([0.07253575, 0.04249561, 0.00782228, 0.06339574, 0.06072438,\n",
       "         0.02228165, 0.06470346, 0.03553605, 0.0063262 ]),\n",
       "  'std_fit_time': array([9.37294960e-03, 3.52483988e-02, 5.14984131e-05, 1.14727020e-02,\n",
       "         2.11890936e-02, 1.44541264e-02, 1.11596584e-02, 1.99382305e-02,\n",
       "         1.47819519e-03]),\n",
       "  'mean_score_time': array([0.00029016, 0.00049758, 0.00025821, 0.00039077, 0.0005914 ,\n",
       "         0.00026798, 0.00045156, 0.00038517, 0.00027931]),\n",
       "  'std_score_time': array([6.91413879e-06, 2.55584717e-04, 1.31130219e-05, 1.03950500e-04,\n",
       "         2.74777412e-04, 4.05311584e-06, 1.26361847e-05, 5.85317612e-05,\n",
       "         2.46763229e-05]),\n",
       "  'param_learning_rate': masked_array(data=['constant', 'constant', 'constant', 'invscaling',\n",
       "                     'invscaling', 'invscaling', 'adaptive', 'adaptive',\n",
       "                     'adaptive'],\n",
       "               mask=[False, False, False, False, False, False, False, False,\n",
       "                     False],\n",
       "         fill_value='?',\n",
       "              dtype=object),\n",
       "  'param_learning_rate_init': masked_array(data=[0.01, 0.3, 0.5, 0.01, 0.3, 0.5, 0.01, 0.3, 0.5],\n",
       "               mask=[False, False, False, False, False, False, False, False,\n",
       "                     False],\n",
       "         fill_value='?',\n",
       "              dtype=object),\n",
       "  'params': [{'learning_rate': 'constant', 'learning_rate_init': 0.01},\n",
       "   {'learning_rate': 'constant', 'learning_rate_init': 0.3},\n",
       "   {'learning_rate': 'constant', 'learning_rate_init': 0.5},\n",
       "   {'learning_rate': 'invscaling', 'learning_rate_init': 0.01},\n",
       "   {'learning_rate': 'invscaling', 'learning_rate_init': 0.3},\n",
       "   {'learning_rate': 'invscaling', 'learning_rate_init': 0.5},\n",
       "   {'learning_rate': 'adaptive', 'learning_rate_init': 0.01},\n",
       "   {'learning_rate': 'adaptive', 'learning_rate_init': 0.3},\n",
       "   {'learning_rate': 'adaptive', 'learning_rate_init': 0.5}],\n",
       "  'split0_test_score': array([0.94339623, 0.9245283 , 0.33962264, 0.9245283 , 0.96226415,\n",
       "         0.33962264, 0.9245283 , 0.94339623, 0.54716981]),\n",
       "  'split1_test_score': array([0.98076923, 0.69230769, 0.34615385, 0.98076923, 0.98076923,\n",
       "         0.65384615, 0.98076923, 0.65384615, 0.69230769]),\n",
       "  'mean_test_score': array([0.96190476, 0.80952381, 0.34285714, 0.95238095, 0.97142857,\n",
       "         0.4952381 , 0.95238095, 0.8       , 0.61904762]),\n",
       "  'std_test_score': array([0.01868565, 0.11610504, 0.00326545, 0.02811919, 0.00925212,\n",
       "         0.15710463, 0.02811919, 0.14476847, 0.07256565]),\n",
       "  'rank_test_score': array([2, 5, 9, 3, 1, 8, 3, 6, 7], dtype=int32),\n",
       "  'split0_train_score': array([1.        , 1.        , 0.34615385, 1.        , 1.        ,\n",
       "         0.34615385, 1.        , 1.        , 0.55769231]),\n",
       "  'split1_train_score': array([0.98113208, 0.67924528, 0.33962264, 1.        , 0.98113208,\n",
       "         0.64150943, 0.98113208, 0.66037736, 0.67924528]),\n",
       "  'mean_train_score': array([0.99056604, 0.83962264, 0.34288824, 1.        , 0.99056604,\n",
       "         0.49383164, 0.99056604, 0.83018868, 0.6184688 ]),\n",
       "  'std_train_score': array([0.00943396, 0.16037736, 0.0032656 , 0.        , 0.00943396,\n",
       "         0.14767779, 0.00943396, 0.16981132, 0.06077649])},\n",
       " 'best_params': {'learning_rate': 'invscaling', 'learning_rate_init': 0.3},\n",
       " 'conf_matrix': array([[14,  0,  0],\n",
       "        [ 0, 16,  1],\n",
       "        [ 0,  0, 14]])}"
      ]
     },
     "execution_count": 22,
     "metadata": {},
     "output_type": "execute_result"
    }
   ],
   "source": [
    "methods = []\n",
    "dfs = {}\n",
    "\n",
    "for data in res:\n",
    "    methods.append(data['method'])\n",
    "    dfs[data['method']]=(pd.DataFrame(data['data']))\n",
    "df = pd.DataFrame(res[2]['data']).sort_values(by=['mean_test_score'], ascending=False)\n",
    "l = [i for i in range(len(df.index))]\n",
    "print(l)\n",
    "df.set_index([l, 'mean_test_score'])\n",
    "\n",
    "# i =np.argmax()\n",
    "# res[1]['data']['params'][i]\n",
    "res[1]"
   ]
  },
  {
   "cell_type": "code",
   "execution_count": null,
   "metadata": {
    "collapsed": true
   },
   "outputs": [],
   "source": []
  },
  {
   "cell_type": "code",
   "execution_count": 21,
   "metadata": {},
   "outputs": [
    {
     "data": {
      "text/html": [
       "<div>\n",
       "<style scoped>\n",
       "    .dataframe tbody tr th:only-of-type {\n",
       "        vertical-align: middle;\n",
       "    }\n",
       "\n",
       "    .dataframe tbody tr th {\n",
       "        vertical-align: top;\n",
       "    }\n",
       "\n",
       "    .dataframe thead th {\n",
       "        text-align: right;\n",
       "    }\n",
       "</style>\n",
       "<table border=\"1\" class=\"dataframe\">\n",
       "  <thead>\n",
       "    <tr style=\"text-align: right;\">\n",
       "      <th></th>\n",
       "      <th>mean_test_score</th>\n",
       "      <th>std_test_score</th>\n",
       "      <th>mean_train_score</th>\n",
       "      <th>std_train_score</th>\n",
       "      <th>mean_fit_time</th>\n",
       "      <th>std_fit_time</th>\n",
       "      <th>params</th>\n",
       "      <th>params_learning_rate</th>\n",
       "      <th>params_learning_rate_init</th>\n",
       "      <th>status</th>\n",
       "      <th>loss</th>\n",
       "    </tr>\n",
       "  </thead>\n",
       "  <tbody>\n",
       "    <tr>\n",
       "      <th>0</th>\n",
       "      <td>0.342888</td>\n",
       "      <td>0.003266</td>\n",
       "      <td>0.342888</td>\n",
       "      <td>0.003266</td>\n",
       "      <td>0.007435</td>\n",
       "      <td>0.000140</td>\n",
       "      <td>{'learning_rate': 'adaptive', 'learning_rate_i...</td>\n",
       "      <td>adaptive</td>\n",
       "      <td>0.50</td>\n",
       "      <td>ok</td>\n",
       "      <td>0.342888</td>\n",
       "    </tr>\n",
       "    <tr>\n",
       "      <th>1</th>\n",
       "      <td>0.952649</td>\n",
       "      <td>0.028120</td>\n",
       "      <td>0.990566</td>\n",
       "      <td>0.009434</td>\n",
       "      <td>0.071049</td>\n",
       "      <td>0.012907</td>\n",
       "      <td>{'learning_rate': 'adaptive', 'learning_rate_i...</td>\n",
       "      <td>adaptive</td>\n",
       "      <td>0.01</td>\n",
       "      <td>ok</td>\n",
       "      <td>0.952649</td>\n",
       "    </tr>\n",
       "    <tr>\n",
       "      <th>2</th>\n",
       "      <td>0.971517</td>\n",
       "      <td>0.009253</td>\n",
       "      <td>0.971698</td>\n",
       "      <td>0.028302</td>\n",
       "      <td>0.063287</td>\n",
       "      <td>0.006683</td>\n",
       "      <td>{'learning_rate': 'constant', 'learning_rate_i...</td>\n",
       "      <td>constant</td>\n",
       "      <td>0.30</td>\n",
       "      <td>ok</td>\n",
       "      <td>0.971517</td>\n",
       "    </tr>\n",
       "    <tr>\n",
       "      <th>3</th>\n",
       "      <td>0.962083</td>\n",
       "      <td>0.018687</td>\n",
       "      <td>0.990566</td>\n",
       "      <td>0.009434</td>\n",
       "      <td>0.065554</td>\n",
       "      <td>0.003842</td>\n",
       "      <td>{'learning_rate': 'constant', 'learning_rate_i...</td>\n",
       "      <td>constant</td>\n",
       "      <td>0.30</td>\n",
       "      <td>ok</td>\n",
       "      <td>0.962083</td>\n",
       "    </tr>\n",
       "    <tr>\n",
       "      <th>4</th>\n",
       "      <td>0.503266</td>\n",
       "      <td>0.157112</td>\n",
       "      <td>0.496734</td>\n",
       "      <td>0.157112</td>\n",
       "      <td>0.016186</td>\n",
       "      <td>0.006658</td>\n",
       "      <td>{'learning_rate': 'adaptive', 'learning_rate_i...</td>\n",
       "      <td>adaptive</td>\n",
       "      <td>0.50</td>\n",
       "      <td>ok</td>\n",
       "      <td>0.503266</td>\n",
       "    </tr>\n",
       "    <tr>\n",
       "      <th>5</th>\n",
       "      <td>0.971517</td>\n",
       "      <td>0.009253</td>\n",
       "      <td>0.990566</td>\n",
       "      <td>0.009434</td>\n",
       "      <td>0.079199</td>\n",
       "      <td>0.005886</td>\n",
       "      <td>{'learning_rate': 'invscaling', 'learning_rate...</td>\n",
       "      <td>invscaling</td>\n",
       "      <td>0.30</td>\n",
       "      <td>ok</td>\n",
       "      <td>0.971517</td>\n",
       "    </tr>\n",
       "    <tr>\n",
       "      <th>6</th>\n",
       "      <td>0.952649</td>\n",
       "      <td>0.028120</td>\n",
       "      <td>1.000000</td>\n",
       "      <td>0.000000</td>\n",
       "      <td>0.066171</td>\n",
       "      <td>0.009639</td>\n",
       "      <td>{'learning_rate': 'invscaling', 'learning_rate...</td>\n",
       "      <td>invscaling</td>\n",
       "      <td>0.01</td>\n",
       "      <td>ok</td>\n",
       "      <td>0.952649</td>\n",
       "    </tr>\n",
       "    <tr>\n",
       "      <th>7</th>\n",
       "      <td>0.952649</td>\n",
       "      <td>0.028120</td>\n",
       "      <td>1.000000</td>\n",
       "      <td>0.000000</td>\n",
       "      <td>0.069022</td>\n",
       "      <td>0.010548</td>\n",
       "      <td>{'learning_rate': 'adaptive', 'learning_rate_i...</td>\n",
       "      <td>adaptive</td>\n",
       "      <td>0.01</td>\n",
       "      <td>ok</td>\n",
       "      <td>0.952649</td>\n",
       "    </tr>\n",
       "    <tr>\n",
       "      <th>8</th>\n",
       "      <td>0.962083</td>\n",
       "      <td>0.018687</td>\n",
       "      <td>1.000000</td>\n",
       "      <td>0.000000</td>\n",
       "      <td>0.076325</td>\n",
       "      <td>0.005440</td>\n",
       "      <td>{'learning_rate': 'invscaling', 'learning_rate...</td>\n",
       "      <td>invscaling</td>\n",
       "      <td>0.01</td>\n",
       "      <td>ok</td>\n",
       "      <td>0.962083</td>\n",
       "    </tr>\n",
       "    <tr>\n",
       "      <th>9</th>\n",
       "      <td>0.962083</td>\n",
       "      <td>0.018687</td>\n",
       "      <td>1.000000</td>\n",
       "      <td>0.000000</td>\n",
       "      <td>0.063075</td>\n",
       "      <td>0.010272</td>\n",
       "      <td>{'learning_rate': 'constant', 'learning_rate_i...</td>\n",
       "      <td>constant</td>\n",
       "      <td>0.01</td>\n",
       "      <td>ok</td>\n",
       "      <td>0.962083</td>\n",
       "    </tr>\n",
       "  </tbody>\n",
       "</table>\n",
       "</div>"
      ],
      "text/plain": [
       "   mean_test_score  std_test_score  mean_train_score  std_train_score  \\\n",
       "0         0.342888        0.003266          0.342888         0.003266   \n",
       "1         0.952649        0.028120          0.990566         0.009434   \n",
       "2         0.971517        0.009253          0.971698         0.028302   \n",
       "3         0.962083        0.018687          0.990566         0.009434   \n",
       "4         0.503266        0.157112          0.496734         0.157112   \n",
       "5         0.971517        0.009253          0.990566         0.009434   \n",
       "6         0.952649        0.028120          1.000000         0.000000   \n",
       "7         0.952649        0.028120          1.000000         0.000000   \n",
       "8         0.962083        0.018687          1.000000         0.000000   \n",
       "9         0.962083        0.018687          1.000000         0.000000   \n",
       "\n",
       "   mean_fit_time  std_fit_time  \\\n",
       "0       0.007435      0.000140   \n",
       "1       0.071049      0.012907   \n",
       "2       0.063287      0.006683   \n",
       "3       0.065554      0.003842   \n",
       "4       0.016186      0.006658   \n",
       "5       0.079199      0.005886   \n",
       "6       0.066171      0.009639   \n",
       "7       0.069022      0.010548   \n",
       "8       0.076325      0.005440   \n",
       "9       0.063075      0.010272   \n",
       "\n",
       "                                              params params_learning_rate  \\\n",
       "0  {'learning_rate': 'adaptive', 'learning_rate_i...             adaptive   \n",
       "1  {'learning_rate': 'adaptive', 'learning_rate_i...             adaptive   \n",
       "2  {'learning_rate': 'constant', 'learning_rate_i...             constant   \n",
       "3  {'learning_rate': 'constant', 'learning_rate_i...             constant   \n",
       "4  {'learning_rate': 'adaptive', 'learning_rate_i...             adaptive   \n",
       "5  {'learning_rate': 'invscaling', 'learning_rate...           invscaling   \n",
       "6  {'learning_rate': 'invscaling', 'learning_rate...           invscaling   \n",
       "7  {'learning_rate': 'adaptive', 'learning_rate_i...             adaptive   \n",
       "8  {'learning_rate': 'invscaling', 'learning_rate...           invscaling   \n",
       "9  {'learning_rate': 'constant', 'learning_rate_i...             constant   \n",
       "\n",
       "   params_learning_rate_init status      loss  \n",
       "0                       0.50     ok  0.342888  \n",
       "1                       0.01     ok  0.952649  \n",
       "2                       0.30     ok  0.971517  \n",
       "3                       0.30     ok  0.962083  \n",
       "4                       0.50     ok  0.503266  \n",
       "5                       0.30     ok  0.971517  \n",
       "6                       0.01     ok  0.952649  \n",
       "7                       0.01     ok  0.952649  \n",
       "8                       0.01     ok  0.962083  \n",
       "9                       0.01     ok  0.962083  "
      ]
     },
     "execution_count": 21,
     "metadata": {},
     "output_type": "execute_result"
    }
   ],
   "source": [
    "dfs[methods[-1]].drop(['loss', 'status'], 1)\n",
    "dfs[methods[-1]]"
   ]
  },
  {
   "cell_type": "code",
   "execution_count": 17,
   "metadata": {},
   "outputs": [
    {
     "data": {
      "text/html": [
       "<div>\n",
       "<style scoped>\n",
       "    .dataframe tbody tr th:only-of-type {\n",
       "        vertical-align: middle;\n",
       "    }\n",
       "\n",
       "    .dataframe tbody tr th {\n",
       "        vertical-align: top;\n",
       "    }\n",
       "\n",
       "    .dataframe thead th {\n",
       "        text-align: right;\n",
       "    }\n",
       "</style>\n",
       "<table border=\"1\" class=\"dataframe\">\n",
       "  <thead>\n",
       "    <tr style=\"text-align: right;\">\n",
       "      <th></th>\n",
       "      <th>name</th>\n",
       "      <th>mean_test_score</th>\n",
       "      <th>mean_fit_time</th>\n",
       "      <th>params_sampled</th>\n",
       "    </tr>\n",
       "  </thead>\n",
       "  <tbody>\n",
       "    <tr>\n",
       "      <th>0</th>\n",
       "      <td>Grid Search</td>\n",
       "      <td>0.767196</td>\n",
       "      <td>0.041758</td>\n",
       "      <td>9</td>\n",
       "    </tr>\n",
       "    <tr>\n",
       "      <th>1</th>\n",
       "      <td>Random Search</td>\n",
       "      <td>0.728042</td>\n",
       "      <td>0.046382</td>\n",
       "      <td>9</td>\n",
       "    </tr>\n",
       "    <tr>\n",
       "      <th>2</th>\n",
       "      <td>Bayes Seach</td>\n",
       "      <td>0.871429</td>\n",
       "      <td>0.056709</td>\n",
       "      <td>10</td>\n",
       "    </tr>\n",
       "  </tbody>\n",
       "</table>\n",
       "</div>"
      ],
      "text/plain": [
       "            name  mean_test_score  mean_fit_time params_sampled\n",
       "0    Grid Search         0.767196       0.041758              9\n",
       "1  Random Search         0.728042       0.046382              9\n",
       "2    Bayes Seach         0.871429       0.056709             10"
      ]
     },
     "execution_count": 17,
     "metadata": {},
     "output_type": "execute_result"
    }
   ],
   "source": [
    "n = 'name'\n",
    "mts = 'mean_test_score'\n",
    "mft = 'mean_fit_time'\n",
    "all_df = pd.DataFrame(columns=[n, mts, mft, 'params_sampled'])\n",
    "for i, m in enumerate(methods[1:4]):\n",
    "    all_df.loc[i] = [m, dfs[m][mts].mean(), dfs[m][mft].mean(),len(dfs[m].index)]\n",
    "all_df"
   ]
  },
  {
   "cell_type": "code",
   "execution_count": 18,
   "metadata": {},
   "outputs": [
    {
     "data": {
      "text/plain": [
       "<matplotlib.axes._subplots.AxesSubplot at 0x7fdb7a732780>"
      ]
     },
     "execution_count": 18,
     "metadata": {},
     "output_type": "execute_result"
    },
    {
     "data": {
      "image/png": "[encoded data removed]",
      "text/plain": [
       "<Figure size 432x288 with 1 Axes>"
      ]
     },
     "metadata": {
      "needs_background": "light"
     },
     "output_type": "display_data"
    }
   ],
   "source": [
    "sns.barplot(x=mts, y=n, data=all_df, color='m')\n"
   ]
  },
  {
   "cell_type": "code",
   "execution_count": 19,
   "metadata": {},
   "outputs": [],
   "source": [
    "conf_m = [[497, 52],[108, 234]]\n",
    "conf_m = np.array(conf_m)\n",
    "normalised = conf_m.astype('float')/ conf_m.sum(axis=1)[:,np.newaxis]"
   ]
  },
  {
   "cell_type": "code",
   "execution_count": 48,
   "metadata": {},
   "outputs": [
    {
     "data": {
      "image/png": "[encoded data removed]",
      "text/plain": [
       "<Figure size 216x216 with 2 Axes>"
      ]
     },
     "metadata": {
      "needs_background": "light"
     },
     "output_type": "display_data"
    }
   ],
   "source": [
    "r = []\n",
    "for i in res:\n",
    "    plt.figure()\n",
    "    r.append()\n",
    "    plot_confusion_matrix(i['conf_matrix'], classes=irisBunch.target_names)\n",
    "g = sns.FacetGrid(r)\n"
   ]
  },
  {
   "cell_type": "code",
   "execution_count": 49,
   "metadata": {},
   "outputs": [
    {
     "data": {
      "image/png": "[encoded data removed]",
      "text/plain": [
       "<Figure size 432x288 with 2 Axes>"
      ]
     },
     "metadata": {
      "needs_background": "light"
     },
     "output_type": "display_data"
    }
   ],
   "source": [
    "plot_confusion_matrix(r[0], classes=irisBunch.target_names)"
   ]
  },
  {
   "cell_type": "code",
   "execution_count": 50,
   "metadata": {},
   "outputs": [
    {
     "data": {
      "image/png": "[encoded data removed]",
      "text/plain": [
       "<Figure size 432x288 with 2 Axes>"
      ]
     },
     "metadata": {
      "needs_background": "light"
     },
     "output_type": "display_data"
    }
   ],
   "source": [
    "plot_confusion_matrix(r[1], classes=irisBunch.target_names)"
   ]
  },
  {
   "cell_type": "code",
   "execution_count": 51,
   "metadata": {},
   "outputs": [
    {
     "data": {
      "image/png": "[encoded data removed]",
      "text/plain": [
       "<Figure size 432x288 with 2 Axes>"
      ]
     },
     "metadata": {
      "needs_background": "light"
     },
     "output_type": "display_data"
    }
   ],
   "source": [
    "plot_confusion_matrix(r[3], classes=irisBunch.target_names)"
   ]
  },
  {
   "cell_type": "code",
   "execution_count": null,
   "metadata": {},
   "outputs": [],
   "source": [
    "# plot confusion matrix \n",
    "\n",
    "sns.heatmap(normalised, annot=True,annot_kws={\"size\": 16}, cmap=plt.cm.Blues)"
   ]
  },
  {
   "cell_type": "code",
   "execution_count": null,
   "metadata": {
    "collapsed": true
   },
   "outputs": [],
   "source": []
  },
  {
   "cell_type": "code",
   "execution_count": null,
   "metadata": {
    "collapsed": true
   },
   "outputs": [],
   "source": []
  },
  {
   "cell_type": "code",
   "execution_count": null,
   "metadata": {
    "collapsed": true
   },
   "outputs": [],
   "source": []
  },
  {
   "cell_type": "code",
   "execution_count": null,
   "metadata": {},
   "outputs": [],
   "source": [
    "sns.barplot(x=(('params_sampled')), y=n, data=all_df)"
   ]
  },
  {
   "cell_type": "code",
   "execution_count": null,
   "metadata": {},
   "outputs": [],
   "source": [
    "sns.barplot(x=mft, y=n, data=all_df, color='m')"
   ]
  },
  {
   "cell_type": "code",
   "execution_count": null,
   "metadata": {
    "collapsed": true
   },
   "outputs": [],
   "source": []
  },
  {
   "cell_type": "code",
   "execution_count": null,
   "metadata": {
    "collapsed": true
   },
   "outputs": [],
   "source": [
    "# define SVC\n",
    "m = mdl.load_SVC()\n",
    "hpt_objs = [\n",
    "        HPT_OBJ('Baseline', m.base, run_baseline, {}),\n",
    "        HPT_OBJ('Grid Search', m.param_grid, grid_search, {}),\n",
    "        HPT_OBJ('Random Search', m.param_grid, random_search, {'n_iter': MAX_ITER}),\n",
    "        HPT_OBJ('Bayes Seach', m.bayes_grid, baysian_search, {'n_iter':MAX_ITER}),\n",
    "        HPT_OBJ('Tree of Parzen Est.', m.hyperopt_grid, tpe_search, {})\n",
    "]\n",
    "loss=None\n",
    "\n",
    "models_targs.append({\n",
    "    'model': m.model,\n",
    "    'htp_objs': hpt_objs,\n",
    "    'loss': loss,\n",
    "    'metric': accuracy_score,\n",
    "})"
   ]
  },
  {
   "cell_type": "code",
   "execution_count": null,
   "metadata": {
    "collapsed": true
   },
   "outputs": [],
   "source": [
    "# define SVC\n",
    "m = mdl.load_RandomForestClassifier()\n",
    "hpt_objs = [\n",
    "        HPT_OBJ('Baseline', m.base, run_baseline, {}),\n",
    "        HPT_OBJ('Grid Search', m.param_grid, grid_search, {}),\n",
    "        HPT_OBJ('Random Search', m.param_grid, random_search, {'n_iter': MAX_ITER}),\n",
    "       # HPT_OBJ('Bayes Seach', m.bayes_grid, baysian_search, {'n_iter':MAX_ITER}),\n",
    "       # HPT_OBJ('Tree of Parzen Est.', m.hyperopt_grid, tpe_search, {})\n",
    "]\n",
    "loss=None\n",
    "\n",
    "models_targs.append({\n",
    "    'model': m.model,\n",
    "    'htp_objs': hpt_objs,\n",
    "    'loss': loss,\n",
    "    'metric': accuracy_score,\n",
    "})"
   ]
  },
  {
   "cell_type": "code",
   "execution_count": null,
   "metadata": {},
   "outputs": [],
   "source": [
    "# RUN TUNING\n",
    "all_results = []\n",
    "\n",
    "for m_args in models_targs:\n",
    "    for name in datasets:\n",
    "        d = datasets[name]\n",
    "        try:\n",
    "            result = cmp_hpt_methods(\n",
    "                (d.data, d.target),\n",
    "                **m_args,\n",
    "                random_state=1,\n",
    "                name=name\n",
    "            )\n",
    "            all_results.append(result)\n",
    "        except Exception as e:\n",
    "            print('!!!!!!!!!!!!!!!!!!')\n",
    "            print(m.model.__name__,name)\n",
    "            print(e)\n"
   ]
  },
  {
   "cell_type": "code",
   "execution_count": null,
   "metadata": {},
   "outputs": [],
   "source": [
    "len(all_results)"
   ]
  },
  {
   "cell_type": "code",
   "execution_count": null,
   "metadata": {
    "scrolled": false
   },
   "outputs": [],
   "source": []
  },
  {
   "cell_type": "code",
   "execution_count": null,
   "metadata": {},
   "outputs": [],
   "source": [
    " \n",
    "table_by_ds(all_results[0:4], ds_names)"
   ]
  },
  {
   "cell_type": "code",
   "execution_count": null,
   "metadata": {},
   "outputs": [],
   "source": [
    "for x in [MEAN+CV_TIME, MEAN+TEST_ACC]:\n",
    "    plot_by_ds(x, all_results[0:4], ds_names)\n",
    "    plot_by_ds(x, all_results[4:8], ds_names)\n",
    "    #plot_by_ds(x, all_results[8:12], ds_names)"
   ]
  },
  {
   "cell_type": "code",
   "execution_count": null,
   "metadata": {},
   "outputs": [],
   "source": [
    "pd.DataFrame(all_results[0])"
   ]
  }
 ],
 "metadata": {
  "kernelspec": {
   "display_name": "Python 3",
   "language": "python",
   "name": "python3"
  },
  "language_info": {
   "codemirror_mode": {
    "name": "ipython",
    "version": 3
   },
   "file_extension": ".py",
   "mimetype": "text/x-python",
   "name": "python",
   "nbconvert_exporter": "python",
   "pygments_lexer": "ipython3",
   "version": "3.6.6"
  }
 },
 "nbformat": 4,
 "nbformat_minor": 2
}
