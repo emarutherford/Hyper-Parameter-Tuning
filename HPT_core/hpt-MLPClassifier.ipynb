{
 "cells": [
  {
   "cell_type": "markdown",
   "metadata": {
    "collapsed": true
   },
   "source": [
    "# Hyperparameter Tuning Methods Comparision: Example\n",
    "\n",
    "Cross validation approach based on the following [repo](https://github.com/roamanalytics/roamresearch/tree/master/BlogPosts/Hyperparameter_tuning_comparison)\n"
   ]
  },
  {
   "cell_type": "code",
   "execution_count": 1,
   "metadata": {
    "collapsed": true
   },
   "outputs": [],
   "source": [
    "%matplotlib inline"
   ]
  },
  {
   "cell_type": "code",
   "execution_count": 23,
   "metadata": {},
   "outputs": [
    {
     "name": "stdout",
     "output_type": "stream",
     "text": [
      "The autoreload extension is already loaded. To reload it, use:\n",
      "  %reload_ext autoreload\n"
     ]
    }
   ],
   "source": [
    "%load_ext autoreload\n",
    "%autoreload 1\n",
    "%aimport hpt_cmp"
   ]
  },
  {
   "cell_type": "code",
   "execution_count": 24,
   "metadata": {},
   "outputs": [],
   "source": [
    "import warnings\n",
    "warnings.filterwarnings('ignore')"
   ]
  },
  {
   "cell_type": "code",
   "execution_count": 3,
   "metadata": {},
   "outputs": [],
   "source": [
    "import dataset_loader as ds\n",
    "import model_loader as mdl\n",
    "import seaborn as sns\n",
    "\n",
    "from hpt_cmp import *\n",
    "\n",
    "from sklearn import svm, tree, linear_model, neighbors, naive_bayes, ensemble, discriminant_analysis, gaussian_process, neural_network\n",
    "from sklearn.metrics import accuracy_score, f1_score,roc_auc_score ,make_scorer\n",
    "from tqdm import tqdm_notebook, tnrange\n",
    "from skopt.space import Real, Integer, Categorical"
   ]
  },
  {
   "cell_type": "code",
   "execution_count": 4,
   "metadata": {},
   "outputs": [
    {
     "data": {
      "text/plain": [
       "64"
      ]
     },
     "execution_count": 4,
     "metadata": {},
     "output_type": "execute_result"
    }
   ],
   "source": [
    "# basic sklearn classification DS\n",
    "dsBunch = ds.load('digits')\n",
    "data = (dsBunch.data, dsBunch.target)\n",
    "n_features = dsBunch.data.shape[1]\n",
    "n_features"
   ]
  },
  {
   "cell_type": "markdown",
   "metadata": {},
   "source": [
    "# MLPClassifier\n",
    "\n",
    "Parameters we tune for the MLPClassifier ([full documentation](http://scikit-learn.org/stable/modules/generated/sklearn.neural_network.MLPClassifier.html#sklearn.neural_network.MLPClassifier)):\n",
    "> `hidden_layer_sizes`: tuple <br>\n",
    "> `activation`: {'identity', 'logistic', 'tanh', *'relu'*} <br>\n",
    "> `solver`: {‘lbfgs’, ‘sgd’, *‘adam’*} <br>\n",
    "> `alpha`: float, *0.0001* --- regularization term <br>\n",
    "> `learning_rate`: {*‘constant’*, ‘invscaling’, ‘adaptive’} <br>\n",
    "> `learning_rate_init`: double, *0.001* <br>\n",
    "> `random_state` <br>\n",
    "> `momentum`: float, *0.9* <br>\n",
    "> `nesterovs_momentum`: bool, *True* <br>\n",
    "> `early_stopping`: bool, *False* <br>"
   ]
  },
  {
   "cell_type": "code",
   "execution_count": 25,
   "metadata": {},
   "outputs": [],
   "source": [
    "hls = [(100,)*10, (n_features,)*10, (100,)*5, (n_features,)*5]\n",
    "alpha = [0.0001, 0.001, 0.01, 0.1, 1]\n",
    "rs = [0]\n",
    "\n",
    "# sklean paramgrid\n",
    "pg = {\n",
    "    'hidden_layer_sizes': hls,\n",
    "    'alpha': alpha,\n",
    "    'random_state': rs\n",
    "}\n",
    "\n",
    "# hyperopt paramgird\n",
    "hg={\n",
    "    'hidden_layer_sizes': hp.choice('hidden_layer_sizes',hls),\n",
    "    'alpha': hp.choice('alpha', alpha),\n",
    "    'random_state': hp.choice('random_state', rs)\n",
    "}\n",
    "\n",
    "# skopt paramgrid \n",
    "bg = {\n",
    "    'hidden_layer_sizes': Categorical(hls),\n",
    "    'alpha': Real(0.001, 1.0, 'loguniform'),\n",
    "    'random_state': rs\n",
    "}\n",
    "\n",
    "# base model parameters\n",
    "base = {'hidden_layer_sizes':(100,), 'random_state':0}"
   ]
  },
  {
   "cell_type": "code",
   "execution_count": 26,
   "metadata": {},
   "outputs": [],
   "source": [
    "# define MLPClassifier\n",
    "hpt_objs = [\n",
    "        HPT_OBJ('Baseline', base, run_baseline, {}),\n",
    "        HPT_OBJ('Grid Search', pg, grid_search, {}),\n",
    "        HPT_OBJ('Random Search', pg, random_search, {'n_iter': MAX_ITER}),\n",
    "        HPT_OBJ('Bayes Seach', bg, baysian_search, {'n_iter':MAX_ITER}),\n",
    "        HPT_OBJ('Tree of Parzen Est.', hg, tpe_search, {})\n",
    "]\n",
    "\n",
    "mlpc ={\n",
    "    'model': neural_network.MLPClassifier,\n",
    "    'hpt_objs': hpt_objs,\n",
    "    'loss': 'neg_log_loss',\n",
    "    'metric': accuracy_score,\n",
    "}"
   ]
  },
  {
   "cell_type": "code",
   "execution_count": 27,
   "metadata": {},
   "outputs": [
    {
     "name": "stdout",
     "output_type": "stream",
     "text": [
      "10 5\n"
     ]
    },
    {
     "data": {
      "application/vnd.jupyter.widget-view+json": {
       "model_id": "6a2b92c63c994c65a39811a41df2427f",
       "version_major": 2,
       "version_minor": 0
      },
      "text/plain": [
       "HBox(children=(IntProgress(value=0, max=5), HTML(value='')))"
      ]
     },
     "metadata": {},
     "output_type": "display_data"
    },
    {
     "name": "stdout",
     "output_type": "stream",
     "text": [
      "64\n",
      "{'hidden_layer_sizes': (100,), 'random_state': 0}\n",
      "-0.10342033921362101\n",
      "-0.10342033921362101\n",
      "64\n",
      "{'alpha': 0.001, 'hidden_layer_sizes': (64, 64, 64, 64, 64), 'random_state': 0}\n",
      "-0.1461845800266814\n",
      "-0.1461845800266814\n",
      "64\n",
      "{'alpha': 1, 'hidden_layer_sizes': (100, 100, 100, 100, 100), 'random_state': 0}\n",
      "-0.256846529069653\n",
      "-0.256846529069653\n",
      "64\n",
      "{'alpha': 0.1, 'hidden_layer_sizes': (64, 64, 64, 64, 64, 64, 64, 64, 64, 64), 'random_state': 0}\n",
      "-0.18908793794441622\n",
      "-0.18908793794441622\n",
      "64\n",
      "{'alpha': 0.01, 'hidden_layer_sizes': (100, 100, 100, 100, 100), 'random_state': 0}\n",
      "-0.08814028198556574\n",
      "-0.08814028198556574\n",
      "64\n",
      "{'alpha': 0.0001, 'hidden_layer_sizes': (64, 64, 64, 64, 64, 64, 64, 64, 64, 64), 'random_state': 0}\n",
      "-0.16365976556769493\n",
      "-0.16365976556769493\n",
      "64\n",
      "{'alpha': 0.1, 'hidden_layer_sizes': (100, 100, 100, 100, 100, 100, 100, 100, 100, 100), 'random_state': 0}\n",
      "-0.1529520485923856\n",
      "-0.1529520485923856\n",
      "64\n",
      "{'alpha': 0.001, 'hidden_layer_sizes': (100, 100, 100, 100, 100, 100, 100, 100, 100, 100), 'random_state': 0}\n",
      "-0.31964986375355975\n",
      "-0.31964986375355975\n",
      "64\n",
      "{'alpha': 0.0001, 'hidden_layer_sizes': (64, 64, 64, 64, 64, 64, 64, 64, 64, 64), 'random_state': 0}\n",
      "-0.16365976556769493\n",
      "-0.16365976556769493\n",
      "64\n",
      "{'alpha': 1, 'hidden_layer_sizes': (64, 64, 64, 64, 64), 'random_state': 0}\n",
      "-0.24264424331519532\n",
      "-0.24264424331519532\n",
      "64\n",
      "{'alpha': 1, 'hidden_layer_sizes': (64, 64, 64, 64, 64), 'random_state': 0}\n",
      "-0.24264424331519532\n",
      "-0.24264424331519532\n",
      "\n"
     ]
    }
   ],
   "source": [
    "# run tuning with all the specified algorithms \n",
    "res = cmp_hpt_methods(data, **mlpc)"
   ]
  },
  {
   "cell_type": "code",
   "execution_count": 31,
   "metadata": {},
   "outputs": [],
   "source": [
    "sum_res = []\n",
    "for r in res:\n",
    "    t = np.array(r[INNER_RES]['mean_fit_time']).mean()\n",
    "    sum_res.append((r[HPT_METHOD], t, r[PARAMS_SAMPLED], r[TEST_ACC], r[BEST_PARAMS]))\n",
    "                   \n",
    "df = pd.DataFrame(sum_res, columns=[HPT_METHOD, 'TIME', PARAMS_SAMPLED, TEST_ACC, BEST_PARAMS])"
   ]
  },
  {
   "cell_type": "code",
   "execution_count": 32,
   "metadata": {},
   "outputs": [
    {
     "data": {
      "text/html": [
       "<div>\n",
       "<style scoped>\n",
       "    .dataframe tbody tr th:only-of-type {\n",
       "        vertical-align: middle;\n",
       "    }\n",
       "\n",
       "    .dataframe tbody tr th {\n",
       "        vertical-align: top;\n",
       "    }\n",
       "\n",
       "    .dataframe thead th {\n",
       "        text-align: right;\n",
       "    }\n",
       "</style>\n",
       "<table border=\"1\" class=\"dataframe\">\n",
       "  <thead>\n",
       "    <tr style=\"text-align: right;\">\n",
       "      <th></th>\n",
       "      <th>HPT method</th>\n",
       "      <th>TIME</th>\n",
       "      <th>Parameters sampled</th>\n",
       "      <th>Test accuracy</th>\n",
       "      <th>Best Parameters</th>\n",
       "    </tr>\n",
       "  </thead>\n",
       "  <tbody>\n",
       "    <tr>\n",
       "      <th>0</th>\n",
       "      <td>Baseline</td>\n",
       "      <td>1.428988</td>\n",
       "      <td>11</td>\n",
       "      <td>0.962963</td>\n",
       "      <td>{'hidden_layer_sizes': (100,), 'random_state': 0}</td>\n",
       "    </tr>\n",
       "    <tr>\n",
       "      <th>1</th>\n",
       "      <td>Grid Search</td>\n",
       "      <td>2.667392</td>\n",
       "      <td>23</td>\n",
       "      <td>0.974074</td>\n",
       "      <td>{'alpha': 0.1, 'hidden_layer_sizes': (100, 100...</td>\n",
       "    </tr>\n",
       "    <tr>\n",
       "      <th>2</th>\n",
       "      <td>Random Search</td>\n",
       "      <td>2.482367</td>\n",
       "      <td>23</td>\n",
       "      <td>0.972222</td>\n",
       "      <td>{'random_state': 0, 'hidden_layer_sizes': (100...</td>\n",
       "    </tr>\n",
       "    <tr>\n",
       "      <th>3</th>\n",
       "      <td>Bayes Seach</td>\n",
       "      <td>4.665588</td>\n",
       "      <td>16</td>\n",
       "      <td>0.975926</td>\n",
       "      <td>{'alpha': 0.03237092834973749, 'hidden_layer_s...</td>\n",
       "    </tr>\n",
       "    <tr>\n",
       "      <th>4</th>\n",
       "      <td>Tree of Parzen Est.</td>\n",
       "      <td>2.919112</td>\n",
       "      <td>12</td>\n",
       "      <td>0.972222</td>\n",
       "      <td>{'alpha': 0.01, 'hidden_layer_sizes': (100, 10...</td>\n",
       "    </tr>\n",
       "  </tbody>\n",
       "</table>\n",
       "</div>"
      ],
      "text/plain": [
       "            HPT method      TIME  Parameters sampled  Test accuracy  \\\n",
       "0             Baseline  1.428988                  11       0.962963   \n",
       "1          Grid Search  2.667392                  23       0.974074   \n",
       "2        Random Search  2.482367                  23       0.972222   \n",
       "3          Bayes Seach  4.665588                  16       0.975926   \n",
       "4  Tree of Parzen Est.  2.919112                  12       0.972222   \n",
       "\n",
       "                                     Best Parameters  \n",
       "0  {'hidden_layer_sizes': (100,), 'random_state': 0}  \n",
       "1  {'alpha': 0.1, 'hidden_layer_sizes': (100, 100...  \n",
       "2  {'random_state': 0, 'hidden_layer_sizes': (100...  \n",
       "3  {'alpha': 0.03237092834973749, 'hidden_layer_s...  \n",
       "4  {'alpha': 0.01, 'hidden_layer_sizes': (100, 10...  "
      ]
     },
     "execution_count": 32,
     "metadata": {},
     "output_type": "execute_result"
    }
   ],
   "source": [
    "df"
   ]
  },
  {
   "cell_type": "code",
   "execution_count": 33,
   "metadata": {},
   "outputs": [
    {
     "data": {
      "text/plain": [
       "<matplotlib.axes._subplots.AxesSubplot at 0x7fd5b1a37400>"
      ]
     },
     "execution_count": 33,
     "metadata": {},
     "output_type": "execute_result"
    },
    {
     "data": {
      "image/png": "[encoded data removed]",
      "text/plain": [
       "<Figure size 432x288 with 1 Axes>"
      ]
     },
     "metadata": {
      "needs_background": "light"
     },
     "output_type": "display_data"
    },
    {
     "data": {
      "text/plain": [
       "<Figure size 432x288 with 0 Axes>"
      ]
     },
     "metadata": {},
     "output_type": "display_data"
    },
    {
     "data": {
      "image/png": "[encoded data removed]",
      "text/plain": [
       "<Figure size 432x288 with 1 Axes>"
      ]
     },
     "metadata": {
      "needs_background": "light"
     },
     "output_type": "display_data"
    }
   ],
   "source": [
    "# plot comparison\n",
    "plt.figure()\n",
    "sns.barplot(x='TIME', y=HPT_METHOD,data =df, color='b')\n",
    "plt.figure()\n",
    "# plot accuracy comparison\n",
    "fig, ax =plt.subplots()\n",
    "ax.set(xlim=(0.94, 1.0))\n",
    "sns.barplot(x=TEST_ACC, y=HPT_METHOD, ax = ax,data =df, color='b')"
   ]
  },
  {
   "cell_type": "code",
   "execution_count": 34,
   "metadata": {},
   "outputs": [
    {
     "data": {
      "text/html": [
       "<div>\n",
       "<style scoped>\n",
       "    .dataframe tbody tr th:only-of-type {\n",
       "        vertical-align: middle;\n",
       "    }\n",
       "\n",
       "    .dataframe tbody tr th {\n",
       "        vertical-align: top;\n",
       "    }\n",
       "\n",
       "    .dataframe thead th {\n",
       "        text-align: right;\n",
       "    }\n",
       "</style>\n",
       "<table border=\"1\" class=\"dataframe\">\n",
       "  <thead>\n",
       "    <tr style=\"text-align: right;\">\n",
       "      <th></th>\n",
       "      <th>alpha</th>\n",
       "      <th>hidden_layer_sizes</th>\n",
       "      <th>random_state</th>\n",
       "    </tr>\n",
       "  </thead>\n",
       "  <tbody>\n",
       "    <tr>\n",
       "      <th>0</th>\n",
       "      <td>NaN</td>\n",
       "      <td>(100,)</td>\n",
       "      <td>0</td>\n",
       "    </tr>\n",
       "    <tr>\n",
       "      <th>1</th>\n",
       "      <td>0.100000</td>\n",
       "      <td>(100, 100, 100, 100, 100)</td>\n",
       "      <td>0</td>\n",
       "    </tr>\n",
       "    <tr>\n",
       "      <th>2</th>\n",
       "      <td>0.000100</td>\n",
       "      <td>(100, 100, 100, 100, 100)</td>\n",
       "      <td>0</td>\n",
       "    </tr>\n",
       "    <tr>\n",
       "      <th>3</th>\n",
       "      <td>0.032371</td>\n",
       "      <td>(100, 100, 100, 100, 100)</td>\n",
       "      <td>0</td>\n",
       "    </tr>\n",
       "    <tr>\n",
       "      <th>4</th>\n",
       "      <td>0.010000</td>\n",
       "      <td>(100, 100, 100, 100, 100)</td>\n",
       "      <td>0</td>\n",
       "    </tr>\n",
       "  </tbody>\n",
       "</table>\n",
       "</div>"
      ],
      "text/plain": [
       "      alpha         hidden_layer_sizes  random_state\n",
       "0       NaN                     (100,)             0\n",
       "1  0.100000  (100, 100, 100, 100, 100)             0\n",
       "2  0.000100  (100, 100, 100, 100, 100)             0\n",
       "3  0.032371  (100, 100, 100, 100, 100)             0\n",
       "4  0.010000  (100, 100, 100, 100, 100)             0"
      ]
     },
     "execution_count": 34,
     "metadata": {},
     "output_type": "execute_result"
    }
   ],
   "source": [
    "pd.DataFrame(df[BEST_PARAMS].tolist())"
   ]
  },
  {
   "cell_type": "code",
   "execution_count": null,
   "metadata": {},
   "outputs": [],
   "source": []
  },
  {
   "cell_type": "code",
   "execution_count": null,
   "metadata": {},
   "outputs": [],
   "source": []
  }
 ],
 "metadata": {
  "kernelspec": {
   "display_name": "Python 3",
   "language": "python",
   "name": "python3"
  },
  "language_info": {
   "codemirror_mode": {
    "name": "ipython",
    "version": 3
   },
   "file_extension": ".py",
   "mimetype": "text/x-python",
   "name": "python",
   "nbconvert_exporter": "python",
   "pygments_lexer": "ipython3",
   "version": "3.6.6"
  }
 },
 "nbformat": 4,
 "nbformat_minor": 2
}
