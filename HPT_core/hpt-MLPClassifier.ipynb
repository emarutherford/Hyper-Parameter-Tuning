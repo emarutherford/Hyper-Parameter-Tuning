{
 "cells": [
  {
   "cell_type": "markdown",
   "metadata": {
    "collapsed": true
   },
   "source": [
    "# Hyperparameter Tuning Methods Comparision: Example\n",
    "\n",
    "Cross validation approach based on the following [repo](https://github.com/roamanalytics/roamresearch/tree/master/BlogPosts/Hyperparameter_tuning_comparison)\n"
   ]
  },
  {
   "cell_type": "code",
   "execution_count": 1,
   "metadata": {
    "collapsed": true
   },
   "outputs": [],
   "source": [
    "%matplotlib inline"
   ]
  },
  {
   "cell_type": "code",
   "execution_count": 2,
   "metadata": {},
   "outputs": [],
   "source": [
    "%load_ext autoreload\n",
    "%autoreload 1\n",
    "%aimport hpt_cmp"
   ]
  },
  {
   "cell_type": "code",
   "execution_count": 3,
   "metadata": {
    "collapsed": true
   },
   "outputs": [],
   "source": [
    "from hpt_cmp import *"
   ]
  },
  {
   "cell_type": "code",
   "execution_count": 4,
   "metadata": {},
   "outputs": [],
   "source": [
    "import matplotlib.pyplot as plt\n",
    "import numpy as np\n",
    "\n",
    "from dotmap import DotMap\n",
    "from sklearn import datasets\n",
    "#from sklearn.model_selection import train_test_split, StratifiedKFold\n",
    "from sklearn.model_selection import GridSearchCV\n",
    "from sklearn.metrics import accuracy_score\n",
    "#from sklearn.svm import SVC\n",
    "from sklearn.neural_network import MLPClassifier\n"
   ]
  },
  {
   "cell_type": "code",
   "execution_count": 5,
   "metadata": {
    "collapsed": true
   },
   "outputs": [],
   "source": [
    "# basic sklearn classification DS\n",
    "dataset = datasets.load_digits() "
   ]
  },
  {
   "cell_type": "markdown",
   "metadata": {},
   "source": [
    "# MLPClassifier\n",
    "\n",
    "Parameters for the MLPClassifier ([full documentation](http://scikit-learn.org/stable/modules/generated/sklearn.neural_network.MLPClassifier.html#sklearn.neural_network.MLPClassifier)):\n",
    "> `hidden_layer_sizes`: tuple <br>\n",
    "> `activation`: {'identity', 'logistic', 'tanh', *'relu'*} <br>\n",
    "> `solver`: {‘lbfgs’, ‘sgd’, *‘adam’*} <br>\n",
    "> `alpha`: float, *0.0001* --- regularization term <br>\n",
    "> `batch_size`: int, *auto* <br>\n",
    "> `learning_rate`: {*‘constant’*, ‘invscaling’, ‘adaptive’} <br>\n",
    "> `learning_rate_init`: double, *0.001* <br>\n",
    "> `power_t`: double, *0.5* <br>\n",
    "> `max_iter`: int, *200* <br>\n",
    "> `shuffle`: bool, *True* <br>\n",
    "> `random_state` <br>\n",
    "> `tol`: float, *1e-4* <br>\n",
    "> `verbose`: bool <br>\n",
    "> `warm_start`: bool <br>\n",
    "> `momentum`: float, *0.9* <br>\n",
    "> `nesterovs_momentum`: bool, *True* <br>\n",
    "> `early_stopping`: bool, *False* <br>\n",
    "> `validatino_fraction`: float, *0.1* <br>\n",
    "> `beta_1`: float, *0.9* <br>\n",
    "> `beta_2`: float, *0.999* <br>\n",
    "> `epsilon`: float, *1e-8* <br>\n",
    "> `n_iter_no_change`: int *10*"
   ]
  },
  {
   "cell_type": "code",
   "execution_count": 6,
   "metadata": {},
   "outputs": [],
   "source": [
    "param_grid = {\n",
    "    #'activation': ('relu', 'tanh', 'logistic'),\n",
    "    #'solver': ('sgd', 'adam'),\n",
    "    #'hidden_layer_sizes'\n",
    "    'learning_rate': ('constant', 'invscaling', 'adaptive'),\n",
    "    'learning_rate_init': [0.01, 0.3, 0.5]\n",
    "}"
   ]
  },
  {
   "cell_type": "code",
   "execution_count": 7,
   "metadata": {},
   "outputs": [],
   "source": [
    "# define hpt_obj\n",
    "hpt_objs = [{\n",
    "        'name': 'GridSearch',\n",
    "        'cv': grid_search,\n",
    "        'param_grid': param_grid,\n",
    "        'args' : {}\n",
    "    }]\n",
    "\n",
    "hpt_objs = [DotMap(obj) for obj in hpt_objs ]"
   ]
  },
  {
   "cell_type": "code",
   "execution_count": null,
   "metadata": {
    "collapsed": true
   },
   "outputs": [],
   "source": []
  },
  {
   "cell_type": "code",
   "execution_count": null,
   "metadata": {
    "collapsed": true
   },
   "outputs": [],
   "source": []
  },
  {
   "cell_type": "code",
   "execution_count": 8,
   "metadata": {},
   "outputs": [
    {
     "name": "stdout",
     "output_type": "stream",
     "text": [
      "Start\n",
      "Here\n",
      "HTP using GridSearch\n",
      "<generator object _BaseKFold.split at 0x7f1084bf6888>\n"
     ]
    },
    {
     "data": {
      "application/vnd.jupyter.widget-view+json": {
       "model_id": "8705e28f00b842e2aa31bbb2ebe72963",
       "version_major": 2,
       "version_minor": 0
      },
      "text/plain": [
       "HBox(children=(IntProgress(value=0, max=5), HTML(value='')))"
      ]
     },
     "metadata": {},
     "output_type": "display_data"
    },
    {
     "name": "stderr",
     "output_type": "stream",
     "text": [
      "/home/tonia/uni/ml/Hyper-Parameter-Tuning/env/lib64/python3.6/site-packages/sklearn/model_selection/_search.py:841: DeprecationWarning: The default of the `iid` parameter will change from True to False in version 0.22 and will be removed in 0.24. This will change numeric results when test-set sizes are unequal.\n",
      "  DeprecationWarning)\n",
      "/home/tonia/uni/ml/Hyper-Parameter-Tuning/env/lib64/python3.6/site-packages/sklearn/model_selection/_search.py:841: DeprecationWarning: The default of the `iid` parameter will change from True to False in version 0.22 and will be removed in 0.24. This will change numeric results when test-set sizes are unequal.\n",
      "  DeprecationWarning)\n",
      "/home/tonia/uni/ml/Hyper-Parameter-Tuning/env/lib64/python3.6/site-packages/sklearn/model_selection/_search.py:841: DeprecationWarning: The default of the `iid` parameter will change from True to False in version 0.22 and will be removed in 0.24. This will change numeric results when test-set sizes are unequal.\n",
      "  DeprecationWarning)\n",
      "/home/tonia/uni/ml/Hyper-Parameter-Tuning/env/lib64/python3.6/site-packages/sklearn/model_selection/_search.py:841: DeprecationWarning: The default of the `iid` parameter will change from True to False in version 0.22 and will be removed in 0.24. This will change numeric results when test-set sizes are unequal.\n",
      "  DeprecationWarning)\n",
      "/home/tonia/uni/ml/Hyper-Parameter-Tuning/env/lib64/python3.6/site-packages/sklearn/model_selection/_search.py:841: DeprecationWarning: The default of the `iid` parameter will change from True to False in version 0.22 and will be removed in 0.24. This will change numeric results when test-set sizes are unequal.\n",
      "  DeprecationWarning)\n"
     ]
    },
    {
     "name": "stdout",
     "output_type": "stream",
     "text": [
      "\n"
     ]
    },
    {
     "data": {
      "text/plain": [
       "[{'Model': 'MLPClassifier',\n",
       "  'Hyper optimization method': 'GridSearch',\n",
       "  'Test accuracy': [0.9560439560439561,\n",
       "   0.925414364640884,\n",
       "   0.958217270194986,\n",
       "   0.9523809523809523,\n",
       "   0.9042253521126761],\n",
       "  'Best Parameters': [{'learning_rate': 'adaptive',\n",
       "    'learning_rate_init': 0.01},\n",
       "   {'learning_rate': 'constant', 'learning_rate_init': 0.01},\n",
       "   {'learning_rate': 'adaptive', 'learning_rate_init': 0.01},\n",
       "   {'learning_rate': 'invscaling', 'learning_rate_init': 0.01},\n",
       "   {'learning_rate': 'constant', 'learning_rate_init': 0.01}],\n",
       "  'Parameters sampled': [9, 9, 9, 9, 9],\n",
       "  'Cross validation time (in s)': [18.050228357315063,\n",
       "   15.089909076690674,\n",
       "   16.60031032562256,\n",
       "   16.267699718475342,\n",
       "   15.491988182067871],\n",
       "  'Mean Test accuracy': 0.9392563790746908,\n",
       "  'Mean Cross validation time (in s)': 16.3000271320343,\n",
       "  'Mean Parameters sampled': 9.0}]"
      ]
     },
     "execution_count": 8,
     "metadata": {},
     "output_type": "execute_result"
    }
   ],
   "source": [
    "results = cmp_hpt_methods(\n",
    "    hpt_objs,\n",
    "    MLPClassifier,\n",
    "    (dataset.data, dataset.target),\n",
    "    'log_loss',\n",
    "    accuracy_score)\n",
    "results"
   ]
  },
  {
   "cell_type": "code",
   "execution_count": null,
   "metadata": {
    "collapsed": true
   },
   "outputs": [],
   "source": []
  }
 ],
 "metadata": {
  "kernelspec": {
   "display_name": "Python 3",
   "language": "python",
   "name": "python3"
  },
  "language_info": {
   "codemirror_mode": {
    "name": "ipython",
    "version": 3
   },
   "file_extension": ".py",
   "mimetype": "text/x-python",
   "name": "python",
   "nbconvert_exporter": "python",
   "pygments_lexer": "ipython3",
   "version": "3.6.6"
  }
 },
 "nbformat": 4,
 "nbformat_minor": 2
}
